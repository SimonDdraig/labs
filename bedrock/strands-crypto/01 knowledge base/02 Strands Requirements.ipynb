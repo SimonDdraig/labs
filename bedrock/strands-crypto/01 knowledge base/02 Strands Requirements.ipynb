{
 "cells": [
  {
   "cell_type": "markdown",
   "metadata": {},
   "source": [
    "# <p style=\"color:dodgerblue\">02 Create Strands Agent</p>\n",
    "*With Strands, you can create a Strands agent that can converse with knowledge bases, tools of all types using a LLM model to parse prompts and responses*  \n",
    "https://strandsagents.com/latest/\n",
    "\n",
    "\n",
    "- this notebook creates the following:\n",
    "  - lambdas\n",
    "    - strands agent\n",
    "    - api tools\n",
    "  - iam\n",
    "    - roles\n",
    "    - policies\n",
    "- includes clean up cells to delete all above  \n",
    "  \n",
    "(developed with Kernel .venv 3.13.5)\n",
    "<hr style=\"border:1px dotted; color:floralwhite\">"
   ]
  },
  {
   "cell_type": "markdown",
   "metadata": {},
   "source": [
    "# <span style=\"color:deeppink\">GETTING STARTED</span>\n",
    "# Requirements for this Lab (macOS)\n",
    "- *See <span style=\"color:gold\">Appendix</span> at the bottom of this lab to install macOS requirements, windows requirements will be similar, apart from Homebrew.*  \n",
    "  \n",
    "- Credentials to the AWS account this notebook executes in is provided by AWS configure\n",
    "  - You must already have an IAM user with code (Command Line Interface) access and AWS access keys to be able to use these credentials in AWS configure  \n",
    "    \n",
    "  - arn:aws:iam::###########:user/simon-davies-cli created for this lab"
   ]
  },
  {
   "cell_type": "markdown",
   "metadata": {},
   "source": [
    "<hr style=\"border:1px dotted\">\n",
    "<hr style=\"border:1px dotted;color:greenyellow\">"
   ]
  },
  {
   "cell_type": "markdown",
   "metadata": {},
   "source": [
    "# <p style=\"color:greenyellow\">Set Up Requirements</p>\n",
    "- we do these setup cells here because we can then use the vars and clients to clean up resources later without having to run multiple cells if we lose the kernel  \n",
    "  \n",
    "-  <span style=\"color:greenyellow\">Please note we use us-east-1, region as Bedrock is limited in other reasons<span>\n",
    "\n",
    "- vars"
   ]
  },
  {
   "cell_type": "markdown",
   "metadata": {},
   "source": [
    "# <p style=\"color:gold\">Appendix - Jupyter Install Requirements (macOS)</p>\n",
    "#### <p style=\"color:deeppink\">- If you are running VSCode on a laptop, follow all of below.<br>- If you are running Jupyter inside an AWS Account, you don't need to do anything!</p>\n",
    "\n",
    "  - Credentials to the AWS account this notebook executes in is provided by AWS configure\n",
    "  - You must already have an IAM user with code (Command Line Interface) access and AWS access keys to be able to use these credentials in AWS configure  \n",
    "    \n",
    "  - arn:aws:iam::###########:user/simon-davies-cli created for this lab  \n",
    "\n",
    "### <p style=\"color:gold\">1. Homebrew</p> \n",
    "If you haven't installed Homebrew, you can install it by running the following command here or in the terminal:"
   ]
  },
  {
   "cell_type": "code",
   "execution_count": null,
   "metadata": {},
   "outputs": [],
   "source": [
    "%%bash\n",
    "sudo /bin/bash -c \"$(curl -fsSL https://raw.githubusercontent.com/Homebrew/install/HEAD/install.sh)\""
   ]
  },
  {
   "cell_type": "markdown",
   "metadata": {},
   "source": [
    "### <p style=\"color:gold\">1.1 Python</p> \n",
    "Once Homebrew is installed, you can install Python using the following command  \n",
    "*check what you have before installing/upgrading*  \n",
    "*you will need to quit and restart vsCode to use python once installed (or updated)*"
   ]
  },
  {
   "cell_type": "code",
   "execution_count": null,
   "metadata": {
    "vscode": {
     "languageId": "shellscript"
    }
   },
   "outputs": [],
   "source": [
    "%%bash\n",
    "python3 --version\n",
    "which python3"
   ]
  },
  {
   "cell_type": "code",
   "execution_count": null,
   "metadata": {
    "vscode": {
     "languageId": "shellscript"
    }
   },
   "outputs": [],
   "source": [
    "%%bash\n",
    "brew install python"
   ]
  },
  {
   "cell_type": "markdown",
   "metadata": {},
   "source": [
    "### <p style=\"color:gold\">1.2 Virtual Environments</p> \n",
    "- You can create a virtual environment that ensures any libraries you install are restricted to the venv.\n",
    "  - https://code.visualstudio.com/docs/python/environments\n",
    "- To enable the virtual environment once you have created it, ensure you open the folder in vs code rather than individual files."
   ]
  },
  {
   "cell_type": "code",
   "execution_count": null,
   "metadata": {
    "vscode": {
     "languageId": "shellscript"
    }
   },
   "outputs": [],
   "source": [
    "%%bash\n",
    "source .venv/bin/activate\n",
    "pip install ipykernel\n",
    "python -m ipykernel install --user --name=.venv --display-name \"Python (.venv)\""
   ]
  },
  {
   "cell_type": "markdown",
   "metadata": {},
   "source": [
    "### <p style=\"color:gold\">2. boto3 and other Python requirements</p> \n",
    "* boto3 must be installed on your client\n",
    "  * *Boto3 is the Amazon Web Services (AWS) Software Development Kit (SDK) for Python, which allows Python developers to write software that makes use of services like Amazon S3 and Amazon EC2.*\n",
    "  * https://boto3.amazonaws.com/v1/documentation/api/latest/index.html  \n",
    "  \n",
    "*check what you have before installing/upgrading*  \n",
    "- Do not install if you already have the necessary libraries"
   ]
  },
  {
   "cell_type": "code",
   "execution_count": null,
   "metadata": {
    "vscode": {
     "languageId": "shellscript"
    }
   },
   "outputs": [],
   "source": [
    "%%bash\n",
    "python3 -m pip show boto3"
   ]
  },
  {
   "cell_type": "code",
   "execution_count": null,
   "metadata": {
    "vscode": {
     "languageId": "shellscript"
    }
   },
   "outputs": [],
   "source": [
    "%%bash\n",
    "pip install -U boto3"
   ]
  },
  {
   "cell_type": "markdown",
   "metadata": {},
   "source": [
    "- strands requirements  \n",
    "https://strandsagents.com/latest/user-guide/quickstart/"
   ]
  },
  {
   "cell_type": "code",
   "execution_count": null,
   "metadata": {
    "vscode": {
     "languageId": "shellscript"
    }
   },
   "outputs": [],
   "source": [
    "%%bash\n",
    "pip install strands"
   ]
  },
  {
   "cell_type": "code",
   "execution_count": null,
   "metadata": {
    "vscode": {
     "languageId": "shellscript"
    }
   },
   "outputs": [],
   "source": [
    "%%bash\n",
    "pip install strands-agents"
   ]
  },
  {
   "cell_type": "code",
   "execution_count": null,
   "metadata": {
    "vscode": {
     "languageId": "shellscript"
    }
   },
   "outputs": [],
   "source": [
    "%%bash\n",
    "pip install strands-agents-tools\n",
    "pip install strands-agents-builder"
   ]
  },
  {
   "cell_type": "markdown",
   "metadata": {},
   "source": [
    "### <p style=\"color:gold\">3. aws configure</p> \n",
    "*Configure aws configure with credentials, and a user that has all of the Bedrock IAM policies required*  \n",
    "https://docs.aws.amazon.com/bedrock/latest/userguide/security_iam_id-based-policy-examples.html"
   ]
  },
  {
   "cell_type": "code",
   "execution_count": null,
   "metadata": {
    "vscode": {
     "languageId": "shellscript"
    }
   },
   "outputs": [],
   "source": [
    "%%bash\n",
    "aws sts get-caller-identity"
   ]
  },
  {
   "cell_type": "markdown",
   "metadata": {},
   "source": [
    "### <p style=\"color:gold\">4. Request Bedrock model access</p> \n",
    "*You must request access to the models required, you may need to provide use case details before you are able to request*  \n",
    "*Make sure you request in the region you intend to use the models in, check what this lab is in*  \n",
    "https://us-east-1.console.aws.amazon.com/bedrock/home?region=us-east-1#/modelaccess  \n",
    "\n",
    "Models required in this lab:\n",
    "\n",
    "* See code above for use of models and what access to request\n",
    "\n",
    "#### Pricing\n",
    "*Use 6 characters per token as an approximation for the number of tokens.*  \n",
    "https://aws.amazon.com/bedrock/pricing/  \n",
    "https://docs.aws.amazon.com/bedrock/latest/userguide/model-customization-prepare.html"
   ]
  },
  {
   "cell_type": "markdown",
   "metadata": {},
   "source": [
    "<hr style=\"border:1px dotted;color:gold\">"
   ]
  }
 ],
 "metadata": {
  "kernelspec": {
   "display_name": ".venv",
   "language": "python",
   "name": "python3"
  },
  "language_info": {
   "codemirror_mode": {
    "name": "ipython",
    "version": 3
   },
   "file_extension": ".py",
   "mimetype": "text/x-python",
   "name": "python",
   "nbconvert_exporter": "python",
   "pygments_lexer": "ipython3",
   "version": "3.13.5"
  }
 },
 "nbformat": 4,
 "nbformat_minor": 2
}
