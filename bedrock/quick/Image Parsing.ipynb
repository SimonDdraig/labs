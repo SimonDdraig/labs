{
 "cells": [
  {
   "cell_type": "markdown",
   "metadata": {},
   "source": [
    "# <p style=\"color:dodgerblue\">Image Parsing in Bedrock</p>\n",
    "<hr style=\"border:1px dotted; color:floralwhite\">"
   ]
  },
  {
   "cell_type": "markdown",
   "metadata": {},
   "source": [
    "# Requirements for this lab\n",
    "*See <span style=\"color:gold\">Appendix</span> at the bottom of this lab to install requirements for this lab*"
   ]
  },
  {
   "cell_type": "markdown",
   "metadata": {},
   "source": [
    "<hr style=\"border:1px dotted\">\n",
    "<hr style=\"border:1px dotted;color:cadetblue\">"
   ]
  },
  {
   "cell_type": "markdown",
   "metadata": {},
   "source": [
    "# <p style=\"color:cadetblue\">Import libraries and set clients</p>\n",
    "*If the following does not show the latest (installed or upgraded) boto3 (at least v1.29.6), restart the kernel*"
   ]
  },
  {
   "cell_type": "code",
   "execution_count": 38,
   "metadata": {},
   "outputs": [],
   "source": [
    "import boto3, json\n",
    "import base64\n",
    "import pprint\n",
    "\n",
    "# region_name is important especially if you auth via aws configure and it is set to a region where there is no Bedrock yet\n",
    "#define common vars\n",
    "myRegion='us-west-2'\n",
    "\n",
    "# get clients\n",
    "bedrockRun = boto3.client(service_name='bedrock-runtime', region_name=myRegion)\n",
    "pp = pprint.PrettyPrinter(indent=4)\n",
    "\n",
    "boto3.__version__\n",
    "\n",
    "# local client path for resources\n",
    "myLocalPathForDataSources='/Users/simondavies/Documents/GitHub/labs/bedrock/quick/Resources/'\n",
    "\n",
    "# jupypter notebook path if notebook is used in AWS for example\n",
    "#myLocalPathForDataSources='/home/ec2-user/SageMaker/labs/bedrock/quick/Resources/'"
   ]
  },
  {
   "cell_type": "markdown",
   "metadata": {},
   "source": [
    "<hr style=\"border:1px dotted;color:cadetblue\">\n",
    "<hr style=\"border:1px dotted;color:crimson\">"
   ]
  },
  {
   "cell_type": "markdown",
   "metadata": {},
   "source": [
    "# <p style=\"color:crimson\">Create some methods to call</p>\n",
    "1. Method for processing a prompt\n",
    "2. Method to have a conversation\n",
    "3. <b>Don't forget if you modify this method, make sure you execute the cell</b>"
   ]
  },
  {
   "cell_type": "markdown",
   "metadata": {},
   "source": [
    "### <p style=\"color:crimson\">This method processes a single prompt with the chosen foundation model</p>"
   ]
  },
  {
   "cell_type": "code",
   "execution_count": 40,
   "metadata": {},
   "outputs": [],
   "source": [
    "# open and encode an image\n",
    "def encodeImage(imagePath): \n",
    "    with open(imagePath, \"rb\") as imageFile: \n",
    "        return base64.b64encode(imageFile.read()).decode(\"utf-8\")"
   ]
  },
  {
   "cell_type": "code",
   "execution_count": 41,
   "metadata": {},
   "outputs": [],
   "source": [
    "# processes a single prompt for image OCR\n",
    "def processOCR(m, prompt, p, t, k, n, base64Image):\n",
    "    # prep some vars\n",
    "    body = \"\"\n",
    "    outputResponse = \"Model: {}\\n---------------------------------------\\n\".format(m)\n",
    "    accept = \"application/json\"\n",
    "    contentType = \"application/json\"\n",
    "    tk = 2000\n",
    "\n",
    "    # which model are we calling\n",
    "    match m:\n",
    "        case \"anthropic.claude-3-haiku-20240307-v1:0\":\n",
    "            # Anthropic - Claude 3 Haiku\n",
    "            # https://www.anthropic.com/news/claude-3-haiku\n",
    "            body = json.dumps(\n",
    "                {\n",
    "                    \"anthropic_version\": \"bedrock-2023-05-31\",\n",
    "                    \"max_tokens\": tk,\n",
    "                    \"messages\": [\n",
    "                        {\n",
    "                            \"role\": \"user\",\n",
    "                            \"content\": [\n",
    "                                {\n",
    "                                    \"type\": \"image\",\n",
    "                                    \"source\": {\n",
    "                                        \"type\": \"base64\",\n",
    "                                        \"media_type\": \"image/png\",\n",
    "                                        \"data\": base64Image,\n",
    "                                    },\n",
    "                                },\n",
    "                                {\"type\": \"text\", \"text\": prompt},\n",
    "                            ],\n",
    "                        }\n",
    "                    ],\n",
    "                    \"temperature\": t,\n",
    "                    \"top_p\": p,\n",
    "                    \"top_k\": k,\n",
    "                }\n",
    "            )\n",
    "\n",
    "    # invoke the model\n",
    "    response = bedrockRun.invoke_model(\n",
    "        body=body, modelId=m, accept=accept, contentType=contentType\n",
    "    )\n",
    "    responseBody = json.loads(response.get(\"body\").read())\n",
    "\n",
    "    # get the response\n",
    "    match m:\n",
    "        case \"anthropic.claude-3-haiku-20240307-v1:0\":\n",
    "            outputText = responseBody[\"content\"]\n",
    "            outputResponse += \"1 RESPONSE Supported:\\n{}\\n---------------------------------------\\n\".format(\n",
    "                outputText\n",
    "            )\n",
    "\n",
    "    # return response\n",
    "    return outputResponse"
   ]
  },
  {
   "cell_type": "markdown",
   "metadata": {},
   "source": [
    "# <p style=\"color:crimson\">Now we can start using our models with prompts</p>"
   ]
  },
  {
   "cell_type": "markdown",
   "metadata": {},
   "source": [
    "<hr style=\"border:1px dotted;color:crimson\">\n",
    "<hr style=\"border:1px dotted;color:lightblue\">"
   ]
  },
  {
   "cell_type": "markdown",
   "metadata": {},
   "source": [
    "# <p style=\"color:lightblue\">Perform OCR on an image</p>\n",
    "1. Specify properties\n",
    "2. Call the method\n",
    "3. Prompt engineering <a href='https://docs.aws.amazon.com/bedrock/latest/userguide/general-guidelines-for-bedrock-users.html'>help</a>"
   ]
  },
  {
   "cell_type": "code",
   "execution_count": 45,
   "metadata": {},
   "outputs": [
    {
     "name": "stdout",
     "output_type": "stream",
     "text": [
      "Model: anthropic.claude-3-haiku-20240307-v1:0\n",
      "---------------------------------------\n",
      "1 RESPONSE Supported:\n",
      "[{'type': 'text', 'text': '<json>\\n{\\n    \"INVOICE_NUMBER\": \"1.1\",\\n    \"CUSTOMER_NUMBER\": \"UNKNOWN\",\\n    \"CUSTOMER_NAME\": \"UNKNOWN\",\\n    \"VENDOR_NAME\": \"UNKNOWN\",\\n    \"INVOICE_AMOUNT\": \"1.30\",\\n    \"INVOICE_DATE\": \"2024-01-07\",\\n    \"VENDOR_ADDRESS\": \"UNKNOWN\"\\n}\\n</json>'}]\n",
      "---------------------------------------\n",
      "\n"
     ]
    }
   ],
   "source": [
    "# set up the prompt and params - note each model will have different ranges for its params\n",
    "prompt=\"\"\"Your purpose is to analyze invoices.\n",
    "            Create a structured set of data in json format providing key information about an invoice.   \n",
    "            Do not return any narrative language. \n",
    "            JSON fields must be labelled as:  \n",
    "            - INVOICE_NUMBER,  \n",
    "            - CUSTOMER_NUMBER,  \n",
    "            - CUSTOMER_NAME,  \n",
    "            - VENDOR_NAME,  \n",
    "            - INVOICE_AMOUNT,  \n",
    "            - INVOICE_DATE (show in this format YYYY-MM-DD),  \n",
    "            - VENDOR_ADDRESS.  \n",
    "            Example json structure is: \n",
    "            <json> \n",
    "                { \n",
    "                    “INVOICE_NUMBER”: “Invoice number”, \n",
    "                    “CUSTOMER_NUMBER”: “Customer Number”, \n",
    "                    “CUSTOMER_NAME”: “Customer Name”, \n",
    "                    “VENDOR_NAME”: “Vendor Name”, \n",
    "                    “INVOICE_AMOUNT”: “Invoice Amount”, \n",
    "                    “INVOICE_DATE”: “Invoice Date”, \n",
    "                    “VENDOR_ADDRESS”: “Vendor Address” \n",
    "                } \n",
    "            </json>              \n",
    "\n",
    "            Output the json structure as a string starting with <json> and ending with </json> XML tags.   \n",
    "            Do not return any narrative language. Look at the images in detail, looking for invoice number,  \n",
    "            customer number, customer name, vendor name,  \n",
    "            invoice amount, invoice date, and vendor address where possible try to identify them. \n",
    "            IF YOU DO NOT FIND ANY AMOUNT, ROTATE THE IMAGE CLOCKWISE AND TRY AGAIN.\n",
    "            IF YOU COULD NOT FIND THE RIGHT INFORMATION JUST RETURN THIS VALUE 'UNKNOWN'.\"\"\"\n",
    "\n",
    "\n",
    "t=0.7 # temperature: use a lower value to decrease randomness in the response\n",
    "p=0.5 # topP: use a lower value to ignore less probable options\n",
    "k=50 # topK: number of most-likely candidates that the model considers for the next token\n",
    "n=1 # numResults: how many responses do you want, not all models support multiple responses\n",
    "\n",
    "# encode the image into base 64\n",
    "base64Image = encodeImage('{}{}'.format(myLocalPathForDataSources,'receipt rotated.png'))\n",
    "\n",
    "# which model do you want to use based on the match statement below\n",
    "u=1\n",
    "\n",
    "match u:\n",
    "    case 1:\n",
    "        # Anthropic - Claude 3 Haiku\n",
    "        # property ranges: https://docs.aws.amazon.com/bedrock/latest/userguide/model-parameters-anthropic-claude-messages.html\n",
    "        m='anthropic.claude-3-haiku-20240307-v1:0'\n",
    "\n",
    "o=processOCR(m, prompt, p, t, k, n, base64Image)\n",
    "print(o)\n",
    "# pp.pprint(str(o)) "
   ]
  },
  {
   "cell_type": "markdown",
   "metadata": {},
   "source": [
    "<hr style=\"border:1px dotted;color:lightblue\">\n",
    "<hr style=\"border:1px dotted;color:deeppink\">\n"
   ]
  },
  {
   "cell_type": "markdown",
   "metadata": {},
   "source": [
    "<hr style=\"border:1px dotted;color:coral\">\n",
    "<hr style=\"border:1px dotted;color:gold\">"
   ]
  },
  {
   "cell_type": "markdown",
   "metadata": {},
   "source": [
    "# <p style=\"color:gold\">Appendix - Install Requirements (macOS)</p>\n",
    "# Requirements for this lab\n",
    "\n",
    "#### <p style=\"color:deeppink\">- If you are running VSCode on a laptop, follow all of below.<br>- If you are running Jupyter inside an AWS Account, you just need to install langchain. See 2.1 below and skip everything else.</p>\n",
    "\n",
    "*Windows requirements will be similar, apart from Homebrew.*  \n",
    "* python must be installed on your client, and be at least v3.8\n",
    "  * 3.8 supports the latest release of boto3 which supports Bedrock  \n",
    "* boto3 must be installed on your client, and be at least v1.33.9  \n",
    "  * *Boto3 is the Amazon Web Services (AWS) Software Development Kit (SDK) for Python, which allows Python developers to write software that makes use of services like Amazon S3 and Amazon EC2.*\n",
    "  * https://boto3.amazonaws.com/v1/documentation/api/latest/index.html\n",
    "### <p style=\"color:gold\">1. Homebrew</p> \n",
    "If you haven't installed Homebrew, you can install it by running the following command here or in the terminal:"
   ]
  },
  {
   "cell_type": "code",
   "execution_count": null,
   "metadata": {
    "vscode": {
     "languageId": "shellscript"
    }
   },
   "outputs": [],
   "source": [
    "%%bash\n",
    "sudo /bin/bash -c \"$(curl -fsSL https://raw.githubusercontent.com/Homebrew/install/HEAD/install.sh)\""
   ]
  },
  {
   "cell_type": "markdown",
   "metadata": {},
   "source": [
    "### <p style=\"color:gold\">1. Python</p> \n",
    "Once Homebrew is installed, you can install Python using the following command  \n",
    "*check what you have before installing/upgrading*  \n",
    "*you will need to quit and restart vsCode to use python once installed (or updated)*"
   ]
  },
  {
   "cell_type": "code",
   "execution_count": null,
   "metadata": {
    "vscode": {
     "languageId": "shellscript"
    }
   },
   "outputs": [],
   "source": [
    "%%bash\n",
    "python3 --version\n",
    "which python3"
   ]
  },
  {
   "cell_type": "code",
   "execution_count": null,
   "metadata": {
    "vscode": {
     "languageId": "shellscript"
    }
   },
   "outputs": [],
   "source": [
    "%%bash\n",
    "brew install python"
   ]
  },
  {
   "cell_type": "markdown",
   "metadata": {},
   "source": [
    "### <p style=\"color:gold\">2. boto3 and other Python requirements</p> \n",
    "*check what you have before installing/upgrading*  "
   ]
  },
  {
   "cell_type": "code",
   "execution_count": null,
   "metadata": {
    "vscode": {
     "languageId": "shellscript"
    }
   },
   "outputs": [],
   "source": [
    "%%bash\n",
    "python3 -m pip show boto3"
   ]
  },
  {
   "cell_type": "code",
   "execution_count": null,
   "metadata": {
    "vscode": {
     "languageId": "shellscript"
    }
   },
   "outputs": [],
   "source": [
    "pip install -U boto3"
   ]
  },
  {
   "cell_type": "markdown",
   "metadata": {},
   "source": [
    "### <p style=\"color:gold\">2.1 Chatbot requirements</p> \n",
    "*<p style=\"color:deeppink\">If you are running a Jupyter in AWS Account, you ONLY need these 2 cells</p>*"
   ]
  },
  {
   "cell_type": "code",
   "execution_count": null,
   "metadata": {
    "vscode": {
     "languageId": "shellscript"
    }
   },
   "outputs": [],
   "source": [
    "pip install -U langchain"
   ]
  },
  {
   "cell_type": "code",
   "execution_count": null,
   "metadata": {
    "vscode": {
     "languageId": "shellscript"
    }
   },
   "outputs": [],
   "source": [
    "pip install langchain-community langchain-core"
   ]
  },
  {
   "cell_type": "markdown",
   "metadata": {},
   "source": [
    "### <p style=\"color:gold\">3. aws configure</p> \n",
    "*Configure aws configure with credentials, and a user that has all of the Bedrock IAM policies required*  \n",
    "https://docs.aws.amazon.com/bedrock/latest/userguide/security_iam_id-based-policy-examples.html"
   ]
  },
  {
   "cell_type": "code",
   "execution_count": null,
   "metadata": {
    "vscode": {
     "languageId": "shellscript"
    }
   },
   "outputs": [],
   "source": [
    "%%bash\n",
    "aws sts get-caller-identity"
   ]
  },
  {
   "cell_type": "markdown",
   "metadata": {},
   "source": [
    "### <p style=\"color:gold\">4. Request Bedrock model access</p> \n",
    "*You must request access to the models required, you may need to provide use case details before you are able to request*  \n",
    "*Make sure you request in the region you intend to use the models in, this lab is us-west-2*  \n",
    "https://us-west-2.console.aws.amazon.com/bedrock/home?region=us-west-2#/modelaccess  \n",
    "\n",
    "Models required in this lab:\n",
    "\n",
    "* See code above for use of models and what access to request\n",
    "\n",
    "#### Pricing\n",
    "*Use 6 characters per token as an approximation for the number of tokens.*  \n",
    "https://aws.amazon.com/bedrock/pricing/  \n",
    "https://docs.aws.amazon.com/bedrock/latest/userguide/model-customization-prepare.html"
   ]
  },
  {
   "cell_type": "markdown",
   "metadata": {},
   "source": [
    "<hr style=\"border:1px dotted;color:gold\">"
   ]
  }
 ],
 "metadata": {
  "kernelspec": {
   "display_name": "Python 3",
   "language": "python",
   "name": "python3"
  },
  "language_info": {
   "codemirror_mode": {
    "name": "ipython",
    "version": 3
   },
   "file_extension": ".py",
   "mimetype": "text/x-python",
   "name": "python",
   "nbconvert_exporter": "python",
   "pygments_lexer": "ipython3",
   "version": "3.11.6"
  }
 },
 "nbformat": 4,
 "nbformat_minor": 2
}
