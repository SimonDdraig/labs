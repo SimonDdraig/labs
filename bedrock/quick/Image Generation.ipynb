{
 "cells": [
  {
   "cell_type": "markdown",
   "metadata": {},
   "source": [
    "# <p style=\"color:dodgerblue\">Image Generation in Bedrock</p>\n",
    "<hr style=\"border:1px dotted; color:floralwhite\">"
   ]
  },
  {
   "cell_type": "markdown",
   "metadata": {},
   "source": [
    "# Requirements for this lab\n",
    "*See <span style=\"color:gold\">Appendix</span> at the bottom of this lab to install requirements for this lab*"
   ]
  },
  {
   "cell_type": "markdown",
   "metadata": {},
   "source": [
    "<hr style=\"border:1px dotted\">\n",
    "<hr style=\"border:1px dotted;color:cadetblue\">"
   ]
  },
  {
   "cell_type": "markdown",
   "metadata": {},
   "source": [
    "# <p style=\"color:cadetblue\">Import libraries and set clients</p>\n",
    "*If the following does not show the latest (installed or upgraded) boto3 (at least v1.29.6), restart the kernel*"
   ]
  },
  {
   "cell_type": "code",
   "execution_count": null,
   "metadata": {},
   "outputs": [],
   "source": [
    "import boto3, json\n",
    "boto3.__version__"
   ]
  },
  {
   "cell_type": "code",
   "execution_count": 2,
   "metadata": {},
   "outputs": [],
   "source": [
    "from io import BytesIO\n",
    "from PIL import Image\n",
    "import base64\n",
    "import random\n",
    "\n",
    "# region_name is important especially if you're aws configure is set to ap-southeast-2 where there is no Bedrock yet\n",
    "#define common vars\n",
    "myRegion='us-west-2'\n",
    "\n",
    "bedrockRun = boto3.client(service_name='bedrock-runtime', region_name=myRegion)\n",
    "bedrockChk = boto3.client(service_name='bedrock', region_name=myRegion)"
   ]
  },
  {
   "cell_type": "markdown",
   "metadata": {},
   "source": [
    "<hr style=\"border:1px dotted;color:cadetblue\">\n",
    "<hr style=\"border:1px dotted;color:crimson\">"
   ]
  },
  {
   "cell_type": "markdown",
   "metadata": {},
   "source": [
    "# <p style=\"color:crimson\">Create some methods to call</p>\n",
    "1. Method for generating an image\n",
    "2. <b>Don't forget if you modify this method, make sure you execute the cell</b>"
   ]
  },
  {
   "cell_type": "code",
   "execution_count": 3,
   "metadata": {},
   "outputs": [],
   "source": [
    "# return dimensions baed on selections\n",
    "# NOTE good height width for narrow portrait = titan-h=1408 x w=768, titan-h=1408 x w=640, stable-h=1536 x w=640\n",
    "# NOTE good height width for landscape slides = titan-h=768 x w=1408, stable-h=768 x w=1344\n",
    "\n",
    "def getDimensions(l, u):\n",
    "    # portrait\n",
    "    if l==1:\n",
    "        if u==1 or u==2:\n",
    "            h = 1408\n",
    "            w = 640\n",
    "        elif u==3:\n",
    "            h = 1536\n",
    "            w = 640\n",
    "    \n",
    "    # landscape\n",
    "    elif l==2:\n",
    "        if u==1 or u==2:\n",
    "            h = 768\n",
    "            w = 1408\n",
    "        elif u==3:\n",
    "            h = 768\n",
    "            w = 1344\n",
    "\n",
    "    return h, w"
   ]
  },
  {
   "cell_type": "code",
   "execution_count": 4,
   "metadata": {},
   "outputs": [],
   "source": [
    "# create an image from text\n",
    "def createImageFromText(m, prompt, np, s, c, h, w, n, st, sp):\n",
    "    # prep some vars\n",
    "    body=''\n",
    "    accept = \"application/json\"\n",
    "    contentType = \"application/json\"\n",
    "\n",
    "    # which model are we calling\n",
    "    match m:\n",
    "        case \"amazon.titan-image-generator-v1\":\n",
    "            # Amazon - Titan Image Generator G1\n",
    "            # https://docs.aws.amazon.com/bedrock/latest/userguide/model-parameters-titan-image.html\n",
    "            body = json.dumps(\n",
    "                {\n",
    "                    \"taskType\": \"TEXT_IMAGE\",\n",
    "                    \"textToImageParams\": {\n",
    "                        \"text\": prompt,\n",
    "                        \"negativeText\": np,\n",
    "                    },\n",
    "                    \"imageGenerationConfig\": {\n",
    "                        \"numberOfImages\": n,\n",
    "                        \"quality\": \"premium\",\n",
    "                        \"height\": h,\n",
    "                        \"width\": w,\n",
    "                        \"cfgScale\": c,\n",
    "                        \"seed\": s,\n",
    "                    },\n",
    "                }\n",
    "            )\n",
    "        case \"amazon.titan-image-generator-v2:0\":\n",
    "            # Amazon - Titan Image Generator G1\n",
    "            # https://docs.aws.amazon.com/bedrock/latest/userguide/model-parameters-titan-image.html\n",
    "            body = json.dumps(\n",
    "                {\n",
    "                    \"taskType\": \"TEXT_IMAGE\",\n",
    "                    \"textToImageParams\": {\n",
    "                        \"text\": prompt,\n",
    "                        \"negativeText\": np,\n",
    "                    },\n",
    "                    \"imageGenerationConfig\": {\n",
    "                        \"numberOfImages\": n,\n",
    "                        \"quality\": \"premium\",\n",
    "                        \"height\": h,\n",
    "                        \"width\": w,\n",
    "                        \"cfgScale\": c,\n",
    "                        \"seed\": s,\n",
    "                    },\n",
    "                }\n",
    "            )\n",
    "        case \"stability.stable-diffusion-xl-v1\":\n",
    "            # Stability.ai - Diffusion models\n",
    "            # https://stability.ai/\n",
    "            body = json.dumps(\n",
    "                {\n",
    "                    \"text_prompts\": [\n",
    "                        {\n",
    "                            \"text\": prompt,\n",
    "                            \"weight\": 1,\n",
    "                        }\n",
    "                    ],\n",
    "                    \"height\": h,\n",
    "                    \"width\": w,\n",
    "                    \"cfg_scale\": c,\n",
    "                    \"seed\": s,\n",
    "                    \"style_preset\" : st,\n",
    "                    \"steps\" : sp,\n",
    "                }\n",
    "            )\n",
    "\n",
    "    # invoke the model\n",
    "    response = bedrockRun.invoke_model(\n",
    "        body=body, modelId=m, accept=accept, contentType=contentType\n",
    "    )\n",
    "    responseBody = json.loads(response.get(\"body\").read())\n",
    "\n",
    "    match m:\n",
    "        case \"amazon.titan-image-generator-v1\":\n",
    "            # required to preview and save as png\n",
    "            images1 = [\n",
    "                Image.open(BytesIO(base64.b64decode(base64_image)))\n",
    "                for base64_image in responseBody.get(\"images\")\n",
    "            ]\n",
    "\n",
    "            # required if you want to pass into further invokes, in painting for example\n",
    "            imagesBinary1 = [\n",
    "                base64_image\n",
    "                for base64_image in responseBody.get(\"images\")\n",
    "            ]\n",
    "\n",
    "            # show the images - on a mac this will open the Preview app\n",
    "            for img in images1:\n",
    "                img.show()\n",
    "        case \"amazon.titan-image-generator-v2:0\":\n",
    "            # required to preview and save as png\n",
    "            images1 = [\n",
    "                Image.open(BytesIO(base64.b64decode(base64_image)))\n",
    "                for base64_image in responseBody.get(\"images\")\n",
    "            ]\n",
    "\n",
    "            # required if you want to pass into further invokes, in painting for example\n",
    "            imagesBinary1 = [\n",
    "                base64_image\n",
    "                for base64_image in responseBody.get(\"images\")\n",
    "            ]\n",
    "\n",
    "            # show the images - on a mac this will open the Preview app\n",
    "            for img in images1:\n",
    "                img.show()\n",
    "        case \"stability.stable-diffusion-xl-v1\":\n",
    "            # required to preview and save as png\n",
    "            base64_image = responseBody.get(\"artifacts\")[0].get(\"base64\")\n",
    "\n",
    "            # required to pass into further invokes\n",
    "            base64_bytes = base64_image.encode('ascii')\n",
    "            image_bytes = base64.b64decode(base64_bytes)\n",
    "\n",
    "            # show the image - on a mac this will open the Preview app\n",
    "            image = Image.open(BytesIO(image_bytes))\n",
    "            image.show()"
   ]
  },
  {
   "cell_type": "markdown",
   "metadata": {},
   "source": [
    "<hr style=\"border:1px dotted;color:crimson\">\n",
    "<hr style=\"border:1px dotted;color:lightblue\">"
   ]
  },
  {
   "cell_type": "markdown",
   "metadata": {},
   "source": [
    "# <p style=\"color:lightblue\">Invoke a model with a text prompt</p>\n",
    "1. Specify properties\n",
    "2. Call the method"
   ]
  },
  {
   "cell_type": "code",
   "execution_count": null,
   "metadata": {},
   "outputs": [],
   "source": [
    "# set up the prompt and params - note each model will have different ranges for its params\n",
    "prompt='A female barista stands behind a coffe machine while making a coffee in an internet cafe, a hipster is standing at the counter waiting for the barista to make his order while holding his open laptop with a screen showing lots of data. The image is a single photo taken from outside the cafe through the window. Cinematic, photographic quality, hyper detailed.'\n",
    "negativePrompt='low resolution, low details, multiple views'\n",
    "\n",
    "# which model do you want to use based on the match statement below\n",
    "u=2\n",
    "\n",
    "l=1 # 1=portrait, 2=landscape, 3=custom - you specify below\n",
    "if l==3:\n",
    "    # NOTE if you receive an error, check the value of the properties you are providing as it is likely outside the range of the model\n",
    "    h=1536 # height\n",
    "    w=640 # width\n",
    "else:\n",
    "    h, w = getDimensions(l, u)\n",
    "\n",
    "c=5 # cfgScale: determines how much the final image portrays the prompt, use a lower value for more random images\n",
    "n=3 # numResults: how many images do you want, not all models support multiple images\n",
    "st='photographic' # style preset that guides the image model towards a particular style, not all models support\n",
    "sp=150 # number of steps to iterate through\n",
    "\n",
    "match u:\n",
    "    case 1:\n",
    "        # Amazon - Titan Image Generator G1\n",
    "        # property ranges: https://docs.aws.amazon.com/bedrock/latest/userguide/model-parameters-titan-image.html\n",
    "        m='amazon.titan-image-generator-v1'\n",
    "        s = random.randint(0, 214783647) # random seed of the image\n",
    "    case 2:\n",
    "        # Amazon - Titan Image Generator G2\n",
    "        # property ranges: https://docs.aws.amazon.com/bedrock/latest/userguide/model-parameters-titan-image.html\n",
    "        m='amazon.titan-image-generator-v2:0'\n",
    "        s = random.randint(0, 214783647) # random seed of the image\n",
    "    case 3:\n",
    "        # Stability.ai Diffusion 1.0\n",
    "        # https://docs.aws.amazon.com/bedrock/latest/userguide/model-parameters-diffusion-1-0-text-image.html\n",
    "        m='stability.stable-diffusion-xl-v1'\n",
    "        s = random.randint(0, 4294967295) # random seed of the image\n",
    "\n",
    "print(\"Seed is (in case you like the image!): {}\".format(s))\n",
    "\n",
    "createImageFromText(m, prompt, negativePrompt, s, c, h, w, n, st, sp)"
   ]
  },
  {
   "cell_type": "markdown",
   "metadata": {},
   "source": [
    "<hr style=\"border:1px dotted;color:lightblue\">\n",
    "<hr style=\"border:1px dotted;color:gold\">"
   ]
  },
  {
   "cell_type": "markdown",
   "metadata": {},
   "source": [
    "# <p style=\"color:gold\">Appendix - Install Requirements (macOS)</p>\n",
    "# Requirements for this lab\n",
    "\n",
    "#### <p style=\"color:deeppink\">- If you are running VSCode on a laptop, follow all of below.<br>- If you are running Jupyter inside an AWS Account, you just need to install pillow. See 2.1 below and skip everything else.</p>\n",
    "\n",
    "*Windows requirements will be similar, apart from Homebrew.*  \n",
    "* python must be installed on your client, and be at least v3.8\n",
    "  * 3.8 supports the latest release of boto3 which supports Bedrock  \n",
    "* boto3 must be installed on your client, and be at least v1.33.9  \n",
    "  * *Boto3 is the Amazon Web Services (AWS) Software Development Kit (SDK) for Python, which allows Python developers to write software that makes use of services like Amazon S3 and Amazon EC2.*\n",
    "  * https://boto3.amazonaws.com/v1/documentation/api/latest/index.html\n",
    "* \n",
    "* Bedrock model access requested\n",
    "  * Models used in this lab with access already requested are:\n",
    "    * AI21 Labs - Jurassic-2 Ultra and Jurassic-2 Mid\n",
    "    * Meta Llama 2 Chat 13B\n",
    "### <p style=\"color:gold\">1. Homebrew</p> \n",
    "If you haven't installed Homebrew, you can install it by running the following command here or in the terminal:"
   ]
  },
  {
   "cell_type": "code",
   "execution_count": null,
   "metadata": {
    "vscode": {
     "languageId": "shellscript"
    }
   },
   "outputs": [],
   "source": [
    "%%bash\n",
    "sudo /bin/bash -c \"$(curl -fsSL https://raw.githubusercontent.com/Homebrew/install/HEAD/install.sh)\""
   ]
  },
  {
   "cell_type": "markdown",
   "metadata": {},
   "source": [
    "### <p style=\"color:gold\">1. Python</p> \n",
    "Once Homebrew is installed, you can install Python using the following command  \n",
    "*check what you have before installing/upgrading*  \n",
    "*you will need to quit and restart vsCode to use python once installed (or updated)*"
   ]
  },
  {
   "cell_type": "code",
   "execution_count": null,
   "metadata": {
    "vscode": {
     "languageId": "shellscript"
    }
   },
   "outputs": [],
   "source": [
    "%%bash\n",
    "python3 --version\n",
    "which python3"
   ]
  },
  {
   "cell_type": "code",
   "execution_count": null,
   "metadata": {
    "vscode": {
     "languageId": "shellscript"
    }
   },
   "outputs": [],
   "source": [
    "%%bash\n",
    "brew install python"
   ]
  },
  {
   "cell_type": "markdown",
   "metadata": {},
   "source": [
    "### <p style=\"color:gold\">2. boto3 and other Python requirements</p> \n",
    "*check what you have before installing/upgrading*  "
   ]
  },
  {
   "cell_type": "code",
   "execution_count": null,
   "metadata": {
    "vscode": {
     "languageId": "shellscript"
    }
   },
   "outputs": [],
   "source": [
    "%%bash\n",
    "python3 -m pip show boto3"
   ]
  },
  {
   "cell_type": "code",
   "execution_count": null,
   "metadata": {
    "vscode": {
     "languageId": "shellscript"
    }
   },
   "outputs": [],
   "source": [
    "pip install -U boto3"
   ]
  },
  {
   "cell_type": "markdown",
   "metadata": {},
   "source": [
    "### <p style=\"color:gold\">2.1 Image requirements</p> \n",
    "*<p style=\"color:deeppink\">If you are running a Jupyter in AWS Account, you ONLY need this</p>*"
   ]
  },
  {
   "cell_type": "code",
   "execution_count": null,
   "metadata": {
    "vscode": {
     "languageId": "shellscript"
    }
   },
   "outputs": [],
   "source": [
    "pip install -U pillow"
   ]
  },
  {
   "cell_type": "markdown",
   "metadata": {},
   "source": [
    "### <p style=\"color:gold\">3. aws configure</p> \n",
    "*Configure aws configure with credentials, and a user that has all of the Bedrock IAM policies required*  \n",
    "https://docs.aws.amazon.com/bedrock/latest/userguide/security_iam_id-based-policy-examples.html"
   ]
  },
  {
   "cell_type": "code",
   "execution_count": null,
   "metadata": {
    "vscode": {
     "languageId": "shellscript"
    }
   },
   "outputs": [],
   "source": [
    "%%bash\n",
    "aws sts get-caller-identity"
   ]
  },
  {
   "cell_type": "markdown",
   "metadata": {},
   "source": [
    "### <p style=\"color:gold\">4. Request Bedrock model access</p> \n",
    "*You must request access to the models required, you may need to provide use case details before you are able to request*  \n",
    "*Make sure you request in the region you intend to use the models in, this lab is us-west-2*  \n",
    "https://us-west-2.console.aws.amazon.com/bedrock/home?region=us-west-2#/modelaccess  \n",
    "\n",
    "Models required in this lab:\n",
    "\n",
    "* See code above for use of models and what access to request\n",
    "\n",
    "#### Pricing\n",
    "*Price is calculated based on properties including quality of the image.*  \n",
    "https://aws.amazon.com/bedrock/pricing/  \n",
    "https://docs.aws.amazon.com/bedrock/latest/userguide/model-customization-prepare.html"
   ]
  },
  {
   "cell_type": "markdown",
   "metadata": {},
   "source": [
    "### <p style=\"color:gold\">5. Image editor that can create masks</p> \n",
    "\n",
    "https://www.gimp.org/downloads/"
   ]
  },
  {
   "cell_type": "markdown",
   "metadata": {},
   "source": [
    "<hr style=\"border:1px dotted;color:gold\">"
   ]
  }
 ],
 "metadata": {
  "kernelspec": {
   "display_name": "Python 3",
   "language": "python",
   "name": "python3"
  },
  "language_info": {
   "codemirror_mode": {
    "name": "ipython",
    "version": 3
   },
   "file_extension": ".py",
   "mimetype": "text/x-python",
   "name": "python",
   "nbconvert_exporter": "python",
   "pygments_lexer": "ipython3",
   "version": "3.11.6"
  }
 },
 "nbformat": 4,
 "nbformat_minor": 2
}
