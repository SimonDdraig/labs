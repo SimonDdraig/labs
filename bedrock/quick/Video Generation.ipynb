{
 "cells": [
  {
   "cell_type": "markdown",
   "metadata": {},
   "source": [
    "# <p style=\"color:dodgerblue\">Video Generation in Bedrock</p>\n",
    "<hr style=\"border:1px dotted; color:floralwhite\">"
   ]
  },
  {
   "cell_type": "markdown",
   "metadata": {},
   "source": [
    "# Requirements for this lab\n",
    "*See <span style=\"color:gold\">Appendix</span> at the bottom of this lab to install requirements for this lab*"
   ]
  },
  {
   "cell_type": "markdown",
   "metadata": {},
   "source": [
    "<hr style=\"border:1px dotted\">\n",
    "<hr style=\"border:1px dotted;color:cadetblue\">"
   ]
  },
  {
   "cell_type": "markdown",
   "metadata": {},
   "source": [
    "# <p style=\"color:cadetblue\">Import libraries and set clients</p>\n",
    "*If the following does not show the latest (installed or upgraded) boto3 (at least v1.29.6), restart the kernel*"
   ]
  },
  {
   "cell_type": "code",
   "execution_count": null,
   "metadata": {},
   "outputs": [],
   "source": [
    "import boto3, json\n",
    "import base64\n",
    "print (boto3.__version__)\n",
    "\n",
    "print ('Done! Move to the next cell ->')"
   ]
  },
  {
   "cell_type": "code",
   "execution_count": null,
   "metadata": {},
   "outputs": [],
   "source": [
    "import random\n",
    "import datetime\n",
    "\n",
    "# region_name is important especially if you're aws configure is set to ap-southeast-2 where there is no Bedrock yet\n",
    "# define common vars\n",
    "# nova reel is currently only available in us-east-1 (as of Dec 2024)\n",
    "myRegion='us-east-1'\n",
    "\n",
    "bedrockRun = boto3.client(service_name='bedrock-runtime', region_name=myRegion)\n",
    "bedrockChk = boto3.client(service_name='bedrock', region_name=myRegion)\n",
    "\n",
    "# s3\n",
    "s3 = boto3.client('s3', region_name=myRegion)\n",
    "\n",
    "# bucket - MUST BE A UNIQUE NAME hence the rnd\n",
    "myBucket='doit-bedrock-video-' + str(random.randint(0, 1000)) + '-' + str(random.randint(0, 1000))\n",
    "print (myBucket)\n",
    "\n",
    "print ('Done! Move to the next cell ->')"
   ]
  },
  {
   "cell_type": "markdown",
   "metadata": {},
   "source": [
    "-  <span style=\"color:greenyellow\">If you want to provide your own resource image(s)!<span> \n",
    "-  <span style=\"color:greenyellow\">REMEMBER TO CHANGE THIS PATH TO YOUR RESOURCES IF LOCAL!<span> \n",
    "-  <span style=\"color:greenyellow\">IF IN AWS JUPYTER MAKE SURE THE 2ND IS UNCOMMENTED<span> "
   ]
  },
  {
   "cell_type": "code",
   "execution_count": null,
   "metadata": {},
   "outputs": [],
   "source": [
    "# local client path for resources\n",
    "myLocalPathForDataSources='/Users/simondavies/Documents/GitHub/labs/bedrock/quick/Resources/'\n",
    "# jupypter notebook path if notebook is used in AWS for example\n",
    "#myLocalPathForDataSources='/home/ec2-user/SageMaker/labs/bedrock/quick/Resources/'\n",
    "\n",
    "print ('Done! Move to the next cell ->')"
   ]
  },
  {
   "cell_type": "markdown",
   "metadata": {},
   "source": [
    "<hr style=\"border:1px dotted;color:cadetblue\">\n",
    "<hr style=\"border:1px dotted;color:crimson\">"
   ]
  },
  {
   "cell_type": "markdown",
   "metadata": {},
   "source": [
    "# <p style=\"color:crimson\">Create S3 Bucket</p>\n",
    "- the video creation is an asynchronous call, it will write the movie to a defined S3 bucket and key when done\n",
    "- you can also upload an image and use that as a starting reference for the video \n",
    "- defaults used, will use sse-s3 encryption and block public access"
   ]
  },
  {
   "cell_type": "code",
   "execution_count": null,
   "metadata": {},
   "outputs": [],
   "source": [
    "# create bucket\n",
    "if (myRegion != 'us-east-1'):\n",
    "    s3.create_bucket(\n",
    "        Bucket=myBucket, CreateBucketConfiguration={\"LocationConstraint\": myRegion}\n",
    "    )\n",
    "else:\n",
    "    s3.create_bucket(\n",
    "        Bucket=myBucket\n",
    "    )\n",
    "\n",
    "# create a \"folder\" - really keys as S3 is flat\n",
    "s3.put_object(Bucket=myBucket, Key=\"videos/\")\n",
    "s3.put_object(Bucket=myBucket, Key=\"images/\")\n",
    "s3Videouri = 's3://{}/videos/'.format(myBucket)\n",
    "s3Imageuri = 's3://{}/images/'.format(myBucket)\n",
    "print (s3Videouri)\n",
    "print (s3Imageuri)\n",
    "\n",
    "print ('Done! Move to the next cell ->')"
   ]
  },
  {
   "cell_type": "markdown",
   "metadata": {},
   "source": [
    "# <p style=\"color:crimson\">Create Methods</p>"
   ]
  },
  {
   "cell_type": "code",
   "execution_count": null,
   "metadata": {},
   "outputs": [],
   "source": [
    "# upload an image to be used as the first frame of the video\n",
    "# we dont have to upload this to s3, can just read direct from myLocalPathForDataSources of course\n",
    "# but done for completeness in case this code ever runs in the cloud as part of an app rather than vscode\n",
    "# and the image is required for future reference\n",
    "def uploadFirstFrameImage(img):\n",
    "    files = [\n",
    "        {\n",
    "            \"s3key\": 'images/{}'.format(img),\n",
    "            \"localpath\": \"{}{}\".format(myLocalPathForDataSources, img),\n",
    "        },\n",
    "    ]\n",
    "    for file in files:\n",
    "        print(\"uploading from: {}\".format(file[\"localpath\"]))\n",
    "        s3.upload_file(\n",
    "            file[\"localpath\"],\n",
    "            myBucket,\n",
    "            file[\"s3key\"],\n",
    "            ExtraArgs={\"StorageClass\": \"STANDARD\"},\n",
    "        )\n",
    "        print(\"uploaded to: {}/{}\".format(myBucket, file[\"s3key\"]))\n",
    "\n",
    "    # note even though we just uploaded to S3, we just get it from the myLocalPathForDataSources\n",
    "    # no reason other than convenience, change to the bucket if you prefer  \n",
    "    input_image_path = \"{}{}\".format(myLocalPathForDataSources, img)\n",
    "    with open(input_image_path, \"rb\") as f:\n",
    "        input_image_bytes = f.read()\n",
    "        input_image_base64 = base64.b64encode(input_image_bytes).decode(\"utf-8\")\n",
    "\n",
    "    return input_image_base64"
   ]
  },
  {
   "cell_type": "code",
   "execution_count": null,
   "metadata": {},
   "outputs": [],
   "source": [
    "# create a video from text\n",
    "def createVideoFromText(m, prompt, s, ff, bytes):\n",
    "    # prep some vars\n",
    "    body=''\n",
    "\n",
    "    # which model are we calling\n",
    "    match m:\n",
    "        case \"amazon.nova-reel-v1:0\":\n",
    "            # Amazon - Nova Reel\n",
    "            # https://docs.aws.amazon.com/nova/latest/userguide/video-generation.html\n",
    "            body = {\n",
    "                    \"taskType\": \"TEXT_VIDEO\",\n",
    "                    \"textToVideoParams\": {\n",
    "                        \"text\": prompt\n",
    "                        # you can provide a first frame image if needed, see docu for details\n",
    "                    },\n",
    "                    \"videoGenerationConfig\": {\n",
    "                        \"durationSeconds\": 6,\n",
    "                        \"fps\": 24,\n",
    "                        \"dimension\": \"1280x720\",\n",
    "                        \"seed\": s,\n",
    "                    },\n",
    "                }\n",
    "\n",
    "            # do we have an image to use as a first frame, if so we need to turn it into a byte stream\n",
    "            if ff:\n",
    "                body[\"textToVideoParams\"][\"images\"] = [\n",
    "                    {\n",
    "                        \"format\": \"jpeg\",\n",
    "                        \"source\": {\n",
    "                            \"bytes\": bytes\n",
    "                        }\n",
    "                    }\n",
    "                ]\n",
    "\n",
    "            try:\n",
    "                # invoke the model\n",
    "                invocation = bedrockRun.start_async_invoke(\n",
    "                    modelId=m,\n",
    "                    modelInput=body,\n",
    "                    outputDataConfig={\n",
    "                        \"s3OutputDataConfig\": {\n",
    "                            \"s3Uri\": s3Videouri\n",
    "                        }\n",
    "                    }\n",
    "                )\n",
    "\n",
    "                # print the response JSON\n",
    "                print(\"Response:\")\n",
    "                print(json.dumps(invocation, indent=2, default=str))\n",
    "                print(\"In progress, each 6 seconds takes approx 3 minutes. Started: {}\".format(datetime.datetime.now()))\n",
    "                \n",
    "            except Exception as e:\n",
    "                message = e.response[\"Error\"][\"Message\"]\n",
    "                print(f\"Error: {message}\")\n",
    "\n",
    "print ('Done! Move to the next cell ->')"
   ]
  },
  {
   "cell_type": "markdown",
   "metadata": {},
   "source": [
    "<hr style=\"border:1px dotted;color:crimson\">\n",
    "<hr style=\"border:1px dotted;color:lightblue\">"
   ]
  },
  {
   "cell_type": "markdown",
   "metadata": {},
   "source": [
    "# <p style=\"color:lightblue\">Invoke a model with a text prompt</p>\n",
    "1. Specify properties\n",
    "2. Call the method"
   ]
  },
  {
   "cell_type": "code",
   "execution_count": null,
   "metadata": {},
   "outputs": [],
   "source": [
    "# set up the prompt and params - note each model will have different ranges for its params\n",
    "prompt = \"Two children sit on a bench in the forest. \\\n",
    "        The trees move behind them, and a very cute baby red Welsh dragon sticks her head out of the trees. \\\n",
    "        She climbs over the bench and sits between them, blowing a small flame from her mouth into the sky to say a \\\n",
    "        friendly hello. The children smile excitedly. \\\n",
    "        The dragon then jumps off the bench leaving the children, and flys away into the sky. \\\n",
    "        Camera follows the dragon as she flys away.\"\n",
    "prompt='A superhero is dressed in a black and yellow costume that has a white starburst on its chest. \\\n",
    "        The superhero is flying in a restaurant kitchen above a grill where chicken meat is being cooked. \\\n",
    "        His eyes have laser beams pointed onto the chicken meat helping them to cook evenly. \\\n",
    "        Cinematic, photographic quality, hyper detailed, life like. \\\n",
    "        The camera follows him as he hovers above the grill.'\n",
    "\n",
    "\n",
    "# which model do you want to use based on the match statement below\n",
    "u = 1\n",
    "\n",
    "# do you want to provide a source image for the generation to use as a reference for its first frame\n",
    "# image must be exactly 1280x720\n",
    "ff = False\n",
    "bytes=0\n",
    "if ff:\n",
    "    # must be a .jpeg (or .png if you want to change code above to accommodate)\n",
    "    bytes=uploadFirstFrameImage(\"IMG_8037.jpg\")\n",
    "\n",
    "# the model will write the result to your s3 bucket in the videos key (folder)\n",
    "match u:\n",
    "    case 1:\n",
    "        # Amazon - Nova Reel\n",
    "        # property ranges: https://docs.aws.amazon.com/nova/latest/userguide/video-gen-access.html\n",
    "        # Takes approx 3 minutes per 6 second video\n",
    "        m = \"amazon.nova-reel-v1:0\"\n",
    "        s = random.randint(0, 2147483646)  # random seed of the image\n",
    "\n",
    "print(\"Seed is (in case you like the result!): {}\".format(s))\n",
    "createVideoFromText(m, prompt, s, ff, bytes)"
   ]
  },
  {
   "cell_type": "markdown",
   "metadata": {},
   "source": [
    "#### <span style=\"color:deeppink\">you can run the following cell multiple times until the status is Completed</span>\n",
    "- use the invocationArn as shown above"
   ]
  },
  {
   "cell_type": "code",
   "execution_count": null,
   "metadata": {},
   "outputs": [],
   "source": [
    "response = bedrockRun.get_async_invoke(\n",
    "    invocationArn=\"arn:aws:bedrock:us-east-1:546709318047:async-invoke/qjkhrw7zo7yu\"\n",
    ")\n",
    "\n",
    "status = response[\"status\"]\n",
    "print(f\"Status: {status}, Time Now: {datetime.datetime.now()}\")"
   ]
  },
  {
   "cell_type": "markdown",
   "metadata": {},
   "source": [
    "# <p style=\"color:crimson\">Delete S3 Bucket</p>\n",
    "- Remember to delete the bucket when done"
   ]
  },
  {
   "cell_type": "code",
   "execution_count": null,
   "metadata": {},
   "outputs": [],
   "source": [
    "# delete s3 bucket\n",
    "# NOTE WARNING - this will delete all objects in the bucket with NO prompt or confirmation\n",
    "# NOTE this deletes EVERYTHING\n",
    "s3r = boto3.resource('s3')\n",
    "bucket = s3r.Bucket(myBucket)\n",
    "bucket.objects.all().delete()\n",
    "\n",
    "# delete the bucket\n",
    "response = s3.delete_bucket(Bucket=myBucket)"
   ]
  },
  {
   "cell_type": "markdown",
   "metadata": {},
   "source": [
    "<hr style=\"border:1px dotted;color:lightblue\">\n",
    "<hr style=\"border:1px dotted;color:gold\">"
   ]
  },
  {
   "cell_type": "markdown",
   "metadata": {},
   "source": [
    "# <p style=\"color:gold\">Appendix - Install Requirements (macOS)</p>\n",
    "# Requirements for this lab\n",
    "\n",
    "#### <p style=\"color:deeppink\">- If you are running VSCode on a laptop, follow all of below.</p>\n",
    "\n",
    "*Windows requirements will be similar, apart from Homebrew.*  \n",
    "* python must be installed on your client, and be at least v3.8\n",
    "  * 3.8 supports the latest release of boto3 which supports Bedrock  \n",
    "* boto3 must be installed on your client, and be at least v1.33.9  \n",
    "  * *Boto3 is the Amazon Web Services (AWS) Software Development Kit (SDK) for Python, which allows Python developers to write software that makes use of services like Amazon S3 and Amazon EC2.*\n",
    "  * https://boto3.amazonaws.com/v1/documentation/api/latest/index.html\n",
    "* \n",
    "* Bedrock model access requested\n",
    "  * Models used in this lab with access already requested are:\n",
    "    * AI21 Labs - Jurassic-2 Ultra and Jurassic-2 Mid\n",
    "    * Meta Llama 2 Chat 13B\n",
    "### <p style=\"color:gold\">1. Homebrew</p> \n",
    "If you haven't installed Homebrew, you can install it by running the following command here or in the terminal:"
   ]
  },
  {
   "cell_type": "code",
   "execution_count": null,
   "metadata": {
    "vscode": {
     "languageId": "shellscript"
    }
   },
   "outputs": [],
   "source": [
    "%%bash\n",
    "sudo /bin/bash -c \"$(curl -fsSL https://raw.githubusercontent.com/Homebrew/install/HEAD/install.sh)\""
   ]
  },
  {
   "cell_type": "markdown",
   "metadata": {},
   "source": [
    "### <p style=\"color:gold\">1. Python</p> \n",
    "Once Homebrew is installed, you can install Python using the following command  \n",
    "*check what you have before installing/upgrading*  \n",
    "*you will need to quit and restart vsCode to use python once installed (or updated)*"
   ]
  },
  {
   "cell_type": "code",
   "execution_count": null,
   "metadata": {
    "vscode": {
     "languageId": "shellscript"
    }
   },
   "outputs": [],
   "source": [
    "%%bash\n",
    "python3 --version\n",
    "which python3"
   ]
  },
  {
   "cell_type": "code",
   "execution_count": null,
   "metadata": {
    "vscode": {
     "languageId": "shellscript"
    }
   },
   "outputs": [],
   "source": [
    "%%bash\n",
    "brew install python"
   ]
  },
  {
   "cell_type": "markdown",
   "metadata": {},
   "source": [
    "### <p style=\"color:gold\">2. boto3 and other Python requirements</p> \n",
    "*check what you have before installing/upgrading*  "
   ]
  },
  {
   "cell_type": "code",
   "execution_count": null,
   "metadata": {
    "vscode": {
     "languageId": "shellscript"
    }
   },
   "outputs": [],
   "source": [
    "%%bash\n",
    "python3 -m pip show boto3"
   ]
  },
  {
   "cell_type": "code",
   "execution_count": null,
   "metadata": {
    "vscode": {
     "languageId": "shellscript"
    }
   },
   "outputs": [],
   "source": [
    "pip install -U boto3"
   ]
  },
  {
   "cell_type": "markdown",
   "metadata": {},
   "source": [
    "### <p style=\"color:gold\">3. aws configure</p> \n",
    "*Configure aws configure with credentials, and a user that has all of the Bedrock IAM policies required*  \n",
    "https://docs.aws.amazon.com/bedrock/latest/userguide/security_iam_id-based-policy-examples.html"
   ]
  },
  {
   "cell_type": "code",
   "execution_count": null,
   "metadata": {
    "vscode": {
     "languageId": "shellscript"
    }
   },
   "outputs": [],
   "source": [
    "%%bash\n",
    "aws sts get-caller-identity"
   ]
  },
  {
   "cell_type": "markdown",
   "metadata": {},
   "source": [
    "### <p style=\"color:gold\">4. Request Bedrock model access</p> \n",
    "*You must request access to the models required, you may need to provide use case details before you are able to request*  \n",
    "*Make sure you request in the region you intend to use the models in, this lab is us-west-2*  \n",
    "https://us-west-2.console.aws.amazon.com/bedrock/home?region=us-west-2#/modelaccess  \n",
    "\n",
    "Models required in this lab:\n",
    "\n",
    "* See code above for use of models and what access to request\n",
    "\n",
    "#### Pricing\n",
    "*Price is calculated based on properties including quality of the image.*  \n",
    "https://aws.amazon.com/bedrock/pricing/  \n",
    "https://docs.aws.amazon.com/bedrock/latest/userguide/model-customization-prepare.html"
   ]
  },
  {
   "cell_type": "markdown",
   "metadata": {},
   "source": [
    "### <p style=\"color:gold\">5. Image editor that can create masks</p> \n",
    "\n",
    "https://www.gimp.org/downloads/"
   ]
  },
  {
   "cell_type": "markdown",
   "metadata": {},
   "source": [
    "<hr style=\"border:1px dotted;color:gold\">"
   ]
  }
 ],
 "metadata": {
  "kernelspec": {
   "display_name": "Python 3",
   "language": "python",
   "name": "python3"
  },
  "language_info": {
   "codemirror_mode": {
    "name": "ipython",
    "version": 3
   },
   "file_extension": ".py",
   "mimetype": "text/x-python",
   "name": "python",
   "nbconvert_exporter": "python",
   "pygments_lexer": "ipython3",
   "version": "3.11.6"
  }
 },
 "nbformat": 4,
 "nbformat_minor": 2
}
