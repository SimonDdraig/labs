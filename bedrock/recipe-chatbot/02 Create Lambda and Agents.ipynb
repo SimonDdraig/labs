{
 "cells": [
  {
   "cell_type": "markdown",
   "metadata": {},
   "source": [
    "# <p style=\"color:dodgerblue\">02 Create Lambda and Agents</p>\n",
    "*With Knowledge Bases for Amazon Bedrock, you can give FMs and agents contextual information from your company’s private data sources for Retrieval Augmented Generation (RAG) to deliver more relevant, accurate, and customized responses*  \n",
    "\n",
    "- this notebook creates the following:\n",
    "  - lambdas\n",
    "  - agents\n",
    "  - iam\n",
    "    - roles\n",
    "    - policies\n",
    "- includes clean up cells to delete all above  \n",
    "  \n",
    "(Kernel 3.11.6 - hh:mm)\n",
    "<hr style=\"border:1px dotted; color:floralwhite\">"
   ]
  },
  {
   "cell_type": "markdown",
   "metadata": {},
   "source": [
    "# <span style=\"color:deeppink\">GETTING STARTED</span>\n",
    "# Requirements for this Lab (macOS)\n",
    "- *See <span style=\"color:gold\">Appendix</span> at the bottom of this lab to install macOS requirements, windows requirements will be similar, apart from Homebrew.*  \n",
    "  \n",
    "- Credentials to the AWS account this notebook executes in is provided by AWS configure\n",
    "  - You must already have an IAM user with code (Command Line Interface) access and AWS access keys to be able to use these credentials in AWS configure  \n",
    "    \n",
    "  - arn:aws:iam::###########:user/simon-davies-cli created for this lab"
   ]
  },
  {
   "cell_type": "markdown",
   "metadata": {},
   "source": [
    "<hr style=\"border:1px dotted\">\n",
    "<hr style=\"border:1px dotted;color:greenyellow\">"
   ]
  },
  {
   "cell_type": "markdown",
   "metadata": {},
   "source": [
    "# <p style=\"color:greenyellow\">Set Up Requirements</p>\n",
    "- we do these setup cells here because we can then use the vars and clients to clean up resources later without having to run multiple cells if we lose the kernel  \n",
    "  \n",
    "-  <span style=\"color:greenyellow\">Please note we use us-west-2, region as Bedrock is limited in other reasons<span>\n",
    "\n",
    "- vars"
   ]
  },
  {
   "cell_type": "code",
   "execution_count": 1,
   "metadata": {},
   "outputs": [
    {
     "name": "stdout",
     "output_type": "stream",
     "text": [
      "546709318047\n"
     ]
    }
   ],
   "source": [
    "import boto3\n",
    "import json\n",
    "\n",
    "# verify AWS account and store in myAccountNumber\n",
    "myAccountNumber = boto3.client(\"sts\").get_caller_identity()[\"Account\"]\n",
    "print(myAccountNumber)\n",
    "\n",
    "# region - we use us-west-2 as Bedrock is limited in other reasons\n",
    "myRegion='us-west-2'\n",
    "\n",
    "# iam\n",
    "myRoleLambda1=\"doit-bedrock-recipe-chatbot-lambda-send-recipe-email-role\"\n",
    "myPolicyLambda1=\"doit-bedrock-recipe-chatbot-lambda-send-recipe-email-policy\"\n",
    "myRoleLambda1ARN='RETRIEVED FROM ROLE BELOW ONCE CREATED'\n",
    "\n",
    "myRoleLambda2=\"doit-bedrock-recipe-chatbot-lambda-order-delivery-role\"\n",
    "myPolicyLambda2=\"doit-bedrock-recipe-chatbot-lambda-order-delivery-policy\"\n",
    "myRoleLambda2ARN='RETRIEVED FROM ROLE BELOW ONCE CREATED'\n",
    "\n",
    "# NOTE agent resource role must begin with AmazonBedrockExecutionRoleForAgents\n",
    "myAgentResourceRole1=\"AmazonBedrockExecutionRoleForAgents_query-knowledge-base\"\n",
    "myAgentResourcePolicy1=\"AmazonBedrockExecutionRoleForAgents_query-knowledge-base1-policy\"\n",
    "myAgentResourcePolicy2=\"AmazonBedrockExecutionRoleForAgents_query-knowledge-base2-policy\"\n",
    "myAgentResourceRole1ARN='RETRIEVED FROM ROLE BELOW ONCE CREATED'\n",
    "\n",
    "# lambda\n",
    "myLambda1='doit-bedrock-recipe-chatbot-send-recipe-email-fn'\n",
    "myLambda2='doit-bedrock-recipe-chatbot-order-delivery-fn'\n",
    "myLambda1ARN='RETRIEVED FROM LAMBDA BELOW ONCE QUERIED'\n",
    "myLambda2ARN='RETRIEVED FROM LAMBDA BELOW ONCE QUERIED'\n",
    "\n",
    "# agent\n",
    "myAgent1='doit-bedrock-recipe-chatbot-agent'\n",
    "myAgent1KBid='RETRIEVED FROM AGENT BELOW ONCE QUERIED'\n",
    "myAgent1Aliasid='RETRIEVED FROM ALIAS BELOW ONCE QUERIED'\n",
    "\n",
    "# action groups\n",
    "myActionGroup1='doit-bedrock-recipe-chatbot-send-recipe-email-action'\n",
    "myActionGroup2='doit-bedrock-recipe-chatbot-send-recipe-order-delivery-action'\n",
    "myActionGroup3='doit-bedrock-recipe-chatbot-more-info-reqd-action'\n",
    "myActionGroup1Id='RETRIEVED FROM ACTION GROUP QUERY BELOW ONCE QUERIED'\n",
    "myActionGroup2Id='RETRIEVED FROM ACTION GROUP QUERY BELOW ONCE QUERIED'\n",
    "myActionGroup3Id='RETRIEVED FROM ACTION GROUP QUERY BELOW ONCE QUERIED'\n",
    "\n",
    "# knowledge base\n",
    "myKB='doit-bedrock-recipe-chatbot-kb'\n",
    "myKBid='RETRIEVED FROM MODEL QUERY BELOW ONCE QUERIED'\n",
    "\n",
    "# knowledge base models we will use\n",
    "myQueryingModel='anthropic.claude-v2:1'\n",
    "myQueryingModelARN='RETRIEVED FROM MODEL QUERY BELOW ONCE QUERIED'"
   ]
  },
  {
   "cell_type": "markdown",
   "metadata": {},
   "source": [
    "# <p style=\"color:greenyellow\">YOU NEED TO PROVIDE THESE!!!</p>\n",
    "- an email which you need to verify (aws simple email service - ses - will send you ane mail with a link to verefy it)\n",
    "  - myEmailIdentitySender_SESSandbox\n",
    "  - this email will be used as a sender in the aws ses service\n",
    "- an email which you need to verify (aws simple email service - ses - will send you ane mail with a link to verefy it)\n",
    "  - myEmailReceiver_SESSandbox\n",
    "  - this email will be used to send recipes to\n",
    "- location of the resource files\n",
    "  - myLocalPathForLambda\n",
    "- If you used the same email for both, you will need to verify both - you will receive 2 separate emails with verification links"
   ]
  },
  {
   "cell_type": "markdown",
   "metadata": {},
   "source": [
    "-  <span style=\"color:greenyellow\">REMEBER TO CHANGE THIS EMAIL TO YOURS!<span>"
   ]
  },
  {
   "cell_type": "code",
   "execution_count": 2,
   "metadata": {},
   "outputs": [],
   "source": [
    "# ses\n",
    "myEmailIdentitySender_SESSandbox='<YOUR EMAIL>'\n",
    "myEmailReceiver_SESSandbox='<YOUR EMAIL>'"
   ]
  },
  {
   "cell_type": "markdown",
   "metadata": {},
   "source": [
    "-  <span style=\"color:greenyellow\">REMEBER TO CHANGE THIS PATH TO THE RESOURCES!<span>\n",
    "-  <span style=\"color:greenyellow\">IF IN AWS JUPYTER MAKE SURE THE 2ND IS UNCOMMENTED<span>"
   ]
  },
  {
   "cell_type": "code",
   "execution_count": null,
   "metadata": {},
   "outputs": [],
   "source": [
    "# local client path for resources\n",
    "#myLocalPathForLambda='/Users/simondavies/Documents/GitHub/labs/bedrock/recipe-chatbot/Resources/Lambda/'\n",
    "\n",
    "# jupypter notebook path if notebook is used in AWS for example\n",
    "myLocalPathForLambda='/home/ec2-user/SageMaker/labs/bedrock/recipe-chatbot/Resources/Lambda/'"
   ]
  },
  {
   "cell_type": "markdown",
   "metadata": {},
   "source": [
    "- create required clients"
   ]
  },
  {
   "cell_type": "code",
   "execution_count": 3,
   "metadata": {},
   "outputs": [],
   "source": [
    "# lambda\n",
    "lambdac = boto3.client('lambda', region_name=myRegion)\n",
    "\n",
    "# ses\n",
    "ses = boto3.client('ses', region_name=myRegion)\n",
    "\n",
    "\n",
    "# iam\n",
    "iam = boto3.client('iam', region_name=myRegion)\n",
    "\n",
    "# bedrock\n",
    "bedrockKB = boto3.client(service_name='bedrock-agent', region_name=myRegion)\n",
    "bedrockKBRun = boto3.client(service_name='bedrock-agent-runtime', region_name=myRegion)\n",
    "\n",
    "# logs (cloudwatch)\n",
    "logs = boto3.client('logs', region_name=myRegion)"
   ]
  },
  {
   "cell_type": "markdown",
   "metadata": {},
   "source": [
    "- tags for all services that are created - you can never have too many tags!\n",
    "  - make sure you have a tagging policy in place"
   ]
  },
  {
   "cell_type": "code",
   "execution_count": null,
   "metadata": {},
   "outputs": [],
   "source": [
    "# define tags added to all services we create\n",
    "myTags = [\n",
    "    {\"Key\": \"env\", \"Value\": \"non_prod\"},\n",
    "    {\"Key\": \"owner\", \"Value\": \"doit_bedrock_lab\"},\n",
    "    {\"Key\": \"project\", \"Value\": \"doit_bedrock_recipe_chatbot\"},\n",
    "    {\"Key\": \"author\", \"Value\": \"simon\"},\n",
    "]\n",
    "myTagsDct = {\n",
    "    \"env\": \"non_prod\",\n",
    "    \"owner\": \"doit_bedrock_lab\",\n",
    "    \"project\": \"doit_bedrock_recipe_chatbot\",\n",
    "    \"author\": \"simon\",\n",
    "}"
   ]
  },
  {
   "cell_type": "markdown",
   "metadata": {},
   "source": [
    "- get myKBid"
   ]
  },
  {
   "cell_type": "code",
   "execution_count": null,
   "metadata": {},
   "outputs": [],
   "source": [
    "# NOTE this assumes you only have 1 knowledge base!!\n",
    "# if you have more, change max results and look at them to assign the correct kb id\n",
    "response=bedrockKB.list_knowledge_bases(\n",
    "    maxResults=1\n",
    ")\n",
    "\n",
    "myKBid=response['knowledgeBaseSummaries'][0]['knowledgeBaseId']\n",
    "myKBid"
   ]
  },
  {
   "cell_type": "markdown",
   "metadata": {},
   "source": [
    "<hr style=\"border:1px dotted;color:greenyellow\">\n",
    "<hr style=\"border:1px dotted;color:orchid\">"
   ]
  },
  {
   "cell_type": "markdown",
   "metadata": {},
   "source": [
    "# <p style=\"color:orchid\">Create IAM</p>\n",
    "- roles and policies for the services to interact with other services"
   ]
  },
  {
   "cell_type": "markdown",
   "metadata": {},
   "source": [
    "### <p style=\"color:orchid\">Lambda 1 IAM - send-recipe-email-fn</p>\n",
    "- allows lambda to create log group and stream and write logs to cloudwatch\n",
    "- send an email"
   ]
  },
  {
   "cell_type": "code",
   "execution_count": null,
   "metadata": {},
   "outputs": [],
   "source": [
    "# define policy\n",
    "policyJson = {\n",
    "    \"Version\": \"2012-10-17\",\n",
    "    \"Statement\": [\n",
    "        {\n",
    "            \"Effect\": \"Allow\",\n",
    "            \"Action\": [\n",
    "                \"logs:CreateLogGroup\",\n",
    "                \"logs:CreateLogStream\",\n",
    "                \"logs:PutLogEvents\",\n",
    "            ],\n",
    "            \"Resource\": \"*\",\n",
    "        },\n",
    "        {\n",
    "            \"Effect\": \"Allow\",\n",
    "            \"Action\": [\n",
    "                \"ses:*\"\n",
    "            ],\n",
    "            \"Resource\": \"*\",\n",
    "        }\n",
    "    ],\n",
    "}\n",
    "\n",
    "# create policy\n",
    "policy = iam.create_policy(\n",
    "    PolicyName=myPolicyLambda1,\n",
    "    PolicyDocument=json.dumps(policyJson),\n",
    "    Description=\"Policy for {} lambda\".format(myLambda1),\n",
    "    Tags=[\n",
    "        *myTags,\n",
    "    ],\n",
    ")\n",
    "\n",
    "# trust policy for the role\n",
    "roleTrust = {\n",
    "    \"Version\": \"2012-10-17\",\n",
    "    \"Statement\": [\n",
    "        {\n",
    "            \"Effect\": \"Allow\",\n",
    "            \"Principal\": {\"Service\": \"lambda.amazonaws.com\"},\n",
    "            \"Action\": \"sts:AssumeRole\",\n",
    "        }\n",
    "    ],\n",
    "}\n",
    "\n",
    "# create role\n",
    "role = iam.create_role(\n",
    "    RoleName=myRoleLambda1,\n",
    "    AssumeRolePolicyDocument=json.dumps(roleTrust),\n",
    "    Description=\"Role for {} lambda\".format(myLambda1),\n",
    "    Tags=[\n",
    "        *myTags,\n",
    "    ],\n",
    ")\n",
    "\n",
    "# attach policy to role\n",
    "response = iam.attach_role_policy(\n",
    "    RoleName=role[\"Role\"][\"RoleName\"], PolicyArn=policy[\"Policy\"][\"Arn\"]\n",
    ")\n",
    "\n",
    "myRoleLambda1ARN = role['Role']['Arn']"
   ]
  },
  {
   "cell_type": "markdown",
   "metadata": {},
   "source": [
    "### <p style=\"color:orchid\">Lambda 2 IAM - order-delivery-fn</p>\n",
    "- allows lambda to create log group and stream and write logs to cloudwatch\n",
    "- simulate placing an order with a 3rd party"
   ]
  },
  {
   "cell_type": "code",
   "execution_count": null,
   "metadata": {},
   "outputs": [],
   "source": [
    "# define policy\n",
    "# add any further policies that might be required to allow the lambda to order from a 3rd party\n",
    "policyJson = {\n",
    "    \"Version\": \"2012-10-17\",\n",
    "    \"Statement\": [\n",
    "        {\n",
    "            \"Effect\": \"Allow\",\n",
    "            \"Action\": [\n",
    "                \"logs:CreateLogGroup\",\n",
    "                \"logs:CreateLogStream\",\n",
    "                \"logs:PutLogEvents\",\n",
    "            ],\n",
    "            \"Resource\": \"*\",\n",
    "        }\n",
    "    ],\n",
    "}\n",
    "\n",
    "# create policy\n",
    "policy = iam.create_policy(\n",
    "    PolicyName=myPolicyLambda2,\n",
    "    PolicyDocument=json.dumps(policyJson),\n",
    "    Description=\"Policy for {} lambda\".format(myLambda2),\n",
    "    Tags=[\n",
    "        *myTags,\n",
    "    ],\n",
    ")\n",
    "\n",
    "# trust policy for the role\n",
    "roleTrust = {\n",
    "    \"Version\": \"2012-10-17\",\n",
    "    \"Statement\": [\n",
    "        {\n",
    "            \"Effect\": \"Allow\",\n",
    "            \"Principal\": {\"Service\": \"lambda.amazonaws.com\"},\n",
    "            \"Action\": \"sts:AssumeRole\",\n",
    "        }\n",
    "    ],\n",
    "}\n",
    "\n",
    "# create role\n",
    "role = iam.create_role(\n",
    "    RoleName=myRoleLambda2,\n",
    "    AssumeRolePolicyDocument=json.dumps(roleTrust),\n",
    "    Description=\"Role for {} lambda\".format(myLambda2),\n",
    "    Tags=[\n",
    "        *myTags,\n",
    "    ],\n",
    ")\n",
    "\n",
    "# attach policy to role\n",
    "response = iam.attach_role_policy(\n",
    "    RoleName=role[\"Role\"][\"RoleName\"], PolicyArn=policy[\"Policy\"][\"Arn\"]\n",
    ")\n",
    "\n",
    "myRoleLambda2ARN = role['Role']['Arn']"
   ]
  },
  {
   "cell_type": "markdown",
   "metadata": {},
   "source": [
    "### <p style=\"color:orchid\">Agent 1 IAM - query-knowledge-base-agent</p>\n",
    "- allows agent to invoke bedrock knowledge base model"
   ]
  },
  {
   "cell_type": "code",
   "execution_count": null,
   "metadata": {},
   "outputs": [],
   "source": [
    "# define policy\n",
    "policyJson = {\n",
    "    \"Version\": \"2012-10-17\",\n",
    "    \"Statement\": [\n",
    "        {\n",
    "            \"Effect\": \"Allow\",\n",
    "            \"Action\": \"bedrock:InvokeModel\",\n",
    "            \"Resource\": [\n",
    "                \"arn:aws:bedrock:us-west-2::foundation-model/{}\".format(myQueryingModel)\n",
    "            ]\n",
    "        }\n",
    "    ]\n",
    "}\n",
    "\n",
    "# create policy\n",
    "policy1 = iam.create_policy(\n",
    "    PolicyName=myAgentResourcePolicy1,\n",
    "    PolicyDocument=json.dumps(policyJson),\n",
    "    Description=\"Policy for {} agent\".format(myAgent1),\n",
    "    Tags=[\n",
    "        *myTags,\n",
    "    ],\n",
    ")\n",
    "\n",
    "# define policy\n",
    "policyJson = {\n",
    "    \"Version\": \"2012-10-17\",\n",
    "    \"Statement\": [\n",
    "        {\n",
    "            \"Effect\": \"Allow\",\n",
    "            \"Action\": [\n",
    "                \"bedrock:Retrieve\"\n",
    "            ],\n",
    "            \"Resource\": [\n",
    "                \"arn:aws:bedrock:us-west-2:{}:knowledge-base/{}\".format(myAccountNumber, myKBid)\n",
    "            ]\n",
    "        }\n",
    "    ]\n",
    "}\n",
    "\n",
    "# create policy\n",
    "policy2 = iam.create_policy(\n",
    "    PolicyName=myAgentResourcePolicy2,\n",
    "    PolicyDocument=json.dumps(policyJson),\n",
    "    Description=\"Policy for {} agent\".format(myAgent1),\n",
    "    Tags=[\n",
    "        *myTags,\n",
    "    ],\n",
    ")\n",
    "\n",
    "# trust policy for the role\n",
    "roleTrust = {\n",
    "    \"Version\": \"2012-10-17\",\n",
    "    \"Statement\": [\n",
    "        {\n",
    "            \"Effect\": \"Allow\",\n",
    "            \"Principal\": {\n",
    "                \"Service\": \"bedrock.amazonaws.com\"\n",
    "            },\n",
    "            \"Action\": \"sts:AssumeRole\",\n",
    "            \"Condition\": {\n",
    "                \"StringEquals\": {\n",
    "                    \"aws:SourceAccount\": \"{}\".format(myAccountNumber)\n",
    "                },\n",
    "                \"ArnLike\": {\n",
    "                    \"aws:SourceArn\": \"arn:aws:bedrock:{}:{}:agent/*\".format(myRegion, myAccountNumber)\n",
    "                }\n",
    "            }\n",
    "        }\n",
    "    ]\n",
    "}\n",
    "\n",
    "# create role\n",
    "role = iam.create_role(\n",
    "    RoleName=myAgentResourceRole1,\n",
    "    AssumeRolePolicyDocument=json.dumps(roleTrust),\n",
    "    Description=\"Role for {} agent\".format(myAgent1),\n",
    "    Tags=[\n",
    "        *myTags,\n",
    "    ],\n",
    ")\n",
    "\n",
    "# attach policy to role\n",
    "response = iam.attach_role_policy(\n",
    "    RoleName=role[\"Role\"][\"RoleName\"], PolicyArn=policy1[\"Policy\"][\"Arn\"]\n",
    ")\n",
    "response = iam.attach_role_policy(\n",
    "    RoleName=role[\"Role\"][\"RoleName\"], PolicyArn=policy2[\"Policy\"][\"Arn\"]\n",
    ")\n",
    "\n",
    "myAgentResourceRole1ARN = role['Role']['Arn']"
   ]
  },
  {
   "cell_type": "markdown",
   "metadata": {},
   "source": [
    "<hr style=\"border:1px dotted;color:orchid\">\n",
    "<hr style=\"border:1px dotted;color:goldenrod\">"
   ]
  },
  {
   "cell_type": "markdown",
   "metadata": {},
   "source": [
    "# <span style=\"color:GoldenRod\">Create SES</span>\n",
    "- verify email identity as sender and receiver\n",
    "  - you will need to verify this identity - check your emails\n",
    "  - we need to do this because our ses is only in the sandbox and so has limitations on sender and recipient emails  \n",
    "#### <span style=\"color:deeppink\">verify your email - check your inbox!</span>"
   ]
  },
  {
   "cell_type": "code",
   "execution_count": null,
   "metadata": {},
   "outputs": [],
   "source": [
    "ses.verify_email_identity(\n",
    "    EmailAddress=myEmailIdentitySender_SESSandbox\n",
    ")\n",
    "\n",
    "ses.verify_email_identity(\n",
    "    EmailAddress=myEmailReceiver_SESSandbox\n",
    ")"
   ]
  },
  {
   "cell_type": "markdown",
   "metadata": {},
   "source": [
    "<hr style=\"border:1px dotted;color:goldenrod\">\n",
    "<hr style=\"border:1px dotted;color:LightSkyBlue\">"
   ]
  },
  {
   "cell_type": "markdown",
   "metadata": {},
   "source": [
    "# <span style=\"color:LightSkyBlue\">Create Lambda</span>\n",
    "- You need to create the zip file from the lambda resource folder as create lambda function requires a zipped file\n",
    "- You can do this from a terminal window as long as you have cd'ed to the folder that contains the function code\n",
    "  - Eg from the folder than contains the lambda function code (and all of the libraries if any are required) ...\n",
    "    - *zip -r ../doit-bedrock-recipe-chatbot-send-recipe-email-fn.zip .*\n",
    "    - Example, Simons Google Drive folder would be:\n",
    "    - /Users/simondavies/Library/CloudStorage/GoogleDrive-simon.davies@doit.com/Shared drives/Cloud Engineering/apac/Workshops/AWS Bedrock/Bangkok and Tokyo Offices/Labs/Resources/Lambda/send-recipe-email\n"
   ]
  },
  {
   "cell_type": "markdown",
   "metadata": {},
   "source": [
    "### <span style=\"color:LightSkyBlue\">Create Lambda 1 - send-recipe-email-fn</span>\n",
    "- create a lambda to send an email\n",
    "- will be used by action group 1"
   ]
  },
  {
   "cell_type": "code",
   "execution_count": null,
   "metadata": {},
   "outputs": [],
   "source": [
    "# define vars\n",
    "myLambdaZip='{}doit-bedrock-recipe-chatbot-send-recipe-email-fn.zip'.format(myLocalPathForLambda)\n",
    "\n",
    "# Loads the zip file as binary code. \n",
    "with open(myLambdaZip, 'rb') as f: \n",
    "    code = f.read()\n",
    "    \n",
    "# create lambda\n",
    "myLambdaFunction = lambdac.create_function(\n",
    "    FunctionName=myLambda1,\n",
    "    Runtime='python3.12',\n",
    "    Role=myRoleLambda1ARN,\n",
    "    Handler='doit-bedrock-recipe-chatbot-send-recipe-email-fn.lambda_handler',\n",
    "    Code={'ZipFile':code},\n",
    "    Description='sends an email from details passed in via the bedrock agent event',\n",
    "    Timeout=30,\n",
    "    MemorySize=128,\n",
    "    Publish=True,\n",
    "    PackageType='Zip',\n",
    "    Environment={\n",
    "        'Variables': {\n",
    "            'SES_SENDER_EMAIL': myEmailIdentitySender_SESSandbox\n",
    "        }\n",
    "    },\n",
    "    Tags=myTagsDct,\n",
    "    Architectures=[\n",
    "        'x86_64',\n",
    "    ],\n",
    "    LoggingConfig={\n",
    "        'LogFormat': 'JSON',\n",
    "        'ApplicationLogLevel': 'INFO',\n",
    "        'SystemLogLevel': 'WARN'\n",
    "    }\n",
    ")\n",
    "\n",
    "myLambda1ARN=myLambdaFunction['FunctionArn']"
   ]
  },
  {
   "cell_type": "markdown",
   "metadata": {},
   "source": [
    "- allow bedrock to invoke this lambda"
   ]
  },
  {
   "cell_type": "code",
   "execution_count": null,
   "metadata": {},
   "outputs": [],
   "source": [
    "lambdac.add_permission(\n",
    "    FunctionName=myLambda1,\n",
    "    StatementId='bedrock',\n",
    "    Action='lambda:InvokeFunction',\n",
    "    Principal='bedrock.amazonaws.com'\n",
    ")"
   ]
  },
  {
   "cell_type": "markdown",
   "metadata": {},
   "source": [
    "- log group for lambda"
   ]
  },
  {
   "cell_type": "code",
   "execution_count": null,
   "metadata": {},
   "outputs": [],
   "source": [
    "logs.create_log_group(\n",
    "    logGroupName='/aws/lambda/' + myLambda1,\n",
    "    tags=myTagsDct\n",
    ")"
   ]
  },
  {
   "cell_type": "markdown",
   "metadata": {},
   "source": [
    "### <span style=\"color:LightSkyBlue\">Create Lambda 2 - order-delivery-fn</span>\n",
    "- create a lambda to order ingredients\n",
    "- will be used by action group 2"
   ]
  },
  {
   "cell_type": "code",
   "execution_count": null,
   "metadata": {},
   "outputs": [],
   "source": [
    "# define vars\n",
    "myLambdaZip='{}doit-bedrock-recipe-chatbot-order-delivery-fn.zip'.format(myLocalPathForLambda)\n",
    "\n",
    "# Loads the zip file as binary code. \n",
    "with open(myLambdaZip, 'rb') as f: \n",
    "    code = f.read()\n",
    "    \n",
    "# create lambda\n",
    "myLambdaFunction = lambdac.create_function(\n",
    "    FunctionName=myLambda2,\n",
    "    Runtime='python3.12',\n",
    "    Role=myRoleLambda2ARN,\n",
    "    Handler='doit-bedrock-recipe-chatbot-order-delivery-fn.lambda_handler',\n",
    "    Code={'ZipFile':code},\n",
    "    Description='orders ingredients from details passed in via the bedrock agent event',\n",
    "    Timeout=30,\n",
    "    MemorySize=128,\n",
    "    Publish=True,\n",
    "    PackageType='Zip',\n",
    "    Tags=myTagsDct,\n",
    "    Architectures=[\n",
    "        'x86_64',\n",
    "    ],\n",
    "    LoggingConfig={\n",
    "        'LogFormat': 'JSON',\n",
    "        'ApplicationLogLevel': 'INFO',\n",
    "        'SystemLogLevel': 'WARN'\n",
    "    }\n",
    ")\n",
    "\n",
    "myLambda2ARN=myLambdaFunction['FunctionArn']"
   ]
  },
  {
   "cell_type": "markdown",
   "metadata": {},
   "source": [
    "- allow bedrock to invoke this lambda"
   ]
  },
  {
   "cell_type": "code",
   "execution_count": null,
   "metadata": {},
   "outputs": [],
   "source": [
    "lambdac.add_permission(\n",
    "    FunctionName=myLambda2,\n",
    "    StatementId='bedrock',\n",
    "    Action='lambda:InvokeFunction',\n",
    "    Principal='bedrock.amazonaws.com'\n",
    ")"
   ]
  },
  {
   "cell_type": "markdown",
   "metadata": {},
   "source": [
    "- log group for lambda"
   ]
  },
  {
   "cell_type": "code",
   "execution_count": null,
   "metadata": {},
   "outputs": [],
   "source": [
    "logs.create_log_group(\n",
    "    logGroupName='/aws/lambda/' + myLambda2,\n",
    "    tags=myTagsDct\n",
    ")"
   ]
  },
  {
   "cell_type": "markdown",
   "metadata": {},
   "source": [
    "<hr style=\"border:1px dotted;color:LightSkyBlue\">\n",
    "<hr style=\"border:1px dotted;color:DarkSeaGreen\">"
   ]
  },
  {
   "cell_type": "markdown",
   "metadata": {},
   "source": [
    "# <p style=\"color:DarkSeaGreen\">Create Agent 1</p>\n",
    "- Create the agent\n",
    "  - https://docs.aws.amazon.com/code-library/latest/ug/python_3_bedrock-agent_code_examples.html\n",
    "  - https://boto3.amazonaws.com/v1/documentation/api/latest/reference/services/bedrock-agent/client/create_agent.html"
   ]
  },
  {
   "cell_type": "code",
   "execution_count": null,
   "metadata": {},
   "outputs": [],
   "source": [
    "myAgent = bedrockKB.create_agent(\n",
    "    agentName=myAgent1,\n",
    "    agentResourceRoleArn=myAgentResourceRole1ARN,\n",
    "    description='This agent queries the knowledge base {}'.format(myKB),\n",
    "    foundationModel=myQueryingModel,\n",
    "    idleSessionTTLInSeconds=1800,\n",
    "    instruction='You are a top chef skilled in Thai, Japanese and Italian cuisines. ' \\\n",
    "                'You are friendly and polite, and can respond in English, Thai, Japanese or Italian languages. ' \\\n",
    "                'You help with finding dinner recipes and preperation instructions for hungry people to cook for themselves. ' \\\n",
    "                'You can also offer to email the recipe, or order ingredients for delivery.',\n",
    "    tags=myTagsDct,\n",
    ")\n",
    "myAgent1KBid=myAgent['agent']['agentId']\n",
    "\n",
    "# see if a version exists, ie this isn't the first one\n",
    "try:\n",
    "    myAgentVersion=myAgent['agent']['agentVersion']\n",
    "except:\n",
    "    myAgentVersion='DRAFT'\n",
    "myAgentVersion"
   ]
  },
  {
   "cell_type": "markdown",
   "metadata": {},
   "source": [
    "- adds the knowledge base"
   ]
  },
  {
   "cell_type": "code",
   "execution_count": null,
   "metadata": {},
   "outputs": [],
   "source": [
    "response = bedrockKB.associate_agent_knowledge_base(\n",
    "    agentId=myAgent1KBid,\n",
    "    agentVersion=myAgentVersion,\n",
    "    description='Use to find recipes for Thai, Japanese or Italian cuisine. ' \\\n",
    "                'If not provided, ask user: Thai, Japanese or Italian. ' \\\n",
    "                'Format response so the recipe can be easily followed. ' \\\n",
    "                'Do not use index to cite content.',\n",
    "    knowledgeBaseId=myKBid,\n",
    "    knowledgeBaseState='ENABLED'\n",
    ")"
   ]
  },
  {
   "cell_type": "markdown",
   "metadata": {},
   "source": [
    "- add the three action groups to reference the lambdas\n",
    "  - send the recipe email\n",
    "  - order the ingredients for delivery\n",
    "  - ask the user for more detail if the chosen action group requires more detail for the api call"
   ]
  },
  {
   "cell_type": "code",
   "execution_count": null,
   "metadata": {},
   "outputs": [],
   "source": [
    "# doit-bedrock-recipe-chatbot-send-recipe-email-action\n",
    "# openapi payload\n",
    "payload = {\n",
    "    \"openapi\": \"3.0.0\",\n",
    "    \"info\": {\n",
    "        \"title\": \"Send Recipe API\",\n",
    "        \"version\": \"1.0.0\",\n",
    "        \"description\": \"API for emailing a recipient the ingredients, and cooking instructions for a recipe\",\n",
    "    },\n",
    "    \"paths\": {\n",
    "        \"/email\": {\n",
    "            \"post\": {\n",
    "                \"description\": \"Send an email providing the ingredients, and cooking instructions for a recipe\",\n",
    "                \"operationId\": \"sendEmail\",\n",
    "                # agent uses the following fields to determine the information it must get from the end user to\n",
    "                # perform the action group's requirements\n",
    "                # \"parameters\": [\n",
    "                #    {\n",
    "                #        \"name\": \"emailAddress\",\n",
    "                #        \"description\": \"email addresses of the recipient to send the email to\",\n",
    "                #        \"required\": True,\n",
    "                #        \"schema\": {\"type\": \"string\", \"format\": \"email\"},\n",
    "                #    },\n",
    "                #    {\n",
    "                #        \"name\": \"firstname\",\n",
    "                #        \"description\": \"first name of the recipient to send the email to\",\n",
    "                #        \"required\": True,\n",
    "                #        \"schema\": {\"type\": \"string\"},\n",
    "                #    },\n",
    "                #    {\n",
    "                #        \"name\": \"ingredients\",\n",
    "                #        \"description\": \"list of ingredients\",\n",
    "                #        \"required\": True,\n",
    "                #        \"schema\": {\"type\": \"markdown\"},\n",
    "                #    },\n",
    "                #    {\n",
    "                #        \"name\": \"instructions\",\n",
    "                #        \"description\": \"cooking instructions\",\n",
    "                #        \"required\": True,\n",
    "                #        \"schema\": {\"type\": \"markdown\"},\n",
    "                #    },\n",
    "                # ],\n",
    "                \"requestBody\": {\n",
    "                    \"required\": True,\n",
    "                    \"content\": {\n",
    "                        \"application/json\": {\n",
    "                            \"schema\": {\n",
    "                                \"type\": \"object\",\n",
    "                                \"properties\": {\n",
    "                                    \"emailAddress\": {\n",
    "                                        \"type\": \"string\",\n",
    "                                        \"format\": \"email\",\n",
    "                                        \"description\": \"email addresses of the recipient to send the email to\",\n",
    "                                    },\n",
    "                                    \"firstname\": {\n",
    "                                        \"type\": \"string\",\n",
    "                                        \"description\": \"first name of the recipient to send the email to\",\n",
    "                                    },\n",
    "                                    \"ingredients\": {\n",
    "                                        \"type\": \"markdown\",\n",
    "                                        \"description\": \"list of ingredients\",\n",
    "                                    },\n",
    "                                    \"instructions\": {\n",
    "                                        \"type\": \"markdown\",\n",
    "                                        \"description\": \"cooking instructions\",\n",
    "                                    },\n",
    "                                },\n",
    "                                \"required\": [\n",
    "                                    \"emailAddress\",\n",
    "                                    \"firstname\",\n",
    "                                    \"ingredients\",\n",
    "                                    \"instructions\",\n",
    "                                ],\n",
    "                            }\n",
    "                        }\n",
    "                    },\n",
    "                },\n",
    "                \"responses\": {\n",
    "                    \"200\": {\n",
    "                        \"description\": \"Email sent successfully\",\n",
    "                        \"content\": {\n",
    "                            \"application/json\": {\n",
    "                                \"schema\": {\n",
    "                                    \"type\": \"object\",\n",
    "                                    \"properties\": {\n",
    "                                        \"sendEmailStatus\": {\n",
    "                                            \"type\": \"string\",\n",
    "                                            \"description\": \"Status of send email\",\n",
    "                                        }\n",
    "                                    },\n",
    "                                }\n",
    "                            }\n",
    "                        },\n",
    "                    },\n",
    "                    \"400\": {\n",
    "                        \"description\": \"Bad request. One or more required fields are missing or invalid.\"\n",
    "                    },\n",
    "                },\n",
    "            }\n",
    "        }\n",
    "    },\n",
    "}\n",
    "\n",
    "response = bedrockKB.create_agent_action_group(\n",
    "    actionGroupExecutor={\"lambda\": myLambda1ARN},\n",
    "    actionGroupName=myActionGroup1,\n",
    "    actionGroupState=\"ENABLED\",\n",
    "    agentId=myAgent1KBid,\n",
    "    agentVersion=myAgentVersion,\n",
    "    apiSchema={\n",
    "        \"payload\": json.dumps(payload),\n",
    "    },\n",
    "    description=\"Send an email containing the recipe and cooking instructions to a recipient email address\",\n",
    ")\n",
    "myActionGroup1Id = response[\"agentActionGroup\"][\"actionGroupId\"]"
   ]
  },
  {
   "cell_type": "code",
   "execution_count": null,
   "metadata": {},
   "outputs": [],
   "source": [
    "# doit-bedrock-recipe-chatbot-send-recipe-order-delivery-action\n",
    "# openapi payload\n",
    "payload = {\n",
    "    \"openapi\": \"3.0.0\",\n",
    "    \"info\": {\n",
    "        \"title\": \"Order Ingredients API\",\n",
    "        \"version\": \"1.0.0\",\n",
    "        \"description\": \"API for ordering the recipe ingredients from an online store for immediate delivery\",\n",
    "    },\n",
    "    \"paths\": {\n",
    "        \"/order\": {\n",
    "            \"post\": {\n",
    "                \"description\": \"Order the ingredients required by a recipe\",\n",
    "                \"operationId\": \"orderIngredients\",\n",
    "                # agent uses the following fields to determine the information it must get from the end user to\n",
    "                # perform the action group's requirements\n",
    "                # \"parameters\": [\n",
    "                #    {\n",
    "                #        \"name\": \"deliveryAddress\",\n",
    "                #        \"description\": \"delivery addresses for the order\",\n",
    "                #        \"required\": True,\n",
    "                #        \"schema\": {\"type\": \"string\"},\n",
    "                #    },\n",
    "                #    {\n",
    "                #        \"name\": \"firstname\",\n",
    "                #        \"description\": \"first name of the person placing the order\",\n",
    "                #        \"required\": True,\n",
    "                #        \"schema\": {\"type\": \"string\"},\n",
    "                #    },\n",
    "                #    {\n",
    "                #        \"name\": \"ingredients\",\n",
    "                #        \"description\": \"list of ingredients to order\",\n",
    "                #        \"required\": True,\n",
    "                #        \"schema\": {\"type\": \"markdown\"},\n",
    "                #    },\n",
    "                # ],\n",
    "                \"requestBody\": {\n",
    "                    \"required\": True,\n",
    "                    \"content\": {\n",
    "                        \"application/json\": {\n",
    "                            \"schema\": {\n",
    "                                \"type\": \"object\",\n",
    "                                \"properties\": {\n",
    "                                    \"deliveryAddress\": {\n",
    "                                        \"type\": \"string\",\n",
    "                                        \"description\": \"delivery addresses for the order\",\n",
    "                                    },\n",
    "                                    \"firstname\": {\n",
    "                                        \"type\": \"string\",\n",
    "                                        \"description\": \"first name of the person placing the order\",\n",
    "                                    },\n",
    "                                    \"ingredients\": {\n",
    "                                        \"type\": \"markdown\",\n",
    "                                        \"description\": \"list of ingredients to order\",\n",
    "                                    },\n",
    "                                },\n",
    "                                \"required\": [\n",
    "                                    \"deliveryAddress\",\n",
    "                                    \"firstname\",\n",
    "                                    \"ingredients\",\n",
    "                                ],\n",
    "                            }\n",
    "                        }\n",
    "                    },\n",
    "                },\n",
    "                \"responses\": {\n",
    "                    \"200\": {\n",
    "                        \"description\": \"Order placed successfully\",\n",
    "                        \"content\": {\n",
    "                            \"application/json\": {\n",
    "                                \"schema\": {\n",
    "                                    \"type\": \"object\",\n",
    "                                    \"properties\": {\n",
    "                                        \"placeOrderStatus\": {\n",
    "                                            \"type\": \"string\",\n",
    "                                            \"description\": \"Status of order\",\n",
    "                                        },\n",
    "                                        \"orderRef\": {\n",
    "                                            \"type\": \"string\",\n",
    "                                            \"description\": \"Order reference\",\n",
    "                                        }\n",
    "                                    },\n",
    "                                }\n",
    "                            }\n",
    "                        },\n",
    "                    },\n",
    "                    \"400\": {\n",
    "                        \"description\": \"Bad request. One or more required fields are missing or invalid.\"\n",
    "                    },\n",
    "                },\n",
    "            }\n",
    "        }\n",
    "    },\n",
    "}\n",
    "\n",
    "response = bedrockKB.create_agent_action_group(\n",
    "    actionGroupExecutor={\"lambda\": myLambda2ARN},\n",
    "    actionGroupName=myActionGroup2,\n",
    "    actionGroupState=\"ENABLED\",\n",
    "    agentId=myAgent1KBid,\n",
    "    agentVersion=myAgentVersion,\n",
    "    apiSchema={\n",
    "        \"payload\": json.dumps(payload),\n",
    "    },\n",
    "    description=\"Place an order for the ingredients of the recipe to be delivered\",\n",
    ")\n",
    "myActionGroup2Id = response[\"agentActionGroup\"][\"actionGroupId\"]"
   ]
  },
  {
   "cell_type": "code",
   "execution_count": null,
   "metadata": {},
   "outputs": [],
   "source": [
    "# doit-bedrock-recipe-chatbot-more-info-reqd-action\n",
    "# NOTE During orchestration, if your agent determines that it needs to invoke an API in an action group, \n",
    "# but doesn’t have enough information to complete the API request, it will invoke this action group instead \n",
    "# and return an Observation reprompting the user for more information.\n",
    "response = bedrockKB.create_agent_action_group(\n",
    "    actionGroupName=myActionGroup3,\n",
    "    actionGroupState='ENABLED',\n",
    "    agentId=myAgent1KBid,\n",
    "    agentVersion=myAgentVersion,\n",
    "    parentActionGroupSignature='AMAZON.UserInput'\n",
    ")\n",
    "myActionGroup3Id=response[\"agentActionGroup\"][\"actionGroupId\"]"
   ]
  },
  {
   "cell_type": "markdown",
   "metadata": {},
   "source": [
    "- prepare the agent for testing"
   ]
  },
  {
   "cell_type": "code",
   "execution_count": null,
   "metadata": {},
   "outputs": [],
   "source": [
    "bedrockKB.prepare_agent(\n",
    "    agentId=myAgent1KBid\n",
    ")"
   ]
  },
  {
   "cell_type": "markdown",
   "metadata": {},
   "source": [
    "- wait until the agent is prepared\n",
    "#### <span style=\"color:deeppink\">you can run the following cell multiple times until the status is PREPARED</span>"
   ]
  },
  {
   "cell_type": "code",
   "execution_count": null,
   "metadata": {},
   "outputs": [],
   "source": [
    "response = bedrockKB.get_agent(\n",
    "    agentId=myAgent1KBid\n",
    ")\n",
    "response['agent']['agentStatus']"
   ]
  },
  {
   "cell_type": "markdown",
   "metadata": {},
   "source": [
    "- create an alias and version for production use by your applications"
   ]
  },
  {
   "cell_type": "code",
   "execution_count": null,
   "metadata": {},
   "outputs": [],
   "source": [
    "response = bedrockKB.create_agent_alias(\n",
    "    agentAliasName='{}-alias'.format(myAgent1),\n",
    "    agentId=myAgent1KBid,\n",
    "    description='Release of agent {}'.format(myAgent1),\n",
    "    tags=myTagsDct\n",
    ")\n",
    "myAgent1Aliasid=response['agentAlias']['agentAliasId']"
   ]
  },
  {
   "cell_type": "markdown",
   "metadata": {},
   "source": [
    "<hr style=\"border:1px dotted;color:DarkSeaGreen\">\n",
    "<hr style=\"border:1px dotted;color:deeppink\">"
   ]
  },
  {
   "cell_type": "markdown",
   "metadata": {},
   "source": [
    "# <p style=\"color:deeppink\">STACK 02 COMPLETE!</p>"
   ]
  },
  {
   "cell_type": "markdown",
   "metadata": {},
   "source": [
    "# <p style=\"color:deeppink\">Example Use of Published Agent</p>\n",
    "- the following code can be used in your projects to invoke the agent we just created"
   ]
  },
  {
   "cell_type": "markdown",
   "metadata": {},
   "source": [
    "- create a method we can call to invoke the agent"
   ]
  },
  {
   "cell_type": "code",
   "execution_count": null,
   "metadata": {},
   "outputs": [],
   "source": [
    "from botocore.exceptions import ClientError\n",
    "import logging\n",
    "logger = logging.getLogger()\n",
    "logger.setLevel(logging.INFO)\n",
    "\n",
    "def invoke_agent(mySession, myPrompt, endConv):\n",
    "    # we can provide session state if required\n",
    "    # https://docs.aws.amazon.com/bedrock/latest/userguide/agents-session-state.html\n",
    "\n",
    "    try:\n",
    "        response = bedrockKBRun.invoke_agent(\n",
    "            agentAliasId=myAgent1Aliasid,\n",
    "            agentId=myAgent1KBid,\n",
    "            enableTrace=True,\n",
    "            endSession=endConv,\n",
    "            inputText=myPrompt,\n",
    "            sessionId=mySession,\n",
    "        )\n",
    "\n",
    "        completion = \"\"\n",
    "\n",
    "        for event in response.get(\"completion\"):\n",
    "            print(event)\n",
    "            try:\n",
    "                chunk = event[\"chunk\"]\n",
    "                completion = completion + chunk[\"bytes\"].decode()\n",
    "            except:\n",
    "                # must be a trace\n",
    "                chunk = \"\"\n",
    "            \n",
    "    except ClientError as e:\n",
    "        logger.error(f\"Couldn't invoke agent. {e}\")\n",
    "        raise\n",
    "\n",
    "    return completion"
   ]
  },
  {
   "cell_type": "markdown",
   "metadata": {},
   "source": [
    "- uncomment each prompt in turn to converse with the agent\n",
    "- try your own\n",
    "- wait until the cell finishes processing before sending the next prompt! \n",
    "- each prompt can take a few seconds, and lots of output is generated and displayed\n",
    "- you can review each step (pre-processing, orchestration, action groip, knowledge base)\n",
    "- it has not finished until you see the print RESPONSE: blah blah blah\n",
    "#### <span style=\"color:deeppink\">change the following in code below:</span>\n",
    "  - \\<YOUR_EMAIL> must be the same as the one you defined above in myEmailReceiver_SESSandbox\n",
    "    - this is because we are using ses in a sandbox and it can only use verified emails\n",
    "    - <span style=\"color:deeppink\">NOTE this has already been coded below to use it so no need to change</span>\n",
    "  - \\<your name>\n",
    "  - \\<your address>\n",
    "\n",
    "If you receieve an error, or don't receive the email, have you verified your email after using it as a verified SES identity above?\n",
    "  \n",
    "The code can run for a few seconds. Wait for the RESPONSE to appear in the output before running the next prompt.\n",
    "  \n",
    "Check your spam folder for emails."
   ]
  },
  {
   "cell_type": "code",
   "execution_count": null,
   "metadata": {},
   "outputs": [],
   "source": [
    "#Set endConv parameter to True when you want to end the conversation - it will die after 10 minutes regardless\n",
    "mySession=\"doit-bedrock-recipe-chatbot2\"\n",
    "myPrompt=\"hello, do you have any recipes I could cook for dinner?\"\n",
    "myPrompt=\"Italian please\"\n",
    "myPrompt=\"No dietary restrictions, do you have a recipe for Cheese Stuffed Shells with Bolognese Sauce please\"\n",
    "myPrompt=\"Could you email me that recipe please?\"\n",
    "myPrompt=\"Yes, send me the email, my email is {YOUR_EMAIL} and my name is Simon\".format(YOUR_EMAIL=myEmailReceiver_SESSandbox)\n",
    "#myPrompt=\"can you order the ingredients for me\"\n",
    "#myPrompt=\"my name is <YOUR NAME> and my address is <YOUR ADDRESS>\"\n",
    "#myPrompt=\"thankyou\"\n",
    "\n",
    "endConv=False\n",
    "completion=invoke_agent(mySession,myPrompt,endConv)\n",
    "print(\"RESPONSE:\\n{}\".format(completion))"
   ]
  },
  {
   "cell_type": "markdown",
   "metadata": {},
   "source": [
    "- you should now try your agent via the AWS console\n",
    "  - look at its different traces\n",
    "  - the lambda functionality\n",
    "  - the action groups\n",
    "  - etc"
   ]
  },
  {
   "cell_type": "markdown",
   "metadata": {},
   "source": [
    "<hr style=\"border:1px dotted;color:deeppink\">\n",
    "<hr style=\"border:1px dotted;color:orangered\">"
   ]
  },
  {
   "cell_type": "markdown",
   "metadata": {},
   "source": [
    "# <p style=\"color:orangered\">Clean Up - DO NOT DO THIS IN THIS LAB!!!!!</p>\n",
    "# <p style=\"color:orangered\">DO NOT RUN THESE UNLESS YOU WANT TO DESTROY EVERYTHING</p>\n",
    "- If you have lost the Kernel, run the cells contained in the <span style=\"color:greenyellow\">Set Up Requirements<span> section before the cells below"
   ]
  },
  {
   "cell_type": "markdown",
   "metadata": {},
   "source": [
    "- NOTE if you have lost the kernel, you will need to manually get the id's"
   ]
  },
  {
   "cell_type": "code",
   "execution_count": null,
   "metadata": {},
   "outputs": [],
   "source": [
    "# ses identity\n",
    "ses.delete_identity(\n",
    "    Identity=myEmailIdentitySender_SESSandbox\n",
    ")\n",
    "\n",
    "ses.delete_identity(\n",
    "    Identity=myEmailReceiver_SESSandbox\n",
    ")"
   ]
  },
  {
   "cell_type": "code",
   "execution_count": null,
   "metadata": {},
   "outputs": [],
   "source": [
    "# agent alias\n",
    "bedrockKB.delete_agent_alias(\n",
    "    agentAliasId=myAgent1Aliasid,\n",
    "    agentId=myAgent1KBid\n",
    ")\n"
   ]
  },
  {
   "cell_type": "code",
   "execution_count": null,
   "metadata": {},
   "outputs": [],
   "source": [
    "# delete version\n",
    "bedrockKB.delete_agent_version(\n",
    "    agentId=myAgent1KBid,\n",
    "    agentVersion='1',\n",
    "    skipResourceInUseCheck=False\n",
    ")\n"
   ]
  },
  {
   "cell_type": "code",
   "execution_count": null,
   "metadata": {},
   "outputs": [],
   "source": [
    "# agent action groups\n",
    "bedrockKB.delete_agent_action_group(\n",
    "    actionGroupId=myActionGroup1Id,\n",
    "    agentId=myAgent1KBid,\n",
    "    agentVersion=myAgentVersion,\n",
    "    skipResourceInUseCheck=True\n",
    ")\n",
    "\n",
    "bedrockKB.delete_agent_action_group(\n",
    "    actionGroupId=myActionGroup2Id,\n",
    "    agentId=myAgent1KBid,\n",
    "    agentVersion=myAgentVersion,\n",
    "    skipResourceInUseCheck=True\n",
    ")\n",
    "\n",
    "bedrockKB.delete_agent_action_group(\n",
    "    actionGroupId=myActionGroup3Id,\n",
    "    agentId=myAgent1KBid,\n",
    "    agentVersion=myAgentVersion,\n",
    "    skipResourceInUseCheck=True\n",
    ")"
   ]
  },
  {
   "cell_type": "code",
   "execution_count": null,
   "metadata": {},
   "outputs": [],
   "source": [
    "# diassociates knowledge base from agent\n",
    "bedrockKB.disassociate_agent_knowledge_base(\n",
    "    agentId=myAgent1KBid,\n",
    "    agentVersion=myAgentVersion,\n",
    "    knowledgeBaseId=myKBid\n",
    ")"
   ]
  },
  {
   "cell_type": "code",
   "execution_count": null,
   "metadata": {},
   "outputs": [],
   "source": [
    "# delete agent\n",
    "bedrockKB.delete_agent(\n",
    "    agentId=myAgent1KBid,\n",
    "    skipResourceInUseCheck=True\n",
    ")"
   ]
  },
  {
   "cell_type": "code",
   "execution_count": null,
   "metadata": {},
   "outputs": [],
   "source": [
    "# lambdas\n",
    "lambdac.delete_function(FunctionName=myLambda1)\n",
    "lambdac.delete_function(FunctionName=myLambda2)"
   ]
  },
  {
   "cell_type": "code",
   "execution_count": null,
   "metadata": {},
   "outputs": [],
   "source": [
    "# delete iam roles and policies\n",
    "\n",
    "# lambda 1\n",
    "iam.detach_role_policy(\n",
    "    RoleName=myRoleLambda1, PolicyArn='arn:aws:iam::{}:policy/{}'.format(myAccountNumber, myPolicyLambda1)\n",
    ")\n",
    "\n",
    "iam.delete_role(RoleName=myRoleLambda1)\n",
    "iam.delete_policy(PolicyArn='arn:aws:iam::{}:policy/{}'.format(myAccountNumber, myPolicyLambda1))\n",
    "\n",
    "# lambda 2\n",
    "iam.detach_role_policy(\n",
    "    RoleName=myRoleLambda2, PolicyArn='arn:aws:iam::{}:policy/{}'.format(myAccountNumber, myPolicyLambda2)\n",
    ")\n",
    "\n",
    "iam.delete_role(RoleName=myRoleLambda2)\n",
    "iam.delete_policy(PolicyArn='arn:aws:iam::{}:policy/{}'.format(myAccountNumber, myPolicyLambda2))\n",
    "\n",
    "# agent 1\n",
    "iam.detach_role_policy(\n",
    "    RoleName=myAgentResourceRole1, PolicyArn='arn:aws:iam::{}:policy/{}'.format(myAccountNumber, myAgentResourcePolicy1)\n",
    ")\n",
    "iam.detach_role_policy(\n",
    "    RoleName=myAgentResourceRole1, PolicyArn='arn:aws:iam::{}:policy/{}'.format(myAccountNumber, myAgentResourcePolicy2)\n",
    ")\n",
    "\n",
    "iam.delete_role(RoleName=myAgentResourceRole1)\n",
    "iam.delete_policy(PolicyArn='arn:aws:iam::{}:policy/{}'.format(myAccountNumber, myAgentResourcePolicy1))\n",
    "iam.delete_policy(PolicyArn='arn:aws:iam::{}:policy/{}'.format(myAccountNumber, myAgentResourcePolicy2))"
   ]
  },
  {
   "cell_type": "code",
   "execution_count": null,
   "metadata": {},
   "outputs": [],
   "source": [
    "# log group and log streams\n",
    "logs.delete_log_group(\n",
    "    logGroupName='/aws/lambda/' + myLambda1\n",
    ")\n",
    "\n",
    "logs.delete_log_group(\n",
    "    logGroupName='/aws/lambda/' + myLambda2\n",
    ")"
   ]
  },
  {
   "cell_type": "markdown",
   "metadata": {},
   "source": [
    "<hr style=\"border:1px dotted;color:coral\">\n",
    "<hr style=\"border:1px dotted;color:gold\">"
   ]
  },
  {
   "cell_type": "markdown",
   "metadata": {},
   "source": [
    "# <p style=\"color:gold\">Appendix - Jupyter Install Requirements (macOS)</p>\n",
    "#### <p style=\"color:deeppink\">- If you are running VSCode on a laptop, follow all of below.<br>- If you are running Jupyter inside an AWS Account, you don't need to do anything!</p>\n",
    "\n",
    "  - Credentials to the AWS account this notebook executes in is provided by AWS configure\n",
    "  - You must already have an IAM user with code (Command Line Interface) access and AWS access keys to be able to use these credentials in AWS configure  \n",
    "    \n",
    "  - arn:aws:iam::###########:user/simon-davies-cli created for this lab  \n",
    "\n",
    "### <p style=\"color:gold\">1. Homebrew</p> \n",
    "If you haven't installed Homebrew, you can install it by running the following command here or in the terminal:"
   ]
  },
  {
   "cell_type": "code",
   "execution_count": null,
   "metadata": {},
   "outputs": [],
   "source": [
    "%%bash\n",
    "sudo /bin/bash -c \"$(curl -fsSL https://raw.githubusercontent.com/Homebrew/install/HEAD/install.sh)\""
   ]
  },
  {
   "cell_type": "markdown",
   "metadata": {},
   "source": [
    "### <p style=\"color:gold\">1.1 Virtual Environments</p> \n",
    "- You can create a virtual environment that ensures any libraries you install are restricted to the venv.\n",
    "  - https://code.visualstudio.com/docs/python/environments\n",
    "- To enable the virtual environment once you have created it, ensure you open the folder in vs code rather than individual files."
   ]
  },
  {
   "cell_type": "code",
   "execution_count": null,
   "metadata": {
    "vscode": {
     "languageId": "shellscript"
    }
   },
   "outputs": [],
   "source": [
    "%%bash\n",
    "sudo /bin/bash -c \"$(curl -fsSL https://raw.githubusercontent.com/Homebrew/install/HEAD/install.sh)\""
   ]
  },
  {
   "cell_type": "markdown",
   "metadata": {},
   "source": [
    "### <p style=\"color:gold\">1.2 Python</p> \n",
    "Once Homebrew is installed, you can install Python using the following command  \n",
    "*check what you have before installing/upgrading*  \n",
    "*you will need to quit and restart vsCode to use python once installed (or updated)*"
   ]
  },
  {
   "cell_type": "code",
   "execution_count": null,
   "metadata": {
    "vscode": {
     "languageId": "shellscript"
    }
   },
   "outputs": [],
   "source": [
    "%%bash\n",
    "python3 --version\n",
    "which python3"
   ]
  },
  {
   "cell_type": "code",
   "execution_count": null,
   "metadata": {
    "vscode": {
     "languageId": "shellscript"
    }
   },
   "outputs": [],
   "source": [
    "%%bash\n",
    "brew install python"
   ]
  },
  {
   "cell_type": "markdown",
   "metadata": {},
   "source": [
    "### <p style=\"color:gold\">2. boto3 and other Python requirements</p> \n",
    "* boto3 must be installed on your client\n",
    "  * *Boto3 is the Amazon Web Services (AWS) Software Development Kit (SDK) for Python, which allows Python developers to write software that makes use of services like Amazon S3 and Amazon EC2.*\n",
    "  * https://boto3.amazonaws.com/v1/documentation/api/latest/index.html  \n",
    "  \n",
    "*check what you have before installing/upgrading*  "
   ]
  },
  {
   "cell_type": "code",
   "execution_count": null,
   "metadata": {
    "vscode": {
     "languageId": "shellscript"
    }
   },
   "outputs": [],
   "source": [
    "%%bash\n",
    "python3 -m pip show boto3"
   ]
  },
  {
   "cell_type": "code",
   "execution_count": null,
   "metadata": {
    "vscode": {
     "languageId": "shellscript"
    }
   },
   "outputs": [],
   "source": [
    "pip install -U boto3"
   ]
  },
  {
   "cell_type": "code",
   "execution_count": null,
   "metadata": {
    "vscode": {
     "languageId": "shellscript"
    }
   },
   "outputs": [],
   "source": [
    "pip install -U langchain"
   ]
  },
  {
   "cell_type": "markdown",
   "metadata": {},
   "source": [
    "### <p style=\"color:gold\">3. aws configure</p> \n",
    "*Configure aws configure with credentials, and a user that has all of the Bedrock IAM policies required*  \n",
    "https://docs.aws.amazon.com/bedrock/latest/userguide/security_iam_id-based-policy-examples.html"
   ]
  },
  {
   "cell_type": "code",
   "execution_count": null,
   "metadata": {
    "vscode": {
     "languageId": "shellscript"
    }
   },
   "outputs": [],
   "source": [
    "%%bash\n",
    "aws sts get-caller-identity"
   ]
  },
  {
   "cell_type": "markdown",
   "metadata": {},
   "source": [
    "### <p style=\"color:gold\">4. Request Bedrock model access</p> \n",
    "*You must request access to the models required, you may need to provide use case details before you are able to request*  \n",
    "*Make sure you request in the region you intend to use the models in, this lab is us-west-2*  \n",
    "https://us-west-2.console.aws.amazon.com/bedrock/home?region=us-west-2#/modelaccess  \n",
    "\n",
    "Models required in this lab:\n",
    "\n",
    "* See code above for use of models and what access to request\n",
    "\n",
    "#### Pricing\n",
    "*Use 6 characters per token as an approximation for the number of tokens.*  \n",
    "https://aws.amazon.com/bedrock/pricing/  \n",
    "https://docs.aws.amazon.com/bedrock/latest/userguide/model-customization-prepare.html"
   ]
  },
  {
   "cell_type": "markdown",
   "metadata": {},
   "source": [
    "<hr style=\"border:1px dotted;color:gold\">"
   ]
  }
 ],
 "metadata": {
  "kernelspec": {
   "display_name": "Python 3",
   "language": "python",
   "name": "python3"
  },
  "language_info": {
   "codemirror_mode": {
    "name": "ipython",
    "version": 3
   },
   "file_extension": ".py",
   "mimetype": "text/x-python",
   "name": "python",
   "nbconvert_exporter": "python",
   "pygments_lexer": "ipython3",
   "version": "3.12.2"
  }
 },
 "nbformat": 4,
 "nbformat_minor": 2
}
