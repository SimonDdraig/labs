{
 "cells": [
  {
   "cell_type": "markdown",
   "metadata": {},
   "source": [
    "# <p style=\"color:dodgerblue\">01 Create Rekognition Backend</p>\n",
    "This stack creates backend services and resources that are used by the website/app to invoke rekognition face liveness\n",
    "  \n",
    "(Jupyter Notebook developed with Kernel Python 3.11.6)\n",
    "<hr style=\"border:1px dotted; color:floralwhite\">"
   ]
  },
  {
   "cell_type": "markdown",
   "metadata": {},
   "source": [
    "# <span style=\"color:deeppink\">GETTING STARTED</span>\n",
    "# Local client requirements for this Lab (macOS)\n",
    "- *See <span style=\"color:gold\">Appendix - Jupyter Install Requirements (macOS)</span> at the bottom of this lab to install macOS requirements, windows requirements will be similar, apart from Homebrew.*  \n",
    "- These requirements are generic and allow you to run Python notebooks, use Boto3, etc - they are simply to get your local environment in a state that can support Jupyter Notebooks and not specific to Rekognition"
   ]
  },
  {
   "cell_type": "markdown",
   "metadata": {},
   "source": [
    "<hr style=\"border:1px dotted\">\n",
    "<hr style=\"border:1px dotted;color:greenyellow\">"
   ]
  },
  {
   "cell_type": "markdown",
   "metadata": {},
   "source": [
    "# <p style=\"color:DarkTurquoise\">Rekognition Face Liveness Prerequisites</p>\n",
    "### <p style=\"color:DarkTurquoise\">NOTE we are using us-east-1</p>\n",
    "To develop applications that use Rekognition and Rekognition Face Liveness, we require the following resources to be provisioned:\n",
    "  \n",
    "- AWS Amplify CLI - needed to be able to develop the Rekognition Face Liveness services\n",
    "  - https://docs.aws.amazon.com/rekognition/latest/dg/face-liveness-prerequisites.html#face-liveness-prerequisites-amplify\n",
    "  - After you have installed CLI, complete the Configure Auth step steps seen at the Amplify UI docs site to set up your AWS Amplify resources.\n",
    "  - https://ui.docs.amplify.aws/react/connected-components/liveness#step-1-configure-auth\n",
    "\n"
   ]
  },
  {
   "cell_type": "raw",
   "metadata": {
    "vscode": {
     "languageId": "raw"
    }
   },
   "source": [
    "# Install and configure the Amplify CLI\n",
    "# The Amplify CLI provides the ability to add custom AWS resources with CDK or CloudFormation\n",
    "# Run the following steps in a terminal window, or simply follow this guide:\n",
    "# https://docs.amplify.aws/lib/project-setup/prereq/q/platform/js/#configure-the-amplify-cli\n",
    "\n",
    "# Step 1\n",
    "npm install -g @aws-amplify/cli\n",
    "\n",
    "# Step 2\n",
    "# configure the aws-amplify/cli\n",
    "# run the following in a terminal window\n",
    "amplify configure\n",
    "\n",
    "# this will ask you to connect to your AWS account and create an IAM user - see for more details\n",
    "# this url should popup when configuring:\n",
    "https://docs.amplify.aws/gen1/javascript/prev/start/project-setup/prerequisites/#configure-the-amplify-cli\n",
    "\n",
    "# I called my user: amplify-dev for sake of consistency with the AWS documentation\n",
    "# store your acccess keys securely\n",
    "\n",
    "# back in terminal, when asked, create a new profile or use default\n",
    "# I created and named mine: Amplify-Rekognition-Face-Liveness"
   ]
  },
  {
   "cell_type": "markdown",
   "metadata": {},
   "source": [
    "<hr style=\"border:1px dotted;color:DarkTurquoise\">\n",
    "<hr style=\"border:1px dotted;color:greenyellow\">"
   ]
  },
  {
   "cell_type": "markdown",
   "metadata": {},
   "source": [
    "# <p style=\"color:greenyellow\">Now we are going to create the backend services</p>"
   ]
  },
  {
   "cell_type": "markdown",
   "metadata": {},
   "source": [
    "# <p style=\"color:greenyellow\">Lets Create Clients and Variables</p>\n",
    "- We do these setup cells here because we can then use the vars and clients to clean up resources later without having to run multiple cells if we lose the kernel  \n",
    "  \n",
    "-  <span style=\"color:greenyellow\">Please note we use us-east-1 region as Rekognition Face Liveness regions are limited<span>"
   ]
  },
  {
   "cell_type": "code",
   "execution_count": null,
   "metadata": {},
   "outputs": [],
   "source": [
    "import boto3\n",
    "import json\n",
    "import random\n",
    "\n",
    "# region - we use us-east-1 as Bedrock is limited in other reasons\n",
    "myRegion='us-east-1'\n",
    "myAccountNumber = boto3.client(\"sts\").get_caller_identity()[\"Account\"]\n",
    "\n",
    "# set up a boto3 session using a profile that is able to create services in the region\n",
    "# this is typically a developer profile or deployment profile\n",
    "# we DO NOT need the amplify profile we crerated above yet - that is used in stack 02\n",
    "sessionBoto3 = boto3.Session(profile_name=\"default\", region_name=myRegion)\n",
    "\n",
    "# names for services we will create below\n",
    "# s3 bucket - MUST BE A UNIQUE NAME\n",
    "myBucketRekognition='doit-rekognition-bucket-' + str(random.randint(0, 1000)) + '-' + str(random.randint(0, 1000))\n",
    "\n",
    "# iam\n",
    "myRoleLambda1=\"doit-rekognition-lambda-start-liveness-session-role\"\n",
    "myPolicyLambda1=\"doit-rekognition-lambda-start-liveness-session-policy\"\n",
    "myRoleLambda1ARN='RETRIEVED FROM ROLE BELOW ONCE CREATED'\n",
    "myRoleLambda2=\"doit-rekognition-lambda-liveness-session-result-role\"\n",
    "myPolicyLambda2=\"doit-rekognition-lambda-liveness-session-result-policy\"\n",
    "myRoleLambda2ARN='RETRIEVED FROM ROLE BELOW ONCE CREATED'\n",
    "\n",
    "# lambda\n",
    "myLambda1='doit-rekognition-start-liveness-session-fn'\n",
    "myLambda2='doit-rekognition-liveness-session-result-fn'\n",
    "myLambda1ARN='RETRIEVED FROM LAMBDA BELOW ONCE QUERIED'\n",
    "myLambda2ARN='RETRIEVED FROM LAMBDA BELOW ONCE QUERIED'\n",
    "\n",
    "# api gateway\n",
    "myAPIGateway='doit-rekognition-api'\n",
    "myResource1='start-liveness-session'\n",
    "myResource2='liveness-session-result'\n",
    "myAPIid='RETRIEVED FROM LAMBDA BELOW ONCE QUERIED'\n",
    "\n",
    "print ('Done! Move to the next cell ->')"
   ]
  },
  {
   "cell_type": "code",
   "execution_count": null,
   "metadata": {},
   "outputs": [],
   "source": [
    "# local client path for resources\n",
    "myLocalPathForResources='/Users/simondavies/Documents/GitHub/labs/rekognition/face liveness/resources/'\n",
    "\n",
    "print ('Done! Move to the next cell ->')"
   ]
  },
  {
   "cell_type": "markdown",
   "metadata": {},
   "source": [
    "- create required clients"
   ]
  },
  {
   "cell_type": "code",
   "execution_count": null,
   "metadata": {},
   "outputs": [],
   "source": [
    "# s3\n",
    "s3 = sessionBoto3.client('s3')\n",
    "\n",
    "# rekognition\n",
    "rekognition = sessionBoto3.client('rekognition')\n",
    "\n",
    "# iam\n",
    "iam = sessionBoto3.client('iam')\n",
    "\n",
    "# lambda\n",
    "lambdac = sessionBoto3.client('lambda')\n",
    "\n",
    "# logs (cloudwatch)\n",
    "logs = sessionBoto3.client('logs')\n",
    "\n",
    "# api gateway\n",
    "apiGateway = sessionBoto3.client('apigateway')\n",
    "\n",
    "print ('Done! Move to the next cell ->')"
   ]
  },
  {
   "cell_type": "markdown",
   "metadata": {},
   "source": [
    "- tags for all services that are created - you can never have too many tags!\n",
    "  - make sure you have a tagging policy in place"
   ]
  },
  {
   "cell_type": "code",
   "execution_count": null,
   "metadata": {},
   "outputs": [],
   "source": [
    "# define tags added to all services we create\n",
    "myTags = [\n",
    "    {\"Key\": \"env\", \"Value\": \"non_prod\"},\n",
    "    {\"Key\": \"owner\", \"Value\": \"doit_lab\"},\n",
    "    {\"Key\": \"project\", \"Value\": \"doit_rekognition-face-liveness-lab\"},\n",
    "    {\"Key\": \"author\", \"Value\": \"simon\"},\n",
    "]\n",
    "myTagsDct = {\n",
    "    \"env\": \"non_prod\",\n",
    "    \"owner\": \"doit_lab\",\n",
    "    \"project\": \"doit_rekognition-face-liveness-lab\",\n",
    "    \"author\": \"simon\",\n",
    "}\n",
    "\n",
    "print ('Done! Move to the next cell ->')"
   ]
  },
  {
   "cell_type": "markdown",
   "metadata": {},
   "source": [
    "<hr style=\"border:1px dotted;color:greenyellow\">\n",
    "<hr style=\"border:1px dotted;color:crimson\">"
   ]
  },
  {
   "cell_type": "markdown",
   "metadata": {},
   "source": [
    "# <p style=\"color:crimson\">Create S3 Bucket</p>\n",
    "- defaults used, will use sse-s3 encryption and block public access"
   ]
  },
  {
   "cell_type": "code",
   "execution_count": null,
   "metadata": {},
   "outputs": [],
   "source": [
    "# create bucket\n",
    "if (myRegion != 'us-east-1'):\n",
    "    s3.create_bucket(\n",
    "        Bucket=myBucketRekognition, CreateBucketConfiguration={\"LocationConstraint\": myRegion}\n",
    "    )\n",
    "else:\n",
    "    s3.create_bucket(\n",
    "        Bucket=myBucketRekognition\n",
    "    )\n",
    "\n",
    "s3.put_bucket_tagging(Bucket=myBucketRekognition, Tagging={\"TagSet\": myTags})\n",
    "\n",
    "# create a \"folder\" - really keys as S3 is flat\n",
    "s3.put_object(Bucket=myBucketRekognition, Key=\"images/\")\n",
    "\n",
    "# Define the policy for rekognition face liveness to store images\n",
    "bucket_policy = {\n",
    "    \"Version\": \"2012-10-17\",\n",
    "    \"Statement\": [\n",
    "        {\n",
    "            \"Sid\": \"AllowRekognitionToWriteToS3\",\n",
    "            \"Effect\": \"Allow\",\n",
    "            \"Principal\": {\n",
    "                \"Service\": \"rekognition.amazonaws.com\"\n",
    "            },\n",
    "            \"Action\": \"s3:PutObject\",\n",
    "            \"Resource\": f\"arn:aws:s3:::{myBucketRekognition}/*\"\n",
    "        }\n",
    "    ]\n",
    "}\n",
    "bucket_policy = json.dumps(bucket_policy)\n",
    "s3.put_bucket_policy(Bucket=myBucketRekognition, Policy=bucket_policy)\n",
    "\n",
    "print ('Done! Move to the next cell ->')"
   ]
  },
  {
   "cell_type": "markdown",
   "metadata": {},
   "source": [
    "<hr style=\"border:1px dotted;color:crimson\">\n",
    "<hr style=\"border:1px dotted;color:orchid\">"
   ]
  },
  {
   "cell_type": "markdown",
   "metadata": {},
   "source": [
    "# <p style=\"color:orchid\">Create IAM</p>\n",
    "- roles and policies for the services to interact with other services"
   ]
  },
  {
   "cell_type": "code",
   "execution_count": null,
   "metadata": {},
   "outputs": [],
   "source": [
    "# myRoleLambda1\n",
    "# trust policy for the role\n",
    "roleTrust = {\n",
    "    \"Version\": \"2012-10-17\",\n",
    "    \"Statement\": [\n",
    "        {\n",
    "            \"Effect\": \"Allow\",\n",
    "            \"Principal\": {\"Service\": \"lambda.amazonaws.com\"},\n",
    "            \"Action\": \"sts:AssumeRole\",\n",
    "        }\n",
    "    ],\n",
    "}\n",
    "\n",
    "# define inline policy\n",
    "policyJson = {\n",
    "    \"Version\": \"2012-10-17\",\n",
    "    \"Statement\": [\n",
    "        {\n",
    "            \"Effect\": \"Allow\",\n",
    "            \"Action\": [\n",
    "                \"logs:CreateLogGroup\",\n",
    "                \"logs:CreateLogStream\",\n",
    "                \"logs:PutLogEvents\",\n",
    "            ],\n",
    "            \"Resource\": \"*\",\n",
    "        },\n",
    "        {\n",
    "            \"Effect\": \"Allow\",\n",
    "            \"Action\": [\n",
    "                \"s3:PutObject\",\n",
    "                \"s3:GetBucketLocation\"\n",
    "            ],\n",
    "            \"Resource\": [\n",
    "                f\"arn:aws:s3:::{myBucketRekognition}\",\n",
    "                f\"arn:aws:s3:::{myBucketRekognition}/*\"\n",
    "            ]\n",
    "        }\n",
    "    ],\n",
    "}\n",
    "\n",
    "# create inline policy\n",
    "policy = iam.create_policy(\n",
    "    PolicyName=myPolicyLambda1,\n",
    "    PolicyDocument=json.dumps(policyJson),\n",
    "    Description=\"Policy for {} lambda\".format(myLambda1),\n",
    "    Tags=[\n",
    "        *myTags,\n",
    "    ],\n",
    ")\n",
    "\n",
    "# create role\n",
    "role = iam.create_role(\n",
    "    RoleName=myRoleLambda1,\n",
    "    AssumeRolePolicyDocument=json.dumps(roleTrust),\n",
    "    Description=\"Role for {} lambda\".format(myLambda1),\n",
    "    Tags=[\n",
    "        *myTags,\n",
    "    ],\n",
    ")\n",
    "\n",
    "# attach managed policies to role\n",
    "iam.attach_role_policy(\n",
    "    RoleName=role[\"Role\"][\"RoleName\"], \n",
    "    PolicyArn='arn:aws:iam::aws:policy/service-role/AWSLambdaVPCAccessExecutionRole'\n",
    ")\n",
    "iam.attach_role_policy(\n",
    "    RoleName=role[\"Role\"][\"RoleName\"], \n",
    "    PolicyArn='arn:aws:iam::aws:policy/AmazonRekognitionFullAccess'\n",
    ")\n",
    "\n",
    "# attach inline policies to role\n",
    "response = iam.attach_role_policy(\n",
    "    RoleName=role[\"Role\"][\"RoleName\"], PolicyArn=policy[\"Policy\"][\"Arn\"]\n",
    ")\n",
    "\n",
    "myRoleLambda1ARN = role['Role']['Arn']\n",
    "\n",
    "print ('Done! Move to the next cell ->')"
   ]
  },
  {
   "cell_type": "code",
   "execution_count": null,
   "metadata": {},
   "outputs": [],
   "source": [
    "# myRoleLambda2\n",
    "# trust policy for the role\n",
    "roleTrust = {\n",
    "    \"Version\": \"2012-10-17\",\n",
    "    \"Statement\": [\n",
    "        {\n",
    "            \"Effect\": \"Allow\",\n",
    "            \"Principal\": {\"Service\": \"lambda.amazonaws.com\"},\n",
    "            \"Action\": \"sts:AssumeRole\",\n",
    "        }\n",
    "    ],\n",
    "}\n",
    "\n",
    "# define inline policy\n",
    "policyJson = {\n",
    "    \"Version\": \"2012-10-17\",\n",
    "    \"Statement\": [\n",
    "        {\n",
    "            \"Effect\": \"Allow\",\n",
    "            \"Action\": [\n",
    "                \"logs:CreateLogGroup\",\n",
    "                \"logs:CreateLogStream\",\n",
    "                \"logs:PutLogEvents\",\n",
    "            ],\n",
    "            \"Resource\": \"*\",\n",
    "        },\n",
    "        {\n",
    "            \"Effect\": \"Allow\",\n",
    "            \"Action\": [\n",
    "                \"s3:PutObject\",\n",
    "                \"s3:GetBucketLocation\"\n",
    "            ],\n",
    "            \"Resource\": [\n",
    "                f\"arn:aws:s3:::{myBucketRekognition}\",\n",
    "                f\"arn:aws:s3:::{myBucketRekognition}/*\"\n",
    "            ]\n",
    "        }\n",
    "    ],\n",
    "}\n",
    "\n",
    "# create inline policy\n",
    "policy = iam.create_policy(\n",
    "    PolicyName=myPolicyLambda2,\n",
    "    PolicyDocument=json.dumps(policyJson),\n",
    "    Description=\"Policy for {} lambda\".format(myLambda2),\n",
    "    Tags=[\n",
    "        *myTags,\n",
    "    ],\n",
    ")\n",
    "\n",
    "# create role\n",
    "role = iam.create_role(\n",
    "    RoleName=myRoleLambda2,\n",
    "    AssumeRolePolicyDocument=json.dumps(roleTrust),\n",
    "    Description=\"Role for {} lambda\".format(myLambda2),\n",
    "    Tags=[\n",
    "        *myTags,\n",
    "    ],\n",
    ")\n",
    "\n",
    "# attach managed policies to role\n",
    "iam.attach_role_policy(\n",
    "    RoleName=role[\"Role\"][\"RoleName\"], \n",
    "    PolicyArn='arn:aws:iam::aws:policy/service-role/AWSLambdaVPCAccessExecutionRole'\n",
    ")\n",
    "iam.attach_role_policy(\n",
    "    RoleName=role[\"Role\"][\"RoleName\"], \n",
    "    PolicyArn='arn:aws:iam::aws:policy/AmazonRekognitionFullAccess'\n",
    ")\n",
    "\n",
    "# attach inline policies to role\n",
    "response = iam.attach_role_policy(\n",
    "    RoleName=role[\"Role\"][\"RoleName\"], PolicyArn=policy[\"Policy\"][\"Arn\"]\n",
    ")\n",
    "\n",
    "myRoleLambda2ARN = role['Role']['Arn']\n",
    "\n",
    "print ('Done! Move to the next cell ->')"
   ]
  },
  {
   "cell_type": "markdown",
   "metadata": {},
   "source": [
    "<hr style=\"border:1px dotted;color:orchid\">\n",
    "<hr style=\"border:1px dotted;color:LightSkyBlue\">"
   ]
  },
  {
   "cell_type": "markdown",
   "metadata": {},
   "source": [
    "# <span style=\"color:LightSkyBlue\">Create Lambda</span>\n",
    "- You need to create the zip file from the lambda resource folder as create lambda function requires a zipped file\n",
    "- You can do this from a terminal window as long as you have cd'ed to the folder that contains the function code\n",
    "  - Eg from the folder that contains the lambda function code (and all of the libraries if any are required) ...\n",
    "    - NOTE the below only zips up a single file, if your lambda requires libraries put the lambda in its own folder with the libraries in their folders, and specify .* instead of the .py lambda file name\n",
    "    - *zip -r doit-rekognition-start-liveness-session-fn.zip doit-rekognition-start-liveness-session-fn.py*\n",
    "    - *zip -r doit-rekognition-liveness-session-result-fn.zip doit-rekognition-liveness-session-result-fn.py*"
   ]
  },
  {
   "cell_type": "code",
   "execution_count": null,
   "metadata": {},
   "outputs": [],
   "source": [
    "# define vars\n",
    "myLambdaZip='{}lambda/{}.zip'.format(myLocalPathForResources, myLambda1)\n",
    "\n",
    "# Loads the zip file as binary code. \n",
    "with open(myLambdaZip, 'rb') as f: \n",
    "    code = f.read()\n",
    "    \n",
    "# create lambda\n",
    "myLambdaFunction = lambdac.create_function(\n",
    "    FunctionName=myLambda1,\n",
    "    Runtime='python3.12',\n",
    "    Role=myRoleLambda1ARN,\n",
    "    Handler='{}.lambda_handler'.format(myLambda1),\n",
    "    Code={'ZipFile':code},\n",
    "    Description='Starts a rekognition face liveness session',\n",
    "    Timeout=30,\n",
    "    MemorySize=128,\n",
    "    Publish=True,\n",
    "    PackageType='Zip',\n",
    "    Environment={\n",
    "        'Variables': {\n",
    "            'S3': myBucketRekognition\n",
    "        }\n",
    "    },\n",
    "    Tags=myTagsDct,\n",
    "    Architectures=[\n",
    "        'x86_64',\n",
    "    ],\n",
    "    LoggingConfig={\n",
    "        'LogFormat': 'JSON',\n",
    "        'ApplicationLogLevel': 'INFO',\n",
    "        'SystemLogLevel': 'WARN'\n",
    "    }\n",
    ")\n",
    "\n",
    "myLambda1ARN=myLambdaFunction['FunctionArn']\n",
    "\n",
    "print ('Done! Move to the next cell ->')"
   ]
  },
  {
   "cell_type": "code",
   "execution_count": null,
   "metadata": {},
   "outputs": [],
   "source": [
    "logs.create_log_group(\n",
    "    logGroupName='/aws/lambda/' + myLambda1,\n",
    "    tags=myTagsDct\n",
    ")\n",
    "\n",
    "print ('Done! Move to the next cell ->')"
   ]
  },
  {
   "cell_type": "code",
   "execution_count": null,
   "metadata": {},
   "outputs": [],
   "source": [
    "# define vars\n",
    "myLambdaZip='{}lambda/{}.zip'.format(myLocalPathForResources, myLambda2)\n",
    "\n",
    "# Loads the zip file as binary code. \n",
    "with open(myLambdaZip, 'rb') as f: \n",
    "    code = f.read()\n",
    "    \n",
    "# create lambda\n",
    "myLambdaFunction = lambdac.create_function(\n",
    "    FunctionName=myLambda2,\n",
    "    Runtime='python3.12',\n",
    "    Role=myRoleLambda2ARN,\n",
    "    Handler='{}.lambda_handler'.format(myLambda2),\n",
    "    Code={'ZipFile':code},\n",
    "    Description='Gets the result of a rekognition face liveness session',\n",
    "    Timeout=30,\n",
    "    MemorySize=128,\n",
    "    Publish=True,\n",
    "    PackageType='Zip',\n",
    "    Tags=myTagsDct,\n",
    "    Architectures=[\n",
    "        'x86_64',\n",
    "    ],\n",
    "    LoggingConfig={\n",
    "        'LogFormat': 'JSON',\n",
    "        'ApplicationLogLevel': 'INFO',\n",
    "        'SystemLogLevel': 'WARN'\n",
    "    }\n",
    ")\n",
    "\n",
    "myLambda2ARN=myLambdaFunction['FunctionArn']\n",
    "\n",
    "print ('Done! Move to the next cell ->')"
   ]
  },
  {
   "cell_type": "code",
   "execution_count": null,
   "metadata": {},
   "outputs": [],
   "source": [
    "logs.create_log_group(\n",
    "    logGroupName='/aws/lambda/' + myLambda2,\n",
    "    tags=myTagsDct\n",
    ")\n",
    "\n",
    "print ('Done! Move to the next cell ->')"
   ]
  },
  {
   "cell_type": "markdown",
   "metadata": {},
   "source": [
    "<hr style=\"border:1px dotted;color:orchid\">\n",
    "<hr style=\"border:1px dotted;color:DarkSeaGreen\">"
   ]
  },
  {
   "cell_type": "markdown",
   "metadata": {},
   "source": [
    "# <p style=\"color:DarkSeaGreen\">Create API</p>\n",
    "Creates a rest API and methods to perform face liveness detection called by the app/website"
   ]
  },
  {
   "cell_type": "code",
   "execution_count": null,
   "metadata": {},
   "outputs": [],
   "source": [
    "# Create the REST API\n",
    "api = apiGateway.create_rest_api(\n",
    "    name=myAPIGateway,\n",
    "    description=\"API for Rekognition Liveness Detection\",\n",
    "    endpointConfiguration={\"types\": [\"REGIONAL\"]},\n",
    ")\n",
    "myAPIid = api[\"id\"]\n",
    "\n",
    "# Get the root resource ID\n",
    "resources = apiGateway.get_resources(restApiId=myAPIid)\n",
    "rootId = next(item for item in resources[\"items\"] if item[\"path\"] == \"/\")[\"id\"]\n",
    "\n",
    "print ('Done! Move to the next cell ->')"
   ]
  },
  {
   "cell_type": "code",
   "execution_count": null,
   "metadata": {},
   "outputs": [],
   "source": [
    "# Create the resource for myLambda1ARN\n",
    "resource = apiGateway.create_resource(\n",
    "    restApiId=myAPIid, parentId=rootId, pathPart=myResource1\n",
    ")\n",
    "resourceId = resource[\"id\"]\n",
    "\n",
    "# Create the method \n",
    "httpMethod = \"GET\"\n",
    "integrationHttpMethod = \"POST\"\n",
    "\n",
    "apiGateway.put_method(\n",
    "    restApiId=myAPIid,\n",
    "    resourceId=resourceId,\n",
    "    httpMethod=httpMethod,\n",
    "    authorizationType=\"NONE\",  # Change this if you need authorization\n",
    ")\n",
    "\n",
    "# Set up the integration\n",
    "apiGateway.put_integration(\n",
    "    restApiId=myAPIid,\n",
    "    resourceId=resourceId,\n",
    "    httpMethod=httpMethod,\n",
    "    type=\"AWS_PROXY\",\n",
    "    integrationHttpMethod=integrationHttpMethod,\n",
    "    uri=f\"arn:aws:apigateway:{apiGateway.meta.region_name}:lambda:path/2015-03-31/functions/{myLambda1ARN}/invocations\",\n",
    ")\n",
    "\n",
    "# Set up method response\n",
    "apiGateway.put_method_response(\n",
    "    restApiId=myAPIid,\n",
    "    resourceId=resourceId,\n",
    "    httpMethod=httpMethod,\n",
    "    statusCode=\"200\",\n",
    "    responseParameters={\n",
    "        \"method.response.header.Access-Control-Allow-Origin\": True,\n",
    "    },\n",
    ")\n",
    "apiGateway.put_method_response(\n",
    "    restApiId=myAPIid,\n",
    "    resourceId=resourceId,\n",
    "    httpMethod=httpMethod,\n",
    "    statusCode=\"500\",\n",
    "    responseParameters={\n",
    "        \"method.response.header.Access-Control-Allow-Origin\": True,\n",
    "    },\n",
    "    responseModels={\"application/json\": \"Error\"},\n",
    ")\n",
    "\n",
    "# Grant API Gateway permission to invoke the Lambda function\n",
    "lambdac.add_permission(\n",
    "    FunctionName=myLambda1,\n",
    "    StatementId=f\"apigateway-invoke-{httpMethod}\",\n",
    "    Action=\"lambda:InvokeFunction\",\n",
    "    Principal=\"apigateway.amazonaws.com\",\n",
    "    SourceArn=f\"arn:aws:execute-api:{apiGateway.meta.region_name}:{myAccountNumber}:{myAPIid}/*/{httpMethod}/{myResource1}\",\n",
    ")\n",
    "\n",
    "print ('Done! Move to the next cell ->')"
   ]
  },
  {
   "cell_type": "code",
   "execution_count": null,
   "metadata": {},
   "outputs": [],
   "source": [
    "# Create the resource for myLambda2ARN\n",
    "resource = apiGateway.create_resource(\n",
    "    restApiId=myAPIid, parentId=rootId, pathPart=myResource2\n",
    ")\n",
    "resourceId = resource[\"id\"]\n",
    "\n",
    "# Create the method \n",
    "httpMethod = \"GET\"\n",
    "integrationHttpMethod = \"POST\"\n",
    "\n",
    "apiGateway.put_method(\n",
    "    restApiId=myAPIid,\n",
    "    resourceId=resourceId,\n",
    "    httpMethod=httpMethod,\n",
    "    authorizationType=\"NONE\",  # Change this if you need authorization\n",
    ")\n",
    "\n",
    "# Set up the integration\n",
    "apiGateway.put_integration(\n",
    "    restApiId=myAPIid,\n",
    "    resourceId=resourceId,\n",
    "    httpMethod=httpMethod,\n",
    "    type=\"AWS_PROXY\",\n",
    "    integrationHttpMethod=integrationHttpMethod,\n",
    "    uri=f\"arn:aws:apigateway:{apiGateway.meta.region_name}:lambda:path/2015-03-31/functions/{myLambda2ARN}/invocations\",\n",
    ")\n",
    "\n",
    "# Set up method response\n",
    "apiGateway.put_method_response(\n",
    "    restApiId=myAPIid,\n",
    "    resourceId=resourceId,\n",
    "    httpMethod=httpMethod,\n",
    "    statusCode=\"200\",\n",
    "    responseParameters={\n",
    "        \"method.response.header.Access-Control-Allow-Origin\": True,\n",
    "    },\n",
    ")\n",
    "apiGateway.put_method_response(\n",
    "    restApiId=myAPIid,\n",
    "    resourceId=resourceId,\n",
    "    httpMethod=httpMethod,\n",
    "    statusCode=\"500\",\n",
    "    responseParameters={\n",
    "        \"method.response.header.Access-Control-Allow-Origin\": True,\n",
    "    },\n",
    "    responseModels={\"application/json\": \"Error\"},\n",
    ")\n",
    "\n",
    "# Grant API Gateway permission to invoke the Lambda function\n",
    "lambdac.add_permission(\n",
    "    FunctionName=myLambda2,\n",
    "    StatementId=f\"apigateway-invoke-{httpMethod}\",\n",
    "    Action=\"lambda:InvokeFunction\",\n",
    "    Principal=\"apigateway.amazonaws.com\",\n",
    "    SourceArn=f\"arn:aws:execute-api:{apiGateway.meta.region_name}:{myAccountNumber}:{myAPIid}/*/{httpMethod}/{myResource2}\",\n",
    ")\n",
    "\n",
    "print ('Done! Move to the next cell ->')"
   ]
  },
  {
   "cell_type": "code",
   "execution_count": null,
   "metadata": {},
   "outputs": [],
   "source": [
    "# Create a deployment for the api\n",
    "stageName = 'poc'\n",
    "deployment = apiGateway.create_deployment(restApiId=myAPIid, stageName=stageName)\n",
    "\n",
    "print(f'Update apiGatewayUrl var in app.js with the following:\\nhttps://{myAPIid}.execute-api.{myRegion}.amazonaws.com/{stageName}')\n",
    "\n",
    "print ('Done! Move to the next cell ->')"
   ]
  },
  {
   "cell_type": "markdown",
   "metadata": {},
   "source": [
    "<hr style=\"border:1px dotted;color:DarkSeaGreen\">\n",
    "<hr style=\"border:1px dotted;color:deeppink\">"
   ]
  },
  {
   "cell_type": "markdown",
   "metadata": {},
   "source": [
    "# <p style=\"color:deeppink\">STACK 01 COMPLETE!</p>"
   ]
  },
  {
   "cell_type": "markdown",
   "metadata": {},
   "source": [
    "<hr style=\"border:1px dotted;color:deeppink\">\n",
    "<hr style=\"border:1px dotted;color:MediumSpringGreen\">"
   ]
  },
  {
   "cell_type": "markdown",
   "metadata": {},
   "source": [
    "# <p style=\"color:MediumSpringGreen\">Go to Stack 02</p>\n",
    "Stack 02 will create the react js website with face liveness stack, including the Amplify requirements and Cognito auth."
   ]
  },
  {
   "cell_type": "markdown",
   "metadata": {},
   "source": [
    "<hr style=\"border:1px dotted;color:MediumSpringGreen\">\n",
    "<hr style=\"border:1px dotted;color:orangered\">\n",
    "<hr style=\"border:1px dotted;color:orangered\">\n",
    "<hr style=\"border:1px dotted;color:orangered\">"
   ]
  },
  {
   "cell_type": "markdown",
   "metadata": {},
   "source": [
    "# <p style=\"color:orangered\">CLEAN UP!!</p>\n",
    "# <p style=\"color:orangered\">DO NOT RUN THESE UNLESS YOU WANT TO DESTROY EVERYTHING</p>\n",
    "- If you have lost the Kernel:\n",
    "  - Run the cells contained in the <span style=\"color:greenyellow\">Set Up Requirements<span> section before continuing...\n",
    "  - Any IDs or ARNs will have to be manually stated"
   ]
  },
  {
   "cell_type": "code",
   "execution_count": null,
   "metadata": {},
   "outputs": [],
   "source": [
    "# api gateway permissions\n",
    "try:\n",
    "    lambdac.remove_permission(FunctionName=myLambda1, StatementId=f\"apigateway-invoke-{httpMethod}\")\n",
    "    lambdac.remove_permission(FunctionName=myLambda2, StatementId=f\"apigateway-invoke-{httpMethod}\")\n",
    "except Exception as err:\n",
    "    print(f'1:{err}')\n",
    "\n",
    "print ('Done! Move to the next cell ->')"
   ]
  },
  {
   "cell_type": "code",
   "execution_count": null,
   "metadata": {},
   "outputs": [],
   "source": [
    "# api gateway\n",
    "apiGateway.delete_rest_api(restApiId=myAPIid)\n",
    "\n",
    "print ('Done! Move to the next cell ->')"
   ]
  },
  {
   "cell_type": "code",
   "execution_count": null,
   "metadata": {},
   "outputs": [],
   "source": [
    "# lambdas\n",
    "lambdac.delete_function(FunctionName=myLambda1)\n",
    "lambdac.delete_function(FunctionName=myLambda2)\n",
    "\n",
    "print ('Done! Move to the next cell ->')"
   ]
  },
  {
   "cell_type": "code",
   "execution_count": null,
   "metadata": {},
   "outputs": [],
   "source": [
    "# delete roles and policies\n",
    "try:\n",
    "    iam.detach_role_policy(\n",
    "        RoleName=myRoleLambda1, PolicyArn='arn:aws:iam::{}:policy/{}'.format(myAccountNumber, myPolicyLambda1)\n",
    "    )\n",
    "except Exception as err:\n",
    "    print(f'1:{err}')\n",
    "\n",
    "try:\n",
    "    iam.detach_role_policy(\n",
    "        RoleName=myRoleLambda1, \n",
    "        PolicyArn='arn:aws:iam::aws:policy/service-role/AWSLambdaVPCAccessExecutionRole'\n",
    "    )\n",
    "except Exception as err:\n",
    "    print(f'2:{err}')\n",
    "\n",
    "try:\n",
    "    iam.detach_role_policy(\n",
    "        RoleName=myRoleLambda1, \n",
    "        PolicyArn='arn:aws:iam::aws:policy/AmazonRekognitionFullAccess'\n",
    "    )\n",
    "except Exception as err:\n",
    "    print(f'3:{err}')\n",
    "\n",
    "try:\n",
    "    iam.delete_role(RoleName=myRoleLambda1)\n",
    "except Exception as err:\n",
    "    print(f'4:{err}')\n",
    "\n",
    "try:\n",
    "    iam.delete_policy(PolicyArn='arn:aws:iam::{}:policy/{}'.format(myAccountNumber, myPolicyLambda1))\n",
    "except Exception as err:\n",
    "    print(f'5:{err}')\n",
    "\n",
    "try:\n",
    "    iam.detach_role_policy(\n",
    "        RoleName=myRoleLambda2, PolicyArn='arn:aws:iam::{}:policy/{}'.format(myAccountNumber, myPolicyLambda2)\n",
    "    )\n",
    "except Exception as err:\n",
    "    print(f'6:{err}')\n",
    "\n",
    "try:\n",
    "    iam.detach_role_policy(\n",
    "        RoleName=myRoleLambda2, \n",
    "        PolicyArn='arn:aws:iam::aws:policy/service-role/AWSLambdaVPCAccessExecutionRole'\n",
    "    )\n",
    "except Exception as err:\n",
    "    print(f'7:{err}')\n",
    "\n",
    "try:\n",
    "    iam.detach_role_policy(\n",
    "        RoleName=myRoleLambda2, \n",
    "        PolicyArn='arn:aws:iam::aws:policy/AmazonRekognitionFullAccess'\n",
    "    )\n",
    "except Exception as err:\n",
    "    print(f'8:{err}')\n",
    "\n",
    "try:\n",
    "    iam.delete_role(RoleName=myRoleLambda2)\n",
    "except Exception as err:\n",
    "    print(f'9:{err}')\n",
    "\n",
    "try:\n",
    "    iam.delete_policy(PolicyArn='arn:aws:iam::{}:policy/{}'.format(myAccountNumber, myPolicyLambda2))\n",
    "except Exception as err:\n",
    "    print(f'10:{err}')\n",
    "\n",
    "print ('Done! Move to the next cell ->')"
   ]
  },
  {
   "cell_type": "code",
   "execution_count": null,
   "metadata": {},
   "outputs": [],
   "source": [
    "# log group and log streams\n",
    "logs.delete_log_group(\n",
    "    logGroupName='/aws/lambda/' + myLambda1\n",
    ")\n",
    "\n",
    "logs.delete_log_group(\n",
    "    logGroupName='/aws/lambda/' + myLambda2\n",
    ")\n",
    "\n",
    "print ('Done! Move to the next cell ->')"
   ]
  },
  {
   "cell_type": "code",
   "execution_count": null,
   "metadata": {},
   "outputs": [],
   "source": [
    "# delete s3 bucket\n",
    "# NOTE WARNING - this will delete all objects in the bucket with NO prompt or confirmation\n",
    "try:\n",
    "    s3r = boto3.resource('s3')\n",
    "    bucket = s3r.Bucket(myBucketRekognition)\n",
    "    bucket.objects.all().delete()\n",
    "except Exception as err:\n",
    "    print(f'9:{err}')\n",
    "\n",
    "try:\n",
    "    # delete the bucket\n",
    "    response = s3.delete_bucket(Bucket=myBucketRekognition)\n",
    "except Exception as err:\n",
    "    print(f'9:{err}')\n",
    "\n",
    "print ('Done! Move to the next cell ->')"
   ]
  },
  {
   "cell_type": "markdown",
   "metadata": {},
   "source": [
    "<hr style=\"border:1px dotted;color:coral\">\n",
    "<hr style=\"border:1px dotted;color:coral\">\n",
    "<hr style=\"border:1px dotted;color:coral\">\n",
    "<hr style=\"border:1px dotted;color:gold\">\n",
    "<hr style=\"border:1px dotted;color:gold\">\n",
    "<hr style=\"border:1px dotted;color:gold\">"
   ]
  },
  {
   "cell_type": "markdown",
   "metadata": {},
   "source": [
    "# <p style=\"color:gold\">Appendix - Jupyter Install Requirements (macOS)</p>\n",
    "#### <p style=\"color:deeppink\">- If you are running VSCode on a laptop, follow all of below.<br>- If you are running Jupyter inside an AWS Account, you don't need to do anything!</p>\n",
    "\n",
    "  - Credentials to the AWS account this notebook executes in is provided by AWS configure\n",
    "  - You must already have an IAM user with code (Command Line Interface) access and AWS access keys to be able to use these credentials in AWS configure  \n",
    "    \n",
    "  - arn:aws:iam::###########:user/simon-davies-cli created for this lab  \n",
    "\n",
    "### <p style=\"color:gold\">1. Homebrew</p> \n",
    "If you haven't installed Homebrew, you can install it by running the following command here or in the terminal:"
   ]
  },
  {
   "cell_type": "code",
   "execution_count": null,
   "metadata": {},
   "outputs": [],
   "source": [
    "%%bash\n",
    "sudo /bin/bash -c \"$(curl -fsSL https://raw.githubusercontent.com/Homebrew/install/HEAD/install.sh)\""
   ]
  },
  {
   "cell_type": "markdown",
   "metadata": {},
   "source": [
    "### <p style=\"color:gold\">1.1 Virtual Environments</p> \n",
    "- You can create a virtual environment that ensures any libraries you install are restricted to the venv.\n",
    "  - https://code.visualstudio.com/docs/python/environments\n",
    "- To enable the virtual environment once you have created it, ensure you open the folder in vs code rather than individual files."
   ]
  },
  {
   "cell_type": "code",
   "execution_count": null,
   "metadata": {},
   "outputs": [],
   "source": [
    "%%bash\n",
    "sudo /bin/bash -c \"$(curl -fsSL https://raw.githubusercontent.com/Homebrew/install/HEAD/install.sh)\""
   ]
  },
  {
   "cell_type": "markdown",
   "metadata": {},
   "source": [
    "### <p style=\"color:gold\">1.2 Python</p> \n",
    "Once Homebrew is installed, you can install Python using the following command  \n",
    "*check what you have before installing/upgrading*  \n",
    "*you will need to quit and restart vsCode to use python once installed (or updated)*"
   ]
  },
  {
   "cell_type": "code",
   "execution_count": null,
   "metadata": {
    "vscode": {
     "languageId": "shellscript"
    }
   },
   "outputs": [],
   "source": [
    "%%bash\n",
    "python3 --version\n",
    "which python3"
   ]
  },
  {
   "cell_type": "code",
   "execution_count": null,
   "metadata": {
    "vscode": {
     "languageId": "shellscript"
    }
   },
   "outputs": [],
   "source": [
    "%%bash\n",
    "brew install python"
   ]
  },
  {
   "cell_type": "markdown",
   "metadata": {},
   "source": [
    "### <p style=\"color:gold\">2. boto3 and other Python requirements</p> \n",
    "* boto3 must be installed on your client\n",
    "  * *Boto3 is the Amazon Web Services (AWS) Software Development Kit (SDK) for Python, which allows Python developers to write software that makes use of services like Amazon S3 and Amazon EC2.*\n",
    "  * https://boto3.amazonaws.com/v1/documentation/api/latest/index.html  \n",
    "  \n",
    "*check what you have before installing/upgrading*  "
   ]
  },
  {
   "cell_type": "code",
   "execution_count": null,
   "metadata": {
    "vscode": {
     "languageId": "shellscript"
    }
   },
   "outputs": [],
   "source": [
    "%%bash\n",
    "python3 -m pip show boto3"
   ]
  },
  {
   "cell_type": "code",
   "execution_count": null,
   "metadata": {
    "vscode": {
     "languageId": "shellscript"
    }
   },
   "outputs": [],
   "source": [
    "pip install -U boto3"
   ]
  },
  {
   "cell_type": "markdown",
   "metadata": {},
   "source": [
    "### <p style=\"color:gold\">3. aws configure</p> \n",
    "*Configure aws configure with credentials, and a user that has all of the Bedrock IAM policies required*  \n",
    "https://docs.aws.amazon.com/bedrock/latest/userguide/security_iam_id-based-policy-examples.html\n",
    "  \n",
    "*You will need AWS CLI*  \n",
    "https://docs.aws.amazon.com/cli/latest/userguide/cli-chap-getting-started.html"
   ]
  },
  {
   "cell_type": "code",
   "execution_count": null,
   "metadata": {
    "vscode": {
     "languageId": "shellscript"
    }
   },
   "outputs": [],
   "source": [
    "%%bash\n",
    "aws sts get-caller-identity"
   ]
  },
  {
   "cell_type": "markdown",
   "metadata": {},
   "source": [
    "<hr style=\"border:1px dotted;color:gold\">"
   ]
  }
 ],
 "metadata": {
  "kernelspec": {
   "display_name": "Python 3",
   "language": "python",
   "name": "python3"
  },
  "language_info": {
   "codemirror_mode": {
    "name": "ipython",
    "version": 3
   },
   "file_extension": ".py",
   "mimetype": "text/x-python",
   "name": "python",
   "nbconvert_exporter": "python",
   "pygments_lexer": "ipython3",
   "version": "3.11.6"
  }
 },
 "nbformat": 4,
 "nbformat_minor": 2
}
