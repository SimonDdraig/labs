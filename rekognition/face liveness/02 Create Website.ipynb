{
 "cells": [
  {
   "cell_type": "markdown",
   "metadata": {},
   "source": [
    "# <p style=\"color:dodgerblue\">01 Create Website</p>\n",
    "This stack creates a react js website via the Amplify CLI we configured in stack 01\n",
    "  \n",
    "(Jupyter Notebook developed with Kernel Python 3.11.6)\n",
    "<hr style=\"border:1px dotted; color:floralwhite\">"
   ]
  },
  {
   "cell_type": "markdown",
   "metadata": {},
   "source": [
    "# <span style=\"color:deeppink\">GETTING STARTED</span>\n",
    "# Local client requirements for this Lab (macOS)\n",
    "- *See <span style=\"color:gold\">Appendix - Jupyter Install Requirements (macOS)</span> in Stack 01"
   ]
  },
  {
   "cell_type": "markdown",
   "metadata": {},
   "source": [
    "<hr style=\"border:1px dotted\">\n",
    "<hr style=\"border:1px dotted;color:greenyellow\">"
   ]
  },
  {
   "cell_type": "markdown",
   "metadata": {},
   "source": [
    "# <p style=\"color:DarkTurquoise\">Create a React JS Website</p>\n",
    "### <p style=\"color:DarkTurquoise\">NOTE we are using us-east-1</p>\n",
    "Execute the following in a terminal window in the root folder where you want to create your website.\n",
    "\n",
    "*I created mine in /Users/simondavies/Documents/GitHub/labs/rekognition/face liveness/resources/website*"
   ]
  },
  {
   "cell_type": "raw",
   "metadata": {
    "vscode": {
     "languageId": "raw"
    }
   },
   "source": [
    "# Step 1\n",
    "# create a React JS website first\n",
    "npx create-react-app my-app\n",
    "\n",
    "# Step 2\n",
    "# in the root of the react app you just created (in my example, in the my-app folder)\n",
    "amplify init\n",
    "\n",
    "# use <faceliveness> as the name of the project\n",
    "# initialise the project with the default configuration shown\n",
    "# use the profile you created in stack 01 as the auth, eg Amplify-Rekognition-Face-Liveness\n",
    "# the region should be defaulted to the region in the profile\n",
    "\n",
    "# Step 3\n",
    "# add the auth category to the project wher we will configure cognito and a user pool\n",
    "# note using cognito does not mean you have to migrate any users\n",
    "# face liveness detector uses a cognito user pool for the sole purpose of signing requests to Rekognition\n",
    "amplify add auth\n",
    "\n",
    "# select Manual Configuration\n",
    "# select User Sign-Up, Sign-In, connected with AWS IAM controls etc (1st one)\n",
    "# stick with defaults unless you want to rename anything\n",
    "# Allow unauthenticated logins: YES!!!!!\n",
    "# 3rd party authentication: Yes or No (I chose No)\n",
    "# default everything else\n",
    "# Sign-in: Username\n",
    "# Add user pool groups: No\n",
    "# Admin queries: No\n",
    "# MFA: Off\n",
    "# Email based user registration: Enabled\n",
    "# Subject: <enter>\n",
    "# Message:<enter>\n",
    "# Override default password policy user pool: No\n",
    "# Attributes for signing up: Email\n",
    "# Token expiration: 30\n",
    "# Attributes read and write: No\n",
    "# Enable capabilities: <enter>\n",
    "# OAuth flow: No\n",
    "# Lambda triggers: No\n",
    "\n",
    "# Step 4\n",
    "# now we build the app in the cloud\n",
    "amplify push\n",
    "\n",
    "# look in aws-exports.js file after complete to see additional code\n",
    "\n",
    "# Step 5\n",
    "# check in the AWS console of your account the resources have been built and deployed successfully\n",
    "# check the stacks in CloudFormation\n",
    "# check Cognito user pool\n",
    "# check Cognito identity pool - guest access available\n",
    "\n",
    "# Step 6\n",
    "# create an inline policy to allow authenticated app user to access Rekognition\n",
    "# goto the IAM console\n",
    "# goto the roles\n",
    "# select the newly created unauth role\n",
    "# if you are using an authenticator in your application, select the auth role instead\n",
    "# create inline policy - name it doit-rekognition-lab-faceliveness-access \n",
    "{\n",
    "\t\"Version\": \"2012-10-17\",\n",
    "\t\"Statement\": [\n",
    "\t\t{\n",
    "\t\t\t\"Sid\": \"Statement1\",\n",
    "\t\t\t\"Effect\": \"Allow\",\n",
    "\t\t\t\"Action\": \"rekognition:StartFaceLivenessSession\",\n",
    "\t\t\t\"Resource\": \"*\"\n",
    "\t\t}\n",
    "\t]\n",
    "}"
   ]
  },
  {
   "cell_type": "markdown",
   "metadata": {},
   "source": [
    "<hr style=\"border:1px dotted;color:DarkTurquoise\">\n",
    "<hr style=\"border:1px dotted;color:greenyellow\">"
   ]
  },
  {
   "cell_type": "markdown",
   "metadata": {},
   "source": [
    "# <p style=\"color:greenyellow\">Now we are going to configure the dependencies</p>"
   ]
  },
  {
   "cell_type": "raw",
   "metadata": {
    "vscode": {
     "languageId": "raw"
    }
   },
   "source": [
    "# Step 1\n",
    "# install the facetime liveness dependencies\n",
    "# in the root of the react app you just created (in my example, in the my-app folder)\n",
    "npm install @aws-amplify/ui-react-liveness aws-amplify\n",
    "\n",
    "# check package.json file to ensure the dependency has been noted, eg:\n",
    "# \"@aws-amplify/ui-react-liveness\": \"^3.1.6\"\n",
    "# \"aws-amplify\": \"^6.6.0\"\n",
    "\n",
    "# Step 2\n",
    "# edit the app.js file develop your website \n",
    "\n",
    "# all of step 2 done for this lab\n",
    "\n",
    "# Step 3\n",
    "npm start"
   ]
  },
  {
   "cell_type": "markdown",
   "metadata": {},
   "source": [
    "<hr style=\"border:1px dotted;color:DarkTurquoise\">\n",
    "<hr style=\"border:1px dotted;color:deeppink\">"
   ]
  },
  {
   "cell_type": "markdown",
   "metadata": {},
   "source": [
    "# <p style=\"color:deeppink\">STACK 02 COMPLETE!</p>"
   ]
  },
  {
   "cell_type": "markdown",
   "metadata": {},
   "source": [
    "<hr style=\"border:1px dotted;color:deeppink\">\n",
    "<hr style=\"border:1px dotted;color:MediumSpringGreen\">"
   ]
  },
  {
   "cell_type": "markdown",
   "metadata": {},
   "source": [
    "<hr style=\"border:1px dotted;color:MediumSpringGreen\">\n",
    "<hr style=\"border:1px dotted;color:orangered\">\n",
    "<hr style=\"border:1px dotted;color:orangered\">\n",
    "<hr style=\"border:1px dotted;color:orangered\">"
   ]
  },
  {
   "cell_type": "markdown",
   "metadata": {},
   "source": [
    "# <p style=\"color:orangered\">CLEAN UP!!</p>\n",
    "# <p style=\"color:orangered\">DO NOT RUN THESE UNLESS YOU WANT TO DESTROY EVERYTHING</p>"
   ]
  },
  {
   "cell_type": "raw",
   "metadata": {
    "vscode": {
     "languageId": "raw"
    }
   },
   "source": [
    "# Step 1\n",
    "# In the AWS console, in the CloudFormation service, destroy the stacks"
   ]
  },
  {
   "cell_type": "markdown",
   "metadata": {},
   "source": [
    "<hr style=\"border:1px dotted;color:coral\">\n",
    "<hr style=\"border:1px dotted;color:coral\">\n",
    "<hr style=\"border:1px dotted;color:coral\">\n",
    "<hr style=\"border:1px dotted;color:gold\">\n",
    "<hr style=\"border:1px dotted;color:gold\">\n",
    "<hr style=\"border:1px dotted;color:gold\">"
   ]
  }
 ],
 "metadata": {
  "kernelspec": {
   "display_name": "Python 3",
   "language": "python",
   "name": "python3"
  },
  "language_info": {
   "codemirror_mode": {
    "name": "ipython",
    "version": 3
   },
   "file_extension": ".py",
   "mimetype": "text/x-python",
   "name": "python",
   "nbconvert_exporter": "python",
   "pygments_lexer": "ipython3",
   "version": "3.11.6"
  }
 },
 "nbformat": 4,
 "nbformat_minor": 2
}
