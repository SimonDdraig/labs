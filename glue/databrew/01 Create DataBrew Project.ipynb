{
 "cells": [
  {
   "cell_type": "markdown",
   "metadata": {},
   "source": [
    "# <p style=\"color:dodgerblue\">01 Create DataBrew Project</p>\n",
    "This notebook creates an example of using the DataBrew service\n",
    "It uses an Excel Spreadhseet as its data source of randomly generated Supply Chain Data\n",
    "  \n",
    "(Jupyter Notebook developed with Kernel Python 3.11.6)\n",
    "<hr style=\"border:1px dotted; color:floralwhite\">"
   ]
  },
  {
   "cell_type": "markdown",
   "metadata": {},
   "source": [
    "# <span style=\"color:deeppink\">GETTING STARTED</span>\n",
    "# Local client requirements for this Lab (macOS)\n",
    "- *See <span style=\"color:gold\">Appendix - Jupyter Install Requirements (macOS)</span> at the bottom of this lab to install macOS requirements, windows requirements will be similar, apart from Homebrew.*  \n",
    "- These requirements are generic and allow you to run Python notebooks, use Boto3, etc - they are simply to get your local environment in a state that can support Jupyter Notebooks and not specific to databrew"
   ]
  },
  {
   "cell_type": "markdown",
   "metadata": {},
   "source": [
    "<hr style=\"border:1px dotted\">\n",
    "<hr style=\"border:1px dotted;color:greenyellow\">"
   ]
  },
  {
   "cell_type": "markdown",
   "metadata": {},
   "source": [
    "# <p style=\"color:DarkTurquoise\">DataBrew Prerequisites</p>\n",
    "### <p style=\"color:DarkTurquoise\">NOTE we are using ap-southeast-2</p>\n",
    "No other architecture prerequisites required."
   ]
  },
  {
   "cell_type": "markdown",
   "metadata": {},
   "source": [
    "<hr style=\"border:1px dotted;color:DarkTurquoise\">\n",
    "<hr style=\"border:1px dotted;color:greenyellow\">"
   ]
  },
  {
   "cell_type": "markdown",
   "metadata": {},
   "source": [
    "# <p style=\"color:greenyellow\">Create backend architecture needed to support DataBrew</p>"
   ]
  },
  {
   "cell_type": "markdown",
   "metadata": {},
   "source": [
    "# <p style=\"color:greenyellow\">Lets Create Clients and Variables</p>\n",
    "- We do these setup cells here because we can then use the vars and clients to clean up resources later without having to run multiple cells if we lose the kernel"
   ]
  },
  {
   "cell_type": "code",
   "execution_count": null,
   "metadata": {},
   "outputs": [],
   "source": [
    "import boto3\n",
    "import json\n",
    "import random\n",
    "\n",
    "# region - we use us-east-1 as Bedrock is limited in other reasons\n",
    "myRegion='ap-southeast-2'\n",
    "myAccountNumber = boto3.client(\"sts\").get_caller_identity()[\"Account\"]\n",
    "\n",
    "# set up a boto3 session using a profile that is able to create services in the region\n",
    "# this is typically a developer profile or deployment profile\n",
    "# we DO NOT need the amplify profile we crerated above yet - that is used in stack 02\n",
    "sessionBoto3 = boto3.Session(profile_name=\"default\", region_name=myRegion)\n",
    "\n",
    "# names for services we will create below\n",
    "# s3 bucket - MUST BE A UNIQUE NAME so we randomise a couple of numbers to be sure\n",
    "myBucketDataBrew='doit-databrew-bucket-' + str(random.randint(0, 1000)) + '-' + str(random.randint(0, 1000))\n",
    "\n",
    "# iam\n",
    "myRoleDataBrew=\"doit-databrew-service-role\"\n",
    "myPolicyDataBrew=\"doit-databrew-service-policy\"\n",
    "myRoleDataBrewARN='RETRIEVED FROM ROLE BELOW ONCE CREATED'\n",
    "\n",
    "# databrew\n",
    "myDataSet=\"doit-databrew-dataset\"\n",
    "myDataSetARN=\"RETRIEVED FROM OBJECT BELOW ONCE CREATED\"\n",
    "\n",
    "myProfileJob=\"doit-databrew-profile-job\"\n",
    "myRecipeJob=\"doit-databrew-recipe-job\"\n",
    "\n",
    "myRuleSet=\"doit-databrew-ruleset\"\n",
    "myRuleSetARN=\"RETRIEVED FROM OBJECT BELOW ONCE CREATED\"\n",
    "\n",
    "myRecipe1=\"doit-databrew-recipe1\"\n",
    "myRecipe2=\"doit-databrew-recipe2\"\n",
    "myRecipe1Version=\"RETRIEVED FROM OBJECT BELOW ONCE CREATED\"\n",
    "myRecipe2Version=\"RETRIEVED FROM OBJECT BELOW ONCE CREATED\"\n",
    "\n",
    "myProject=\"doit-databrew-project\"\n",
    "\n",
    "print ('Done! Move to the next cell ->')"
   ]
  },
  {
   "cell_type": "code",
   "execution_count": null,
   "metadata": {},
   "outputs": [],
   "source": [
    "# local client path for resources\n",
    "# these are resources required by this lab and will be later uploaded to the cloud\n",
    "myLocalPathForResources='/Users/simondavies/Documents/GitHub/labs/glue/databrew/Resources/'\n",
    "print ('Done! Move to the next cell ->')"
   ]
  },
  {
   "cell_type": "markdown",
   "metadata": {},
   "source": [
    "- create required clients to AWS SDK for Python (Boto3) to create, configure, and manage AWS services\n",
    "- https://boto3.amazonaws.com/v1/documentation/api/latest/index.html"
   ]
  },
  {
   "cell_type": "code",
   "execution_count": null,
   "metadata": {},
   "outputs": [],
   "source": [
    "# s3\n",
    "s3 = sessionBoto3.client('s3')\n",
    "\n",
    "# databrew\n",
    "databrew = sessionBoto3.client('databrew')\n",
    "\n",
    "# iam\n",
    "iam = sessionBoto3.client('iam')\n",
    "\n",
    "print ('Done! Move to the next cell ->')"
   ]
  },
  {
   "cell_type": "markdown",
   "metadata": {},
   "source": [
    "- tags for all services that are created - you can never have too many tags!\n",
    "  - make sure you have a tagging policy in place\n",
    "  - https://docs.aws.amazon.com/organizations/latest/userguide/orgs_manage_policies_tag-policies.html"
   ]
  },
  {
   "cell_type": "code",
   "execution_count": null,
   "metadata": {},
   "outputs": [],
   "source": [
    "# define tags added to all services we create\n",
    "# best practice tagging of all resources should be used at all times\n",
    "myTags = [\n",
    "    {\"Key\": \"env\", \"Value\": \"non_prod\"},\n",
    "    {\"Key\": \"owner\", \"Value\": \"doit_lab\"},\n",
    "    {\"Key\": \"project\", \"Value\": \"doit_databrew-lab\"},\n",
    "    {\"Key\": \"author\", \"Value\": \"simon\"},\n",
    "]\n",
    "myTagsDct = {\n",
    "    \"env\": \"non_prod\",\n",
    "    \"owner\": \"doit_lab\",\n",
    "    \"project\": \"doit_databrew-lab\",\n",
    "    \"author\": \"simon\",\n",
    "}\n",
    "\n",
    "print ('Done! Move to the next cell ->')"
   ]
  },
  {
   "cell_type": "markdown",
   "metadata": {},
   "source": [
    "<hr style=\"border:1px dotted;color:greenyellow\">\n",
    "<hr style=\"border:1px dotted;color:crimson\">"
   ]
  },
  {
   "cell_type": "markdown",
   "metadata": {},
   "source": [
    "# <p style=\"color:crimson\">Create S3 Bucket</p>\n",
    "- defaults used, will use sse-s3 encryption and block public access\n",
    "- bucket is used to upload the data file we need as a resource for the databrew dataset\n",
    "- also used to store output from databrew job runs"
   ]
  },
  {
   "cell_type": "code",
   "execution_count": null,
   "metadata": {},
   "outputs": [],
   "source": [
    "# create bucket\n",
    "# don't change this region, the condition is just checking how to create the bucket based on the region we're working in\n",
    "if (myRegion != 'us-east-1'):\n",
    "    s3.create_bucket(\n",
    "        Bucket=myBucketDataBrew, CreateBucketConfiguration={\"LocationConstraint\": myRegion}\n",
    "    )\n",
    "else:\n",
    "    s3.create_bucket(\n",
    "        Bucket=myBucketDataBrew\n",
    "    )\n",
    "\n",
    "s3.put_bucket_tagging(Bucket=myBucketDataBrew, Tagging={\"TagSet\": myTags})\n",
    "\n",
    "# create a \"folder\" - really keys as S3 is flat\n",
    "s3.put_object(Bucket=myBucketDataBrew, Key=\"datasource/\")\n",
    "s3.put_object(Bucket=myBucketDataBrew, Key=\"output/\")\n",
    "\n",
    "# define the policy for databrew access\n",
    "# this allows the databrew service to access S3\n",
    "bucket_policy = {\n",
    "    \"Version\": \"2012-10-17\",\n",
    "    \"Statement\": [\n",
    "        {\n",
    "            \"Sid\": \"AllowdatabrewToWriteToS3\",\n",
    "            \"Effect\": \"Allow\",\n",
    "            \"Principal\": {\n",
    "                \"Service\": \"databrew.amazonaws.com\"\n",
    "            },\n",
    "            \"Action\": \"s3:PutObject\",\n",
    "            \"Resource\": f\"arn:aws:s3:::{myBucketDataBrew}/*\"\n",
    "        }\n",
    "    ]\n",
    "}\n",
    "bucket_policy = json.dumps(bucket_policy)\n",
    "s3.put_bucket_policy(Bucket=myBucketDataBrew, Policy=bucket_policy)\n",
    "\n",
    "print ('Done! Move to the next cell ->')"
   ]
  },
  {
   "cell_type": "markdown",
   "metadata": {},
   "source": [
    "- upload resource files to s3 that will be used as a datasource for databrew"
   ]
  },
  {
   "cell_type": "code",
   "execution_count": null,
   "metadata": {},
   "outputs": [],
   "source": [
    "# Upload each file to the S3 bucket\n",
    "myDataSourceFile='datasource/Supply_Chain_Transactions_Updated.xlsx'\n",
    "myDataSourceFileWithPII='datasource/Supply_Chain_Transactions_WithPII.xlsx'\n",
    "files = [\n",
    "    {\n",
    "        's3key': myDataSourceFile,\n",
    "        'localpath': '{}Supply_Chain_Transactions_Updated.xlsx'.format(myLocalPathForResources)\n",
    "    },\n",
    "    {\n",
    "        's3key': myDataSourceFileWithPII,\n",
    "        'localpath': '{}Supply_Chain_Transactions_WithPII.xlsx'.format(myLocalPathForResources)\n",
    "    }\n",
    "]\n",
    "\n",
    "for file in files:\n",
    "    print ('uploading: {}'.format(file['s3key']))\n",
    "    s3.upload_file(file['localpath'], myBucketDataBrew, file['s3key'], ExtraArgs={'StorageClass': 'STANDARD'})\n",
    "    print ('uploaded: {}'.format(file['s3key']))\n",
    "\n",
    "print ('Done! Move to the next cell ->')"
   ]
  },
  {
   "cell_type": "markdown",
   "metadata": {},
   "source": [
    "<hr style=\"border:1px dotted;color:crimson\">\n",
    "<hr style=\"border:1px dotted;color:orchid\">"
   ]
  },
  {
   "cell_type": "markdown",
   "metadata": {},
   "source": [
    "# <p style=\"color:orchid\">Create IAM</p>\n",
    "- roles and policies that allow services to interact with other services\n",
    "- https://docs.aws.amazon.com/databrew/latest/dg/setting-up-iam-policies-for-databrew.html"
   ]
  },
  {
   "cell_type": "code",
   "execution_count": null,
   "metadata": {},
   "outputs": [],
   "source": [
    "# myRoleDataBrew\n",
    "# trust policy for the role\n",
    "roleTrust = {\n",
    "    \"Version\": \"2012-10-17\",\n",
    "    \"Statement\": [\n",
    "        {\n",
    "            \"Effect\": \"Allow\",\n",
    "            \"Principal\": {\"Service\": \"databrew.amazonaws.com\"},\n",
    "            \"Action\": \"sts:AssumeRole\",\n",
    "        }\n",
    "    ],\n",
    "}\n",
    "\n",
    "# define inline policy\n",
    "policyJson = {\n",
    "    \"Version\": \"2012-10-17\",\n",
    "    \"Statement\": [\n",
    "        {\n",
    "            \"Effect\": \"Allow\",\n",
    "            \"Action\": [\n",
    "                \"logs:CreateLogGroup\",\n",
    "                \"logs:CreateLogStream\",\n",
    "                \"logs:PutLogEvents\",\n",
    "            ],\n",
    "            \"Resource\": \"*\",\n",
    "        },\n",
    "        {\n",
    "            \"Effect\": \"Allow\",\n",
    "            \"Action\": [\n",
    "                \"s3:GetObject\",\n",
    "                \"s3:PutObject\",\n",
    "                \"s3:DeleteObject\",\n",
    "                \"s3:ListBucket\"\n",
    "            ],\n",
    "            \"Resource\": [\n",
    "                f\"arn:aws:s3:::{myBucketDataBrew}\",\n",
    "                f\"arn:aws:s3:::{myBucketDataBrew}/*\"\n",
    "            ]\n",
    "        }\n",
    "    ],\n",
    "}\n",
    "\n",
    "# create inline policy\n",
    "policy = iam.create_policy(\n",
    "    PolicyName=myPolicyDataBrew,\n",
    "    PolicyDocument=json.dumps(policyJson),\n",
    "    Description=\"Policy for databrew\",\n",
    "    Tags=[\n",
    "        *myTags,\n",
    "    ],\n",
    ")\n",
    "\n",
    "# create role\n",
    "role = iam.create_role(\n",
    "    RoleName=myRoleDataBrew,\n",
    "    AssumeRolePolicyDocument=json.dumps(roleTrust),\n",
    "    Description=\"Role for databrew\",\n",
    "    Tags=[\n",
    "        *myTags,\n",
    "    ],\n",
    ")\n",
    "\n",
    "# attach inline policies to role\n",
    "response = iam.attach_role_policy(\n",
    "    RoleName=role[\"Role\"][\"RoleName\"], PolicyArn=policy[\"Policy\"][\"Arn\"]\n",
    ")\n",
    "\n",
    "myRoleDataBrewARN = role['Role']['Arn']\n",
    "\n",
    "print ('Done! Move to the next cell ->')"
   ]
  },
  {
   "cell_type": "markdown",
   "metadata": {},
   "source": [
    "<hr style=\"border:1px dotted;color:orchid\">\n",
    " \n",
    "# <span style=\"color:greenyellow\">Now we can start creating our DataBrew resources</span>\n",
    " \n",
    "<hr style=\"border:1px dotted;color:LightSkyBlue\">"
   ]
  },
  {
   "cell_type": "markdown",
   "metadata": {},
   "source": [
    "> # **LAB 1** - Data Quality Validation"
   ]
  },
  {
   "cell_type": "markdown",
   "metadata": {},
   "source": [
    "# <span style=\"color:LightSkyBlue\">DATASETS</span>\n",
    "## <span style=\"color:LightSkyBlue\">Create a dataset from our datasource</span>\n",
    "- We create datasets from the xl files we have uploaded into S3\n",
    "- We need to create a dataset before we can create anything else that uses it\n",
    "- https://docs.aws.amazon.com/databrew/latest/dg/datasets.html"
   ]
  },
  {
   "cell_type": "code",
   "execution_count": null,
   "metadata": {},
   "outputs": [],
   "source": [
    "# dataset with pii\n",
    "response = databrew.create_dataset(\n",
    "    Name=myDataSet,\n",
    "    Format='EXCEL',\n",
    "    FormatOptions={\n",
    "        'Excel': {\n",
    "            'SheetNames': [\n",
    "                'Sheet1',\n",
    "            ],\n",
    "            'HeaderRow': True\n",
    "        }\n",
    "    },\n",
    "    Input={\n",
    "        'S3InputDefinition': {\n",
    "            'Bucket': myBucketDataBrew,\n",
    "            'Key': myDataSourceFileWithPII,\n",
    "            'BucketOwner': myAccountNumber\n",
    "        }\n",
    "    },\n",
    "    Tags=myTagsDct,\n",
    ")\n",
    "\n",
    "# need to ARN which is only available if we describe it\n",
    "response = databrew.describe_dataset(\n",
    "    Name=myDataSet\n",
    ")\n",
    "myDataSetARN = response['ResourceArn']\n",
    "\n",
    "print ('Done! Move to the next cell ->')"
   ]
  },
  {
   "cell_type": "markdown",
   "metadata": {},
   "source": [
    "<hr style=\"border:1px dotted;color:LightSkyBlue\">\n",
    "<hr style=\"border:1px dotted;color:DarkSeaGreen\">"
   ]
  },
  {
   "cell_type": "markdown",
   "metadata": {},
   "source": [
    "# <span style=\"color:DarkSeaGreen\">DATA PROFILE</span>\n",
    "## <span style=\"color:DarkSeaGreen\">Create a ruleset</span>\n",
    "- create some rules that will be used by the data profile job to validate it\n",
    "- rules allow us to apply validation checks to the data\n",
    "- it does not make any changes to the data\n",
    "- https://docs.aws.amazon.com/databrew/latest/dg/profile.data-quality-available-checks.html"
   ]
  },
  {
   "cell_type": "code",
   "execution_count": null,
   "metadata": {},
   "outputs": [],
   "source": [
    "response = databrew.create_ruleset(\n",
    "    Name=myRuleSet,\n",
    "    Description='Example ruleset',\n",
    "    TargetArn=myDataSetARN,\n",
    "    Rules=[\n",
    "        {\n",
    "            'Name': 'myRule1',\n",
    "            'Disabled': False,\n",
    "            'CheckExpression': 'AGG(ROWS_COUNT) < :val1',\n",
    "            'SubstitutionMap': {\n",
    "                ':val1': '1001'\n",
    "            }\n",
    "        },\n",
    "        {\n",
    "            'Name': 'myRule2',\n",
    "            'Disabled': False,\n",
    "            'CheckExpression': 'AGG(DUPLICATE_ROWS_COUNT) == :val1',\n",
    "            'SubstitutionMap': {\n",
    "                ':val1': '0'\n",
    "            }\n",
    "        },\n",
    "    ],\n",
    "    Tags=myTagsDct,\n",
    ")\n",
    "\n",
    "# need the ARN which is only available if we describe it\n",
    "response = databrew.describe_ruleset(\n",
    "    Name=myRuleSet\n",
    ")\n",
    "myRuleSetARN = response['ResourceArn']\n",
    "\n",
    "print ('Done! Move to the next cell ->')"
   ]
  },
  {
   "cell_type": "markdown",
   "metadata": {},
   "source": [
    "## <span style=\"color:DarkSeaGreen\">Create a data profile job from our dataset and ruleset</span>\n",
    "- We can create a data profile job of our data set (if we choose ) to get statistics and metrics about our data and to optionally validate it\n",
    "- We are providing some configuration\n",
    "  - identify any columns that maybe pii that match the entity types provided\n",
    "  - https://docs.aws.amazon.com/databrew/latest/dg/profile.configuration.html?icmpid=docs_console_unmapped#entity-detector-configuration"
   ]
  },
  {
   "cell_type": "code",
   "execution_count": null,
   "metadata": {},
   "outputs": [],
   "source": [
    "response = databrew.create_profile_job(\n",
    "    Name=myProfileJob,\n",
    "    DatasetName=myDataSet,\n",
    "    LogSubscription=\"ENABLE\",\n",
    "    MaxCapacity=2,\n",
    "    MaxRetries=2,\n",
    "    OutputLocation={\n",
    "        \"Bucket\": myBucketDataBrew,\n",
    "        \"Key\": \"output\",\n",
    "        \"BucketOwner\": myAccountNumber,\n",
    "    },\n",
    "    ValidationConfigurations=[\n",
    "        {\"RulesetArn\": myRuleSetARN, \"ValidationMode\": \"CHECK_ALL\"},\n",
    "    ],\n",
    "    Configuration={\n",
    "        \"EntityDetectorConfiguration\": {\n",
    "            \"EntityTypes\": [\"CREDIT_CARD\", \"EMAIL\", \"PERSON_NAME\"],\n",
    "            \"AllowedStatistics\": [\n",
    "                {\n",
    "                    \"Statistics\": [\n",
    "                        \"AGGREGATED_GROUP\",\n",
    "                        \"CONTAINING_NUMERIC_VALUES_GROUP\",\n",
    "                        \"TOP_VALUES_GROUP\",\n",
    "                    ]\n",
    "                }\n",
    "            ],\n",
    "        }\n",
    "    },\n",
    "    RoleArn=myRoleDataBrewARN,\n",
    "    Tags=myTagsDct,\n",
    "    Timeout=10,\n",
    "    JobSample={\"Mode\": \"FULL_DATASET\"},\n",
    ")\n",
    "\n",
    "print(\"Done! Move to the next cell ->\")"
   ]
  },
  {
   "cell_type": "markdown",
   "metadata": {},
   "source": [
    "## <span style=\"color:DarkSeaGreen\">Lets run the profile job</span>\n",
    "- We can also schedule the job to run if we prefer"
   ]
  },
  {
   "cell_type": "code",
   "execution_count": null,
   "metadata": {},
   "outputs": [],
   "source": [
    "response = databrew.start_job_run(\n",
    "    Name=myProfileJob\n",
    ")\n",
    "\n",
    "print ('Done! Move to the next cell ->')"
   ]
  },
  {
   "cell_type": "markdown",
   "metadata": {},
   "source": [
    "## <span style=\"color:DarkSeaGreen\">And we can monitor its run</span>\n",
    "- Run the next cell <span style=\"color:deeppink\">as many times as you want</span> until the State reports a finished run\n",
    "- One of 'STOPPED'|'SUCCEEDED'|'FAILED'|'TIMEOUT'"
   ]
  },
  {
   "cell_type": "code",
   "execution_count": null,
   "metadata": {},
   "outputs": [],
   "source": [
    "response = databrew.list_job_runs(\n",
    "    Name=myProfileJob\n",
    ")\n",
    "\n",
    "# Extract job runs\n",
    "job_runs = response.get('JobRuns', [])\n",
    "\n",
    "# Find the latest job run based on StartTime\n",
    "if job_runs:\n",
    "    latest_job = max(job_runs, key=lambda x: x.get('StartTime', 0))\n",
    "    latest_run_id = latest_job.get('RunId')\n",
    "    print(f\"The latest RunId is: {latest_run_id}\")\n",
    "else:\n",
    "    print(\"No job runs found.\")\n",
    "\n",
    "\n",
    "response = databrew.describe_job_run(\n",
    "    Name=myProfileJob,\n",
    "    RunId=latest_run_id\n",
    ")\n",
    "\n",
    "# Extract the state from the response\n",
    "job_state = response.get('State', 'Unknown')  # Defaults to 'Unknown' if 'State' is not present\n",
    "\n",
    "print(f\"The job state is: {job_state}\")\n",
    "print(f\"-----\\n-----\\nFull response for your information:\")\n",
    "response"
   ]
  },
  {
   "cell_type": "markdown",
   "metadata": {},
   "source": [
    "<hr style=\"border:1px dotted;color:DarkSeaGreen\">\n",
    "<hr style=\"border:1px dotted;color:ForestGreen\">"
   ]
  },
  {
   "cell_type": "markdown",
   "metadata": {},
   "source": [
    "> # **LAB 2** - Project Playground"
   ]
  },
  {
   "cell_type": "markdown",
   "metadata": {},
   "source": [
    "# <span style=\"color:ForestGreen\">RECIPE</span>\n",
    "## <span style=\"color:ForestGreen\">Create a recipe</span>\n",
    "- create a recipe to perform transformations on our dataset\n",
    "- if creating a recipe via the console, it can obly be created via a project session\n",
    "- however we can create one directly in code that we can then add to a project we also create\n",
    "- this recipe can be played with in a project, reviewed, updated, and published if ready for production\n",
    "- the following tasks are being applied to demonstrate just a very small handful of transformations\n",
    "  - UPPER_CASE - upper case the order status column\n",
    "  - CASE_OPERATION - NEW COLUMN - giving the order status unique values a number to represent the text\n",
    "  - UPPER_CASE - CONDITION - upper case the returned status when the feedback score is < 3\n",
    "  - REPLACE_BETWEEN_POSITIONS - obfuscation of credit card number\n",
    "  - REPLACE_PATTERN - obfuscation of email\n",
    "- https://docs.aws.amazon.com/databrew/latest/dg/recipe-actions.pii.html"
   ]
  },
  {
   "cell_type": "code",
   "execution_count": null,
   "metadata": {},
   "outputs": [],
   "source": [
    "response = databrew.create_recipe(\n",
    "    Name=myRecipe1,\n",
    "    Description=\"recipe 1 - to be demonstrated in a project\",\n",
    "    Steps=[\n",
    "        {\n",
    "            \"Action\": {\n",
    "                \"Operation\": \"UPPER_CASE\",\n",
    "                \"Parameters\": {\"sourceColumn\": \"Order Status\"},\n",
    "            }\n",
    "        },\n",
    "        {\n",
    "            \"Action\": {\n",
    "                \"Operation\": \"CASE_OPERATION\",\n",
    "                \"Parameters\": {\n",
    "                    \"functionStepType\": \"CASE_OPERATION\",\n",
    "                    \"targetColumn\": \"Order Status Key\",\n",
    "                    \"valueExpression\": \"case when `Order Status` = 'DELIVERED' then '4' when `Order Status` = 'SHIPPED' then '3' when `Order Status` = 'CANCELLED' then '2' when `Order Status` = 'PENDING' then '1' else '-99' end\",\n",
    "                    \"withExpressions\": \"[]\",\n",
    "                },\n",
    "            }\n",
    "        },\n",
    "        {\n",
    "            \"Action\": {\n",
    "                \"Operation\": \"UPPER_CASE\",\n",
    "                \"Parameters\": {\"sourceColumn\": \"Return Status\"},\n",
    "            },\n",
    "            \"ConditionExpressions\": [\n",
    "                {\n",
    "                    \"Condition\": \"IS\",\n",
    "                    \"Value\": '[\"Returned\"]',\n",
    "                    \"TargetColumn\": \"Return Status\",\n",
    "                },\n",
    "                {\n",
    "                    \"Condition\": \"LESS_THAN\",\n",
    "                    \"Value\": \"3\",\n",
    "                    \"TargetColumn\": \"Feedback Score\",\n",
    "                },\n",
    "            ],\n",
    "        },\n",
    "        {\n",
    "            \"Action\": {\n",
    "                \"Operation\": \"REPLACE_BETWEEN_POSITIONS\",\n",
    "                \"Parameters\": {\n",
    "                    \"endPosition\": \"11\",\n",
    "                    \"sourceColumn\": \"Credit Card Number\",\n",
    "                    \"startPosition\": \"4\",\n",
    "                    \"value\": \"xxxxxxxx\",\n",
    "                },\n",
    "            }\n",
    "        },\n",
    "        {\n",
    "            \"Action\": {\n",
    "                \"Operation\": \"REPLACE_PATTERN\",\n",
    "                \"Parameters\": {\n",
    "                    \"pattern\": \"^[^@]+(?=@)\",\n",
    "                    \"sourceColumn\": \"Customer Email\",\n",
    "                    \"value\": \"hidden\",\n",
    "                },\n",
    "            }\n",
    "        },\n",
    "    ],\n",
    "    Tags=myTagsDct,\n",
    ")\n",
    "\n",
    "print(\"Done! Move to the next cell ->\")"
   ]
  },
  {
   "cell_type": "markdown",
   "metadata": {},
   "source": [
    "## <span style=\"color:ForestGreen\">Create a project</span>\n",
    "- a project is a playground where you can experiment with recipes\n",
    "- it can use existing recipes, and review and update them\n",
    "- or you can create new recipes in a project, and publish them if production ready\n",
    "- once created, you can play with this project via the console"
   ]
  },
  {
   "cell_type": "code",
   "execution_count": null,
   "metadata": {},
   "outputs": [],
   "source": [
    "response = databrew.create_project(\n",
    "    Name=myProject,\n",
    "    DatasetName=myDataSet,\n",
    "    RecipeName=myRecipe1,\n",
    "    Sample={\n",
    "        'Size': 1000,\n",
    "        'Type': 'FIRST_N'\n",
    "    },\n",
    "    RoleArn=myRoleDataBrewARN,\n",
    "    Tags=myTagsDct,\n",
    ")\n",
    "\n",
    "\n",
    "print ('Done! Move to the next cell ->')"
   ]
  },
  {
   "cell_type": "markdown",
   "metadata": {},
   "source": [
    "<hr style=\"border:1px dotted;color:ForestGreen\">\n",
    "<hr style=\"border:1px dotted;color:SandyBrown\">"
   ]
  },
  {
   "cell_type": "markdown",
   "metadata": {},
   "source": [
    "> # **LAB 3** - Transformations"
   ]
  },
  {
   "cell_type": "markdown",
   "metadata": {},
   "source": [
    "# <span style=\"color:SandyBrown\">RECIPE JOB</span>\n",
    "## <span style=\"color:SandyBrown\">Create a recipe</span>\n",
    "- lets create another recipe\n",
    "- we're creating a new one just in case the one created for the project has been changed and played with and already published \n",
    "- this recipe can still be played with in a project, reviewed, updated, and published\n",
    "- but we're going to publish it via code\n",
    "- and add it to a recipe job to execute\n",
    "- its the same recipe as above too :)"
   ]
  },
  {
   "cell_type": "code",
   "execution_count": null,
   "metadata": {},
   "outputs": [],
   "source": [
    "response = databrew.create_recipe(\n",
    "    Name=myRecipe2,\n",
    "    Description=\"recipe 2 - to be published immediately and used in a recipe job\",\n",
    "    Steps=[\n",
    "        {\n",
    "            \"Action\": {\n",
    "                \"Operation\": \"UPPER_CASE\",\n",
    "                \"Parameters\": {\"sourceColumn\": \"Order Status\"},\n",
    "            }\n",
    "        },\n",
    "        {\n",
    "            \"Action\": {\n",
    "                \"Operation\": \"CASE_OPERATION\",\n",
    "                \"Parameters\": {\n",
    "                    \"functionStepType\": \"CASE_OPERATION\",\n",
    "                    \"targetColumn\": \"Order Status Key\",\n",
    "                    \"valueExpression\": \"case when `Order Status` = 'DELIVERED' then '4' when `Order Status` = 'SHIPPED' then '3' when `Order Status` = 'CANCELLED' then '2' when `Order Status` = 'PENDING' then '1' else '-99' end\",\n",
    "                    \"withExpressions\": \"[]\",\n",
    "                },\n",
    "            }\n",
    "        },\n",
    "        {\n",
    "            \"Action\": {\n",
    "                \"Operation\": \"UPPER_CASE\",\n",
    "                \"Parameters\": {\"sourceColumn\": \"Return Status\"},\n",
    "            },\n",
    "            \"ConditionExpressions\": [\n",
    "                {\n",
    "                    \"Condition\": \"IS\",\n",
    "                    \"Value\": '[\"Returned\"]',\n",
    "                    \"TargetColumn\": \"Return Status\",\n",
    "                },\n",
    "                {\n",
    "                    \"Condition\": \"LESS_THAN\",\n",
    "                    \"Value\": \"3\",\n",
    "                    \"TargetColumn\": \"Feedback Score\",\n",
    "                },\n",
    "            ],\n",
    "        },\n",
    "        {\n",
    "            \"Action\": {\n",
    "                \"Operation\": \"REPLACE_BETWEEN_POSITIONS\",\n",
    "                \"Parameters\": {\n",
    "                    \"endPosition\": \"11\",\n",
    "                    \"sourceColumn\": \"Credit Card Number\",\n",
    "                    \"startPosition\": \"4\",\n",
    "                    \"value\": \"xxxxxxxx\",\n",
    "                },\n",
    "            }\n",
    "        },\n",
    "        {\n",
    "            \"Action\": {\n",
    "                \"Operation\": \"REPLACE_PATTERN\",\n",
    "                \"Parameters\": {\n",
    "                    \"pattern\": \"^[^@]+(?=@)\",\n",
    "                    \"sourceColumn\": \"Customer Email\",\n",
    "                    \"value\": \"hidden\",\n",
    "                },\n",
    "            }\n",
    "        },\n",
    "    ],\n",
    "    Tags=myTagsDct,\n",
    ")\n",
    "\n",
    "print(\"Done! Move to the next cell ->\")"
   ]
  },
  {
   "cell_type": "markdown",
   "metadata": {},
   "source": [
    "## <span style=\"color:SandyBrown\">Publish a recipe</span>\n",
    "- publish the recipe to a new version so it can be used by a recipe job\n",
    "- a published version will be created (v1.0 in this case)\n",
    "- and a new working version will be created for experimentation in a project (v1.1 in this case)"
   ]
  },
  {
   "cell_type": "code",
   "execution_count": null,
   "metadata": {},
   "outputs": [],
   "source": [
    "response = databrew.publish_recipe(\n",
    "    Description='Published my recipe to demo its availability and use in a recipe job',\n",
    "    Name=myRecipe2\n",
    ")\n",
    "\n",
    "# Extract the state from the response\n",
    "response = databrew.describe_recipe(Name=myRecipe2)\n",
    "myRecipe2Version = response.get(\"RecipeVersion\", \"x.x\")\n",
    "\n",
    "print ('Done! Move to the next cell ->')"
   ]
  },
  {
   "cell_type": "markdown",
   "metadata": {},
   "source": [
    "## <span style=\"color:SandyBrown\">Create a recipe job</span>\n",
    "- create a recipe job to run the recipe"
   ]
  },
  {
   "cell_type": "code",
   "execution_count": null,
   "metadata": {},
   "outputs": [],
   "source": [
    "response = databrew.create_recipe_job(\n",
    "    Name=myRecipeJob,\n",
    "    DatasetName=myDataSet,\n",
    "    LogSubscription=\"ENABLE\",\n",
    "    MaxCapacity=2,\n",
    "    MaxRetries=1,\n",
    "    Outputs=[\n",
    "        {\n",
    "            \"Format\": \"CSV\",\n",
    "            \"Location\": {\n",
    "                \"Bucket\": myBucketDataBrew,\n",
    "                \"Key\": \"output/\",\n",
    "                \"BucketOwner\": myAccountNumber,\n",
    "            },\n",
    "            \"Overwrite\": False,\n",
    "            'MaxOutputFiles': 1\n",
    "        }\n",
    "    ],\n",
    "    RecipeReference={\"Name\": myRecipe2, \"RecipeVersion\": myRecipe2Version},\n",
    "    RoleArn=myRoleDataBrewARN,\n",
    "    Timeout=10,\n",
    "    Tags=myTagsDct,\n",
    ")\n",
    "\n",
    "print(\"Done! Move to the next cell ->\")"
   ]
  },
  {
   "cell_type": "markdown",
   "metadata": {},
   "source": [
    "## <span style=\"color:SandyBrown\">Lets run the recipe job</span>\n",
    "- We can also schedule the job to run if we prefer"
   ]
  },
  {
   "cell_type": "code",
   "execution_count": null,
   "metadata": {},
   "outputs": [],
   "source": [
    "response = databrew.start_job_run(\n",
    "    Name=myRecipeJob\n",
    ")\n",
    "\n",
    "print ('Done! Move to the next cell ->')"
   ]
  },
  {
   "cell_type": "markdown",
   "metadata": {},
   "source": [
    "## <span style=\"color:SandyBrown\">And we can monitor its run</span>\n",
    "- Run the next cell <span style=\"color:deeppink\">as many times as you want</span> until the State reports a finished run\n",
    "- One of 'STOPPED'|'SUCCEEDED'|'FAILED'|'TIMEOUT'"
   ]
  },
  {
   "cell_type": "code",
   "execution_count": null,
   "metadata": {},
   "outputs": [],
   "source": [
    "response = databrew.list_job_runs(\n",
    "    Name=myRecipeJob\n",
    ")\n",
    "\n",
    "# Extract job runs\n",
    "job_runs = response.get('JobRuns', [])\n",
    "\n",
    "# Find the latest job run based on StartTime\n",
    "if job_runs:\n",
    "    latest_job = max(job_runs, key=lambda x: x.get('StartTime', 0))\n",
    "    latest_run_id = latest_job.get('RunId')\n",
    "    print(f\"The latest RunId is: {latest_run_id}\")\n",
    "else:\n",
    "    print(\"No job runs found.\")\n",
    "\n",
    "\n",
    "response = databrew.describe_job_run(\n",
    "    Name=myRecipeJob,\n",
    "    RunId=latest_run_id\n",
    ")\n",
    "\n",
    "# Extract the state from the response\n",
    "job_state = response.get('State', 'Unknown')  # Defaults to 'Unknown' if 'State' is not present\n",
    "\n",
    "print(f\"The job state is: {job_state}\")\n",
    "print(f\"-----\\n-----\\nFull response for your information:\")\n",
    "response"
   ]
  },
  {
   "cell_type": "markdown",
   "metadata": {},
   "source": [
    "<hr style=\"border:1px dotted;color:SandyBrown\">\n",
    "<hr style=\"border:1px dotted;color:deeppink\">"
   ]
  },
  {
   "cell_type": "markdown",
   "metadata": {},
   "source": [
    "# <p style=\"color:deeppink\">STACK 01 COMPLETE!</p>"
   ]
  },
  {
   "cell_type": "markdown",
   "metadata": {},
   "source": [
    "<hr style=\"border:1px dotted;color:deeppink\">\n",
    "<hr style=\"border:1px dotted;color:orangered\">\n",
    "<hr style=\"border:1px dotted;color:orangered\">\n",
    "<hr style=\"border:1px dotted;color:orangered\">"
   ]
  },
  {
   "cell_type": "markdown",
   "metadata": {},
   "source": [
    "# <p style=\"color:orangered\">CLEAN UP!!</p>\n",
    "# <p style=\"color:orangered\">DO NOT RUN THESE UNLESS YOU WANT TO DESTROY EVERYTHING</p>\n",
    "- If you have lost the Kernel:\n",
    "  - Run the cells contained in the <span style=\"color:greenyellow\">Set Up Requirements<span> section before continuing...\n",
    "  - Any IDs or ARNs will have to be manually stated\n",
    "### <p style=\"color:orangered\">Click on the Variables in the tool bar above to display all variables, you'll see those that may have no value if you have lost or stopped your kernel</p>\n"
   ]
  },
  {
   "cell_type": "code",
   "execution_count": null,
   "metadata": {},
   "outputs": [],
   "source": [
    "# delete project\n",
    "try:\n",
    "    databrew.delete_project(Name=myProject)\n",
    "except Exception as err:\n",
    "    print(f'1:{err}')\n",
    "\n",
    "print ('Done! Move to the next cell ->')"
   ]
  },
  {
   "cell_type": "code",
   "execution_count": null,
   "metadata": {},
   "outputs": [],
   "source": [
    "# delete recipe job\n",
    "try:\n",
    "    databrew.delete_job(Name=myRecipeJob)\n",
    "except Exception as err:\n",
    "    print(f'1:{err}')\n",
    "\n",
    "print ('Done! Move to the next cell ->')"
   ]
  },
  {
   "cell_type": "code",
   "execution_count": null,
   "metadata": {},
   "outputs": [],
   "source": [
    "# delete recipes\n",
    "# if no further work has been done on these recipes via the console, this piece of code should delete all that is there\n",
    "# if not, either manually delete remaining recipes via the console or edit this code\n",
    "try:\n",
    "    databrew.delete_recipe_version(\n",
    "        Name=myRecipe2,\n",
    "        RecipeVersion='1.0'\n",
    "    )\n",
    "except Exception as err:\n",
    "    print(f'3:{err}')\n",
    "\n",
    "\n",
    "try:\n",
    "    databrew.delete_recipe_version(\n",
    "        Name=myRecipe1,\n",
    "        RecipeVersion='LATEST_WORKING'\n",
    "    )\n",
    "except Exception as err:\n",
    "    print(f'1:{err}')\n",
    "\n",
    "try:\n",
    "    databrew.delete_recipe_version(\n",
    "        Name=myRecipe2,\n",
    "        RecipeVersion='LATEST_WORKING'\n",
    "    )\n",
    "except Exception as err:\n",
    "    print(f'2:{err}')\n",
    "\n",
    "print ('Done! Move to the next cell ->')"
   ]
  },
  {
   "cell_type": "code",
   "execution_count": null,
   "metadata": {},
   "outputs": [],
   "source": [
    "# delete databrew profile job\n",
    "try:\n",
    "    databrew.delete_job(Name=myProfileJob)\n",
    "except Exception as err:\n",
    "    print(f'1:{err}')\n",
    "\n",
    "print ('Done! Move to the next cell ->')"
   ]
  },
  {
   "cell_type": "code",
   "execution_count": null,
   "metadata": {},
   "outputs": [],
   "source": [
    "# delete databrew rule set\n",
    "try:\n",
    "    databrew.delete_ruleset(Name=myRuleSet)\n",
    "except Exception as err:\n",
    "    print(f'1:{err}')\n",
    "\n",
    "print ('Done! Move to the next cell ->')"
   ]
  },
  {
   "cell_type": "code",
   "execution_count": null,
   "metadata": {},
   "outputs": [],
   "source": [
    "# delete databrew dataset\n",
    "try:\n",
    "    databrew.delete_dataset(Name=myDataSet)\n",
    "except Exception as err:\n",
    "    print(f'1:{err}')\n",
    "\n",
    "print ('Done! Move to the next cell ->')"
   ]
  },
  {
   "cell_type": "code",
   "execution_count": null,
   "metadata": {},
   "outputs": [],
   "source": [
    "# delete roles and policies\n",
    "try:\n",
    "    iam.detach_role_policy(\n",
    "        RoleName=myRoleDataBrew, PolicyArn='arn:aws:iam::{}:policy/{}'.format(myAccountNumber, myPolicyDataBrew)\n",
    "    )\n",
    "except Exception as err:\n",
    "    print(f'1:{err}')\n",
    "\n",
    "try:\n",
    "    iam.delete_role(RoleName=myRoleDataBrew)\n",
    "except Exception as err:\n",
    "    print(f'4:{err}')\n",
    "\n",
    "try:\n",
    "    iam.delete_policy(PolicyArn='arn:aws:iam::{}:policy/{}'.format(myAccountNumber, myPolicyDataBrew))\n",
    "except Exception as err:\n",
    "    print(f'5:{err}')\n",
    "\n",
    "print ('Done! Move to the next cell ->')"
   ]
  },
  {
   "cell_type": "code",
   "execution_count": null,
   "metadata": {},
   "outputs": [],
   "source": [
    "# delete s3 bucket\n",
    "# NOTE WARNING - this will delete all objects in the bucket with NO prompt or confirmation\n",
    "# myBucketDataBrew = 'doit-databrew-bucket-???-???' # look in the console and set here if lost\n",
    "try:\n",
    "    s3r = boto3.resource('s3')\n",
    "    bucket = s3r.Bucket(myBucketDataBrew)\n",
    "    bucket.objects.all().delete()\n",
    "except Exception as err:\n",
    "    print(f'9:{err}')\n",
    "\n",
    "try:\n",
    "    # delete the bucket\n",
    "    response = s3.delete_bucket(Bucket=myBucketDataBrew)\n",
    "except Exception as err:\n",
    "    print(f'9:{err}')\n",
    "\n",
    "print ('Done! Move to the next cell ->')"
   ]
  },
  {
   "cell_type": "markdown",
   "metadata": {},
   "source": [
    "<hr style=\"border:1px dotted;color:coral\">\n",
    "<hr style=\"border:1px dotted;color:coral\">\n",
    "<hr style=\"border:1px dotted;color:coral\">\n",
    "<hr style=\"border:1px dotted;color:gold\">\n",
    "<hr style=\"border:1px dotted;color:gold\">\n",
    "<hr style=\"border:1px dotted;color:gold\">"
   ]
  },
  {
   "cell_type": "markdown",
   "metadata": {},
   "source": [
    "# <p style=\"color:gold\">Appendix - Jupyter Install Requirements (macOS)</p>\n",
    "#### <p style=\"color:deeppink\">- If you are running VSCode on a laptop, follow all of below.<br>- If you are running Jupyter inside an AWS Account, you don't need to do anything!</p>\n",
    "\n",
    "  - Credentials to the AWS account this notebook executes in is provided by AWS configure\n",
    "  - You must already have an IAM user with code (Command Line Interface) access and AWS access keys to be able to use these credentials in AWS configure  \n",
    "    \n",
    "  - arn:aws:iam::###########:user/simon-davies-cli was created for this lab when the workshop was presented\n",
    "\n",
    "### <p style=\"color:gold\">1. Homebrew</p> \n",
    "If you haven't installed Homebrew, you can install it by running the following command here or in the terminal:"
   ]
  },
  {
   "cell_type": "code",
   "execution_count": null,
   "metadata": {},
   "outputs": [],
   "source": [
    "%%bash\n",
    "sudo /bin/bash -c \"$(curl -fsSL https://raw.githubusercontent.com/Homebrew/install/HEAD/install.sh)\""
   ]
  },
  {
   "cell_type": "markdown",
   "metadata": {},
   "source": [
    "### <p style=\"color:gold\">1.1 Virtual Environments</p> \n",
    "- You can create a virtual environment that ensures any libraries you install are restricted to the venv.\n",
    "  - https://code.visualstudio.com/docs/python/environments\n",
    "- To enable the virtual environment once you have created it, ensure you open the folder in vs code rather than individual files."
   ]
  },
  {
   "cell_type": "code",
   "execution_count": null,
   "metadata": {},
   "outputs": [],
   "source": [
    "%%bash\n",
    "sudo /bin/bash -c \"$(curl -fsSL https://raw.githubusercontent.com/Homebrew/install/HEAD/install.sh)\""
   ]
  },
  {
   "cell_type": "markdown",
   "metadata": {},
   "source": [
    "### <p style=\"color:gold\">1.2 Python</p> \n",
    "Once Homebrew is installed, you can install Python using the following command  \n",
    "*check what you have before installing/upgrading*  \n",
    "*you will need to quit and restart vsCode to use python once installed (or updated)*"
   ]
  },
  {
   "cell_type": "code",
   "execution_count": null,
   "metadata": {
    "vscode": {
     "languageId": "shellscript"
    }
   },
   "outputs": [],
   "source": [
    "%%bash\n",
    "python3 --version\n",
    "which python3"
   ]
  },
  {
   "cell_type": "code",
   "execution_count": null,
   "metadata": {
    "vscode": {
     "languageId": "shellscript"
    }
   },
   "outputs": [],
   "source": [
    "%%bash\n",
    "brew install python"
   ]
  },
  {
   "cell_type": "markdown",
   "metadata": {},
   "source": [
    "### <p style=\"color:gold\">2. boto3 and other Python requirements</p> \n",
    "* boto3 must be installed on your client\n",
    "  * *Boto3 is the Amazon Web Services (AWS) Software Development Kit (SDK) for Python, which allows Python developers to write software that makes use of services like Amazon S3 and Amazon EC2.*\n",
    "  * https://boto3.amazonaws.com/v1/documentation/api/latest/index.html  \n",
    "  \n",
    "*check what you have before installing/upgrading*  "
   ]
  },
  {
   "cell_type": "code",
   "execution_count": null,
   "metadata": {
    "vscode": {
     "languageId": "shellscript"
    }
   },
   "outputs": [],
   "source": [
    "%%bash\n",
    "python3 -m pip show boto3"
   ]
  },
  {
   "cell_type": "code",
   "execution_count": null,
   "metadata": {
    "vscode": {
     "languageId": "shellscript"
    }
   },
   "outputs": [],
   "source": [
    "pip install -U boto3"
   ]
  },
  {
   "cell_type": "markdown",
   "metadata": {},
   "source": [
    "### <p style=\"color:gold\">3. aws configure</p> \n",
    "*Configure aws configure with credentials, and a user that has all of the Bedrock IAM policies required*  \n",
    "https://docs.aws.amazon.com/bedrock/latest/userguide/security_iam_id-based-policy-examples.html\n",
    "  \n",
    "*You will need AWS CLI*  \n",
    "https://docs.aws.amazon.com/cli/latest/userguide/cli-chap-getting-started.html"
   ]
  },
  {
   "cell_type": "code",
   "execution_count": null,
   "metadata": {
    "vscode": {
     "languageId": "shellscript"
    }
   },
   "outputs": [],
   "source": [
    "%%bash\n",
    "aws sts get-caller-identity"
   ]
  },
  {
   "cell_type": "markdown",
   "metadata": {},
   "source": [
    "<hr style=\"border:1px dotted;color:gold\">"
   ]
  }
 ],
 "metadata": {
  "kernelspec": {
   "display_name": "Python 3",
   "language": "python",
   "name": "python3"
  },
  "language_info": {
   "codemirror_mode": {
    "name": "ipython",
    "version": 3
   },
   "file_extension": ".py",
   "mimetype": "text/x-python",
   "name": "python",
   "nbconvert_exporter": "python",
   "pygments_lexer": "ipython3",
   "version": "3.11.6"
  }
 },
 "nbformat": 4,
 "nbformat_minor": 2
}
